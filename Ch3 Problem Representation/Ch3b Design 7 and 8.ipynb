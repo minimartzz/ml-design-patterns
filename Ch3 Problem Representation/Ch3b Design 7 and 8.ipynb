{
 "cells": [
  {
   "attachments": {},
   "cell_type": "markdown",
   "metadata": {},
   "source": [
    "# Ch 3b: Design Patterns 7 and 8\n",
    "\n",
    "Design Pattern 7: Ensembles\n",
    "\n",
    "Design Pattern 8: Cascade"
   ]
  },
  {
   "attachments": {},
   "cell_type": "markdown",
   "metadata": {},
   "source": [
    "# Design 7: Ensembles\n",
    "\n",
    "Boosting, Bagging and Stacking. But only focus on Stacking\n",
    "\n",
    "Stacking combines the output of initial models, usually of different types, and feeds them into a secondary meta-model as features. This second meta-model learns how to best combine the outputs to decrease the training error. Any problem type is accepted"
   ]
  },
  {
   "attachments": {},
   "cell_type": "markdown",
   "metadata": {},
   "source": [
    "## Stacking model"
   ]
  },
  {
   "cell_type": "code",
   "execution_count": 1,
   "metadata": {},
   "outputs": [],
   "source": [
    "import os\n",
    "\n",
    "import pandas as pd\n",
    "import tensorflow as tf\n",
    "\n",
    "from tensorflow import keras\n",
    "from tensorflow import feature_column as fc\n",
    "from tensorflow.keras import layers, models, Model"
   ]
  },
  {
   "cell_type": "code",
   "execution_count": 2,
   "metadata": {},
   "outputs": [
    {
     "data": {
      "text/html": [
       "<div>\n",
       "<style scoped>\n",
       "    .dataframe tbody tr th:only-of-type {\n",
       "        vertical-align: middle;\n",
       "    }\n",
       "\n",
       "    .dataframe tbody tr th {\n",
       "        vertical-align: top;\n",
       "    }\n",
       "\n",
       "    .dataframe thead th {\n",
       "        text-align: right;\n",
       "    }\n",
       "</style>\n",
       "<table border=\"1\" class=\"dataframe\">\n",
       "  <thead>\n",
       "    <tr style=\"text-align: right;\">\n",
       "      <th></th>\n",
       "      <th>weight_pounds</th>\n",
       "      <th>is_male</th>\n",
       "      <th>mother_age</th>\n",
       "      <th>plurality</th>\n",
       "      <th>gestation_weeks</th>\n",
       "      <th>mother_race</th>\n",
       "    </tr>\n",
       "  </thead>\n",
       "  <tbody>\n",
       "    <tr>\n",
       "      <th>0</th>\n",
       "      <td>7.749249</td>\n",
       "      <td>False</td>\n",
       "      <td>12</td>\n",
       "      <td>Single(1)</td>\n",
       "      <td>40</td>\n",
       "      <td>1.0</td>\n",
       "    </tr>\n",
       "    <tr>\n",
       "      <th>1</th>\n",
       "      <td>7.561856</td>\n",
       "      <td>True</td>\n",
       "      <td>12</td>\n",
       "      <td>Single(1)</td>\n",
       "      <td>40</td>\n",
       "      <td>2.0</td>\n",
       "    </tr>\n",
       "    <tr>\n",
       "      <th>2</th>\n",
       "      <td>7.187070</td>\n",
       "      <td>False</td>\n",
       "      <td>12</td>\n",
       "      <td>Single(1)</td>\n",
       "      <td>34</td>\n",
       "      <td>3.0</td>\n",
       "    </tr>\n",
       "    <tr>\n",
       "      <th>3</th>\n",
       "      <td>6.375769</td>\n",
       "      <td>True</td>\n",
       "      <td>12</td>\n",
       "      <td>Single(1)</td>\n",
       "      <td>36</td>\n",
       "      <td>2.0</td>\n",
       "    </tr>\n",
       "    <tr>\n",
       "      <th>4</th>\n",
       "      <td>7.936641</td>\n",
       "      <td>False</td>\n",
       "      <td>12</td>\n",
       "      <td>Single(1)</td>\n",
       "      <td>35</td>\n",
       "      <td>NaN</td>\n",
       "    </tr>\n",
       "  </tbody>\n",
       "</table>\n",
       "</div>"
      ],
      "text/plain": [
       "   weight_pounds  is_male  mother_age  plurality  gestation_weeks  mother_race\n",
       "0       7.749249    False          12  Single(1)               40          1.0\n",
       "1       7.561856     True          12  Single(1)               40          2.0\n",
       "2       7.187070    False          12  Single(1)               34          3.0\n",
       "3       6.375769     True          12  Single(1)               36          2.0\n",
       "4       7.936641    False          12  Single(1)               35          NaN"
      ]
     },
     "execution_count": 2,
     "metadata": {},
     "output_type": "execute_result"
    }
   ],
   "source": [
    "df = pd.read_csv('data/babyweight_train.csv')\n",
    "df.head()"
   ]
  },
  {
   "attachments": {},
   "cell_type": "markdown",
   "metadata": {},
   "source": [
    "Create `tf.data` input pipeline"
   ]
  },
  {
   "cell_type": "code",
   "execution_count": 3,
   "metadata": {},
   "outputs": [],
   "source": [
    "# Get Label and key columns\n",
    "CSV_COLUMNS = [\n",
    "\t'weight_pounds',\n",
    "\t'is_male',\n",
    "\t'mother_age',\n",
    "\t'plurality',\n",
    "\t'gestation_weeks',\n",
    "\t'mother_race'\n",
    "]\n",
    "\n",
    "# Add string name for label columns\n",
    "LABEL_COLUMN = 'weight_pounds'\n",
    "\n",
    "# Treate is_male and plurality as strings\n",
    "DEFAULTS = [[0.0], [\"null\"], [0.0], [\"null\"], [0.0], [\"0\"]]"
   ]
  },
  {
   "cell_type": "code",
   "execution_count": 4,
   "metadata": {},
   "outputs": [],
   "source": [
    "def get_dataset(file_path):\n",
    "  dataset = tf.data.experimental.make_csv_dataset(\n",
    "    file_path,\n",
    "    batch_size=15,\n",
    "    label_name=LABEL_COLUMN,\n",
    "    select_columns=CSV_COLUMNS,\n",
    "    column_defaults=DEFAULTS,\n",
    "    num_epochs=1,\n",
    "    ignore_errors=True\n",
    "  )\n",
    "  return dataset\n",
    "\n",
    "train_data = get_dataset(\"./data/babyweight_train.csv\")\n",
    "test_data = get_dataset(\"./data/babyweight_eval.csv\")"
   ]
  },
  {
   "cell_type": "code",
   "execution_count": 5,
   "metadata": {},
   "outputs": [
    {
     "name": "stdout",
     "output_type": "stream",
     "text": [
      "is_male: [b'False' b'True' b'True' b'True' b'True' b'False' b'False' b'False'\n",
      " b'True' b'False' b'True' b'True' b'True' b'False' b'True']\n",
      "mother_age: [16. 18. 17. 16. 14. 17. 17. 16. 17. 16. 17. 17. 16. 16. 17.]\n",
      "plurality: [b'Single(1)' b'Single(1)' b'Single(1)' b'Single(1)' b'Single(1)'\n",
      " b'Single(1)' b'Single(1)' b'Twins(2)' b'Twins(2)' b'Single(1)'\n",
      " b'Single(1)' b'Single(1)' b'Single(1)' b'Single(1)' b'Single(1)']\n",
      "gestation_weeks: [41. 38. 39. 38. 38. 41. 38. 37. 34. 41. 39. 37. 39. 33. 37.]\n",
      "mother_race: [b'0' b'0' b'2.0' b'1.0' b'0' b'2.0' b'1.0' b'1.0' b'0' b'1.0' b'0' b'1.0'\n",
      " b'1.0' b'0' b'0']\n"
     ]
    }
   ],
   "source": [
    "def show_batch(dataset):\n",
    "  for batch, label in dataset.take(1):\n",
    "    for key, value in batch.items():\n",
    "      print(f\"{key}: {value.numpy()}\")\n",
    "\n",
    "show_batch(train_data)"
   ]
  },
  {
   "attachments": {},
   "cell_type": "markdown",
   "metadata": {},
   "source": [
    "Create feature columns"
   ]
  },
  {
   "cell_type": "code",
   "execution_count": 6,
   "metadata": {},
   "outputs": [],
   "source": [
    "numeric_columns = [fc.numeric_column('mother_age'),\n",
    "                   fc.numeric_column('gestation_weeks')]\n",
    "CATEGORIES = {\n",
    "    'plurality': [\"Single(1)\", \"Twins(2)\", \"Triplets(3)\",\n",
    "                  \"Quadruplets(4)\", \"Quintuplets(5)\", \"Multiple(2+)\"],\n",
    "    'is_male' : [\"True\", \"False\", \"Unknown\"],\n",
    "    'mother_race': [str(_) for _ in df.mother_race.unique()]\n",
    "}\n",
    "\n",
    "categorical_columns = []\n",
    "for feature, vocab in CATEGORIES.items():\n",
    "  cat_col = fc.categorical_column_with_vocabulary_list(\n",
    "    key=feature,\n",
    "    vocabulary_list=vocab\n",
    "  )\n",
    "  categorical_columns.append(fc.indicator_column(cat_col))"
   ]
  },
  {
   "attachments": {},
   "cell_type": "markdown",
   "metadata": {},
   "source": [
    "Create ensemble models"
   ]
  },
  {
   "cell_type": "code",
   "execution_count": 7,
   "metadata": {},
   "outputs": [],
   "source": [
    "inputs = {colname: tf.keras.layers.Input(\n",
    "\tname=colname, shape=(), dtype='float32'\n",
    ") for colname in ['mother_age', 'gestation_weeks']}\n",
    "\n",
    "inputs.update({colname: tf.keras.layers.Input(\n",
    "\tname=colname, shape=(), dtype='string'\n",
    ") for colname in ['is_male', 'plurality', 'mother_race']})\n",
    "\n",
    "dnn_inputs = layers.DenseFeatures(categorical_columns + numeric_columns)(inputs)\n",
    "\n",
    "# model_1\n",
    "model1_h1 = layers.Dense(50, activation='relu')(dnn_inputs)\n",
    "model1_h2 = layers.Dense(30, activation='relu')(model1_h1)\n",
    "model1_output = layers.Dense(1, activation='relu')(model1_h2)\n",
    "model_1 = tf.keras.models.Model(inputs=inputs, outputs=model1_output, name='model_1')\n",
    "\n",
    "# model_2\n",
    "model2_h1 = layers.Dense(64, activation='relu')(dnn_inputs)\n",
    "model2_h2 = layers.Dense(32, activation='relu')(model2_h1)\n",
    "model2_output = layers.Dense(1, activation='relu')(model2_h2)\n",
    "model_2 = tf.keras.models.Model(inputs=inputs, outputs=model2_output, name='model_2')\n",
    "\n",
    "# model_3\n",
    "model3_h1 = layers.Dense(32, activation='relu')(dnn_inputs)\n",
    "model3_output = layers.Dense(1, activation='relu')(model3_h1)\n",
    "model_3 = tf.keras.models.Model(inputs=inputs, outputs=model3_output, name='model_3')"
   ]
  },
  {
   "cell_type": "code",
   "execution_count": 8,
   "metadata": {},
   "outputs": [],
   "source": [
    "def fit_model(model):\n",
    "  # define model\n",
    "  model.compile(\n",
    "    loss=tf.keras.losses.MeanSquaredError(),\n",
    "    optimizer='adam',\n",
    "    metrics=['mse']\n",
    "  )\n",
    "\n",
    "  # fit model\n",
    "  model.fit(train_data.shuffle(500), epochs=1)\n",
    "  \n",
    "  # evaluate model\n",
    "  test_loss, test_mse = model.evaluate(test_data)\n",
    "  print(f\"\\n\\n{model.name}:\\n Test Loss {test_loss}, Test RMSE{test_mse**0.5}\")\n",
    "\n",
    "  return model"
   ]
  },
  {
   "cell_type": "code",
   "execution_count": 9,
   "metadata": {},
   "outputs": [
    {
     "name": "stdout",
     "output_type": "stream",
     "text": [
      "directory already exists\n"
     ]
    }
   ],
   "source": [
    "try:\n",
    "\tos.makedirs('models')\n",
    "except:\n",
    "\tprint('directory already exists')"
   ]
  },
  {
   "attachments": {},
   "cell_type": "markdown",
   "metadata": {},
   "source": [
    "Train each neural network and save the trained model to file"
   ]
  },
  {
   "cell_type": "code",
   "execution_count": 10,
   "metadata": {},
   "outputs": [
    {
     "name": "stdout",
     "output_type": "stream",
     "text": [
      "17531/17531 [==============================] - 151s 8ms/step - loss: 54.0357 - mse: 54.0357\n",
      "4343/4343 [==============================] - 30s 7ms/step - loss: 54.1936 - mse: 54.1936\n",
      "\n",
      "\n",
      "model_1:\n",
      " Test Loss 54.193626403808594, Test RMSE7.361632047569927\n",
      "Saved models/model_1.h5\n",
      "\n",
      "17531/17531 [==============================] - 147s 8ms/step - loss: 1.1004 - mse: 1.1004\n",
      "4343/4343 [==============================] - 32s 7ms/step - loss: 2.3300 - mse: 2.3300\n",
      "\n",
      "\n",
      "model_2:\n",
      " Test Loss 2.330007791519165, Test RMSE1.5264363044422014\n",
      "Saved models/model_2.h5\n",
      "\n",
      "17531/17531 [==============================] - 140s 8ms/step - loss: 1.1117 - mse: 1.1117\n",
      "4343/4343 [==============================] - 30s 7ms/step - loss: 1.3806 - mse: 1.3806\n",
      "\n",
      "\n",
      "model_3:\n",
      " Test Loss 1.3805581331253052, Test RMSE1.1749715456662366\n",
      "Saved models/model_3.h5\n",
      "\n"
     ]
    }
   ],
   "source": [
    "members = [model_1, model_2, model_3]\n",
    "\n",
    "# fit and save models\n",
    "n_members = len(members)\n",
    "\n",
    "for i in range(n_members):\n",
    "  # fit model\n",
    "  model = fit_model(members[i])\n",
    "  \n",
    "  # save model\n",
    "  filename = f\"models/model_{str(i + 1)}.h5\"\n",
    "  model.save(filename, save_format='tf')\n",
    "  print(f\"Saved {filename}\\n\")"
   ]
  },
  {
   "attachments": {},
   "cell_type": "markdown",
   "metadata": {},
   "source": [
    "### Load the trained models and create the stacked ensemble model\n",
    "\n",
    "Loads the models trained above and returns them as a list"
   ]
  },
  {
   "cell_type": "code",
   "execution_count": 22,
   "metadata": {},
   "outputs": [
    {
     "name": "stdout",
     "output_type": "stream",
     "text": [
      ">loaded models/model_1.h5\n",
      ">loaded models/model_2.h5\n",
      ">loaded models/model_3.h5\n"
     ]
    }
   ],
   "source": [
    "# Load trained models from file\n",
    "def load_models(n_models):\n",
    "  all_models = []\n",
    "  for i in range(n_models):\n",
    "    filename = f\"models/model_{str(i + 1)}.h5\"\n",
    "    # load model from file\n",
    "    model = models.load_model(filename)\n",
    "    # add to list of members\n",
    "    all_models.append(model)\n",
    "    print(f\">loaded {filename}\")\n",
    "  \n",
    "  return all_models\n",
    "\n",
    "# Load all models\n",
    "members = load_models(n_members)"
   ]
  },
  {
   "attachments": {},
   "cell_type": "markdown",
   "metadata": {},
   "source": [
    "Freeze the layers for the pre-trained model, since their weights will no longer be updated during the stacking portion. The Stacked Ensemble will be trainable and learn how to best combine the results of the ensemble members"
   ]
  },
  {
   "cell_type": "code",
   "execution_count": 23,
   "metadata": {},
   "outputs": [],
   "source": [
    "# update all layers in all models not to be trainable\n",
    "for i in range(n_members):\n",
    "  model = members[i]\n",
    "  for layer in model.layers:\n",
    "    # make not trainable\n",
    "    layer.trainable = False\n",
    "    # rename to avoid 'unique layer name' issue\n",
    "    layer._name = f\"ensemble_{str(i + 1)}_{layer.name}\""
   ]
  },
  {
   "attachments": {},
   "cell_type": "markdown",
   "metadata": {},
   "source": [
    "Create the Stacked Ensemble model - also a NN"
   ]
  },
  {
   "cell_type": "code",
   "execution_count": 24,
   "metadata": {},
   "outputs": [
    {
     "name": "stdout",
     "output_type": "stream",
     "text": [
      "You must install pydot (`pip install pydot`) and install graphviz (see instructions at https://graphviz.gitlab.io/download/) for plot_model to work.\n"
     ]
    }
   ],
   "source": [
    "member_inputs = [model.input for model in members]\n",
    "\n",
    "# concatenate merger output from each model\n",
    "member_outputs = [model.output for model in members]\n",
    "merge = layers.concatenate(member_outputs)\n",
    "\n",
    "# building the layers of the ensemble model\n",
    "h1 = layers.Dense(30, activation='relu')(merge)\n",
    "h2 = layers.Dense(20, activation='relu')(h1)\n",
    "h3 = layers.Dense(10, activation='relu')(h2)\n",
    "h4 = layers.Dense(5, activation='relu')(h2)\n",
    "ensemble_output = layers.Dense(1, activation='relu')(h3)\n",
    "ensemble_model = Model(inputs=member_inputs, outputs=ensemble_output)\n",
    "\n",
    "# plot graph of ensemble\n",
    "tf.keras.utils.plot_model(ensemble_model, show_shapes=True, to_file='ensemble_graph.png')\n",
    "\n",
    "# compile\n",
    "ensemble_model.compile(loss='mse', optimizer='adam', metrics=['mse'])"
   ]
  },
  {
   "cell_type": "code",
   "execution_count": 25,
   "metadata": {},
   "outputs": [],
   "source": [
    "FEATURES = [\"is_male\", \"mother_age\", \"plurality\",\n",
    "            \"gestation_weeks\", \"mother_race\"]\n",
    "\n",
    "# stack input features for our tf.dataset\n",
    "def stack_features(features, label):\n",
    "    for feature in FEATURES:\n",
    "        for i in range(n_members):\n",
    "            features['ensemble_' + str(i+1) + '_' + feature] = features[feature]\n",
    "        \n",
    "    return features, label\n",
    "\n",
    "ensemble_data = train_data.map(stack_features).repeat(1)"
   ]
  },
  {
   "cell_type": "code",
   "execution_count": 26,
   "metadata": {},
   "outputs": [
    {
     "name": "stdout",
     "output_type": "stream",
     "text": [
      "17531/17531 [==============================] - 248s 14ms/step - loss: 1.1836 - mse: 1.1836\n"
     ]
    },
    {
     "data": {
      "text/plain": [
       "<keras.callbacks.History at 0x2749d4040a0>"
      ]
     },
     "execution_count": 26,
     "metadata": {},
     "output_type": "execute_result"
    }
   ],
   "source": [
    "ensemble_model.fit(ensemble_data.shuffle(500), epochs=1)"
   ]
  },
  {
   "cell_type": "code",
   "execution_count": 27,
   "metadata": {},
   "outputs": [
    {
     "name": "stdout",
     "output_type": "stream",
     "text": [
      "4343/4343 [==============================] - 50s 11ms/step - loss: 1.6197 - mse: 1.6197\n"
     ]
    }
   ],
   "source": [
    "val_loss, val_mse = ensemble_model.evaluate(test_data.map(stack_features))"
   ]
  },
  {
   "cell_type": "code",
   "execution_count": null,
   "metadata": {},
   "outputs": [],
   "source": [
    "print(\"Validation RMSE: {}\".format(val_mse**0.5))"
   ]
  },
  {
   "attachments": {},
   "cell_type": "markdown",
   "metadata": {},
   "source": [
    "---"
   ]
  },
  {
   "attachments": {},
   "cell_type": "markdown",
   "metadata": {},
   "source": [
    "# Design 8: Cascade\n",
    "\n",
    "Training a model to predict the distance that a bicycle will be ridden. Bicycles that ride longer that 4 horus are rare.\n",
    "\n",
    "* __Model 1__: Classifies trips into Typical trips and Long trips\n",
    "* __Model 2__: Regression model 1 for Typical trips\n",
    "* __Model 3__: Regression model 2 for Long trips\n",
    "\n",
    "Combine both models at the end"
   ]
  },
  {
   "cell_type": "code",
   "execution_count": null,
   "metadata": {},
   "outputs": [],
   "source": []
  },
  {
   "cell_type": "code",
   "execution_count": null,
   "metadata": {},
   "outputs": [],
   "source": []
  },
  {
   "cell_type": "code",
   "execution_count": null,
   "metadata": {},
   "outputs": [],
   "source": []
  },
  {
   "cell_type": "code",
   "execution_count": null,
   "metadata": {},
   "outputs": [],
   "source": []
  }
 ],
 "metadata": {
  "kernelspec": {
   "display_name": "Python 3",
   "language": "python",
   "name": "python3"
  },
  "language_info": {
   "codemirror_mode": {
    "name": "ipython",
    "version": 3
   },
   "file_extension": ".py",
   "mimetype": "text/x-python",
   "name": "python",
   "nbconvert_exporter": "python",
   "pygments_lexer": "ipython3",
   "version": "3.8.5"
  },
  "orig_nbformat": 4,
  "vscode": {
   "interpreter": {
    "hash": "fc1f4863a5dfb7e90f6f0646481ce38df4cdefdf4614ba08727c157218b20914"
   }
  }
 },
 "nbformat": 4,
 "nbformat_minor": 2
}
