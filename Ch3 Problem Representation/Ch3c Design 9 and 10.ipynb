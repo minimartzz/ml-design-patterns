{
 "cells": [
  {
   "attachments": {},
   "cell_type": "markdown",
   "metadata": {},
   "source": [
    "# Ch 3c: Design Patterns 9 and 10\n",
    "\n",
    "Design Pattern 9: Neutral Class\n",
    "\n",
    "Design Pattern 10: Rebalancing"
   ]
  },
  {
   "attachments": {},
   "cell_type": "markdown",
   "metadata": {},
   "source": [
    "# Design Pattern 9: Neutral Class\n",
    "\n",
    "Demostrates on a synthetic dataset that creating a separate Neutral class can be helpful. And then provides a real-world scenario"
   ]
  },
  {
   "attachments": {},
   "cell_type": "markdown",
   "metadata": {},
   "source": [
    "## On Synthetic data\n",
    "\n",
    "Patients with a history of jaundice will be assumed to be at risk of liver damage and prescribed ibuprofen while patients with a history of stomach ulcers will be prescribed acetaminophen. The remaining patients will be arbitrarily assigned to either category."
   ]
  },
  {
   "cell_type": "code",
   "execution_count": 1,
   "metadata": {},
   "outputs": [
    {
     "data": {
      "text/plain": [
       "True"
      ]
     },
     "execution_count": 1,
     "metadata": {},
     "output_type": "execute_result"
    }
   ],
   "source": [
    "import numpy as np\n",
    "import pandas as pd\n",
    "from dotenv import load_dotenv\n",
    "from pathlib import Path\n",
    "import os\n",
    "\n",
    "load_dotenv(dotenv_path=Path(\"../.env\"))"
   ]
  },
  {
   "cell_type": "code",
   "execution_count": 2,
   "metadata": {},
   "outputs": [],
   "source": [
    "%load_ext google.cloud.bigquery\n",
    "from google.cloud import bigquery\n",
    "os.environ[\"GOOGLE_APPLICATION_CREDENTIALS\"] = f\"../{os.environ.get('GCP_KEY_FILE')}\"\n",
    "bq = bigquery.Client()"
   ]
  },
  {
   "cell_type": "code",
   "execution_count": null,
   "metadata": {},
   "outputs": [],
   "source": [
    "# dataset = bq.create_dataset(\"mlpatterns\")"
   ]
  },
  {
   "cell_type": "code",
   "execution_count": 3,
   "metadata": {},
   "outputs": [],
   "source": [
    "def create_synthetic_dataset(N, shuffle):\n",
    "  # random array\n",
    "  prescription = np.full(N, fill_value='acetominophen', dtype='U20')\n",
    "  prescription[:N//2] = 'ibuprofen'\n",
    "  np.random.shuffle(prescription)\n",
    "  \n",
    "  # neutral class\n",
    "  p_neutral = np.full(N, fill_value='Neutral', dtype='U20')\n",
    "\n",
    "  # 10% is patients with history of liver disease\n",
    "  jaundice = np.zeros(N, dtype=bool)\n",
    "  jaundice[0:N//10] = True\n",
    "  prescription[0:N//10] = 'ibuprofen'\n",
    "  p_neutral[0:N//10] = 'ibuprofen'\n",
    "\n",
    "  # 10% is patients with history of stomach ulcers\n",
    "  ulcers = np.zeros(N, dtype=bool)\n",
    "  ulcers[(9*N)//10:] = 'acetominophen'\n",
    "  prescription[(9*N)//10:] = 'acetominophen'\n",
    "  p_neutral[(9*N)//10:] = 'acetominophen'\n",
    "\n",
    "  df = pd.DataFrame.from_dict({\n",
    "    'jaundice': jaundice,\n",
    "    'ulcers': ulcers,\n",
    "    'prescription': prescription,\n",
    "    'prescription_with_neutral': p_neutral\n",
    "  })\n",
    "\n",
    "  if shuffle:\n",
    "    return df.sample(frac=1).reset_index(drop=True)\n",
    "  else:\n",
    "    return df"
   ]
  },
  {
   "cell_type": "code",
   "execution_count": 4,
   "metadata": {},
   "outputs": [
    {
     "data": {
      "text/html": [
       "<div>\n",
       "<style scoped>\n",
       "    .dataframe tbody tr th:only-of-type {\n",
       "        vertical-align: middle;\n",
       "    }\n",
       "\n",
       "    .dataframe tbody tr th {\n",
       "        vertical-align: top;\n",
       "    }\n",
       "\n",
       "    .dataframe thead th {\n",
       "        text-align: right;\n",
       "    }\n",
       "</style>\n",
       "<table border=\"1\" class=\"dataframe\">\n",
       "  <thead>\n",
       "    <tr style=\"text-align: right;\">\n",
       "      <th></th>\n",
       "      <th>jaundice</th>\n",
       "      <th>ulcers</th>\n",
       "      <th>prescription</th>\n",
       "      <th>prescription_with_neutral</th>\n",
       "    </tr>\n",
       "  </thead>\n",
       "  <tbody>\n",
       "    <tr>\n",
       "      <th>0</th>\n",
       "      <td>False</td>\n",
       "      <td>False</td>\n",
       "      <td>ibuprofen</td>\n",
       "      <td>Neutral</td>\n",
       "    </tr>\n",
       "    <tr>\n",
       "      <th>1</th>\n",
       "      <td>False</td>\n",
       "      <td>False</td>\n",
       "      <td>acetominophen</td>\n",
       "      <td>Neutral</td>\n",
       "    </tr>\n",
       "    <tr>\n",
       "      <th>2</th>\n",
       "      <td>False</td>\n",
       "      <td>False</td>\n",
       "      <td>acetominophen</td>\n",
       "      <td>Neutral</td>\n",
       "    </tr>\n",
       "    <tr>\n",
       "      <th>3</th>\n",
       "      <td>False</td>\n",
       "      <td>False</td>\n",
       "      <td>ibuprofen</td>\n",
       "      <td>Neutral</td>\n",
       "    </tr>\n",
       "    <tr>\n",
       "      <th>4</th>\n",
       "      <td>True</td>\n",
       "      <td>False</td>\n",
       "      <td>ibuprofen</td>\n",
       "      <td>ibuprofen</td>\n",
       "    </tr>\n",
       "  </tbody>\n",
       "</table>\n",
       "</div>"
      ],
      "text/plain": [
       "   jaundice  ulcers   prescription prescription_with_neutral\n",
       "0     False   False      ibuprofen                   Neutral\n",
       "1     False   False  acetominophen                   Neutral\n",
       "2     False   False  acetominophen                   Neutral\n",
       "3     False   False      ibuprofen                   Neutral\n",
       "4      True   False      ibuprofen                 ibuprofen"
      ]
     },
     "execution_count": 4,
     "metadata": {},
     "output_type": "execute_result"
    }
   ],
   "source": [
    "df = create_synthetic_dataset(1000, shuffle=True)\n",
    "df.head()"
   ]
  },
  {
   "cell_type": "code",
   "execution_count": 5,
   "metadata": {},
   "outputs": [
    {
     "name": "stdout",
     "output_type": "stream",
     "text": [
      "label=prescription | accuracy=0.6\n",
      "label=prescription_with_neutral | accuracy=1.0\n"
     ]
    }
   ],
   "source": [
    "from sklearn import linear_model\n",
    "for label in ['prescription', 'prescription_with_neutral']:\n",
    "  ntrain = 8*len(df)//10 # 80% used as training data\n",
    "  lm = linear_model.LogisticRegression()\n",
    "  lm = lm.fit(df.loc[:ntrain-1, ['jaundice', 'ulcers']], df[label][:ntrain])\n",
    "  acc = lm.score(df.loc[ntrain:, ['jaundice', 'ulcers']], df[label][ntrain:])\n",
    "  print(f'label={label} | accuracy={acc}')"
   ]
  },
  {
   "attachments": {},
   "cell_type": "markdown",
   "metadata": {},
   "source": [
    "## On Natality data\n",
    "\n",
    "A baby with an Apgar score of 10 is healthy and one with an Apgar score of <= 7 requires some medical attention. What about babies with scores of 8-9? They are neither perfectly healthy, nor do they need serious medical intervention. Let's see how the model does with a 2-class model and with a 3-class model that includes a Neutral class."
   ]
  },
  {
   "attachments": {},
   "cell_type": "markdown",
   "metadata": {},
   "source": [
    "Without the Neutral class"
   ]
  },
  {
   "cell_type": "code",
   "execution_count": 19,
   "metadata": {},
   "outputs": [
    {
     "data": {
      "application/vnd.jupyter.widget-view+json": {
       "model_id": "a8fafe5207be4b178f4b9ea72e6a8e97",
       "version_major": 2,
       "version_minor": 0
      },
      "text/plain": [
       "HBox(children=(FloatProgress(value=0.0, description='Query is running', max=1.0, style=ProgressStyle(descripti…"
      ]
     },
     "metadata": {},
     "output_type": "display_data"
    },
    {
     "name": "stdout",
     "output_type": "stream",
     "text": [
      "\n"
     ]
    },
    {
     "data": {
      "text/html": [
       "<div>\n",
       "<style scoped>\n",
       "    .dataframe tbody tr th:only-of-type {\n",
       "        vertical-align: middle;\n",
       "    }\n",
       "\n",
       "    .dataframe tbody tr th {\n",
       "        vertical-align: top;\n",
       "    }\n",
       "\n",
       "    .dataframe thead th {\n",
       "        text-align: right;\n",
       "    }\n",
       "</style>\n",
       "<table border=\"1\" class=\"dataframe\">\n",
       "  <thead>\n",
       "    <tr style=\"text-align: right;\">\n",
       "      <th></th>\n",
       "    </tr>\n",
       "  </thead>\n",
       "  <tbody>\n",
       "  </tbody>\n",
       "</table>\n",
       "</div>"
      ],
      "text/plain": [
       "Empty DataFrame\n",
       "Columns: []\n",
       "Index: []"
      ]
     },
     "execution_count": 19,
     "metadata": {},
     "output_type": "execute_result"
    }
   ],
   "source": [
    "%%bigquery\n",
    "CREATE OR REPLACE MODEL `mlpatterns.neutral_2classes`\n",
    "OPTIONS(model_type='logistic_reg', input_label_cols=['health']) AS\n",
    "SELECT\n",
    "\tIF(apgar_1min >= 9, 'Healthy', 'NeedsAttention') AS health,\n",
    "\tplurality,\n",
    "\tmother_age,\n",
    "\tgestation_weeks,\n",
    "\tever_born\n",
    "FROM `bigquery-public-data.samples.natality`\n",
    "WHERE apgar_1min <= 10"
   ]
  },
  {
   "cell_type": "code",
   "execution_count": 20,
   "metadata": {},
   "outputs": [
    {
     "data": {
      "application/vnd.jupyter.widget-view+json": {
       "model_id": "19022b9ca7164dea81b1bf6a022f4ea3",
       "version_major": 2,
       "version_minor": 0
      },
      "text/plain": [
       "HBox(children=(FloatProgress(value=0.0, description='Query is running', max=1.0, style=ProgressStyle(descripti…"
      ]
     },
     "metadata": {},
     "output_type": "display_data"
    },
    {
     "name": "stdout",
     "output_type": "stream",
     "text": [
      "\n"
     ]
    },
    {
     "data": {
      "application/vnd.jupyter.widget-view+json": {
       "model_id": "fac7460f8a2c4374abdc65e753d64795",
       "version_major": 2,
       "version_minor": 0
      },
      "text/plain": [
       "HBox(children=(FloatProgress(value=0.0, description='Downloading', max=1.0, style=ProgressStyle(description_wi…"
      ]
     },
     "metadata": {},
     "output_type": "display_data"
    },
    {
     "name": "stdout",
     "output_type": "stream",
     "text": [
      "\n"
     ]
    },
    {
     "data": {
      "text/html": [
       "<div>\n",
       "<style scoped>\n",
       "    .dataframe tbody tr th:only-of-type {\n",
       "        vertical-align: middle;\n",
       "    }\n",
       "\n",
       "    .dataframe tbody tr th {\n",
       "        vertical-align: top;\n",
       "    }\n",
       "\n",
       "    .dataframe thead th {\n",
       "        text-align: right;\n",
       "    }\n",
       "</style>\n",
       "<table border=\"1\" class=\"dataframe\">\n",
       "  <thead>\n",
       "    <tr style=\"text-align: right;\">\n",
       "      <th></th>\n",
       "      <th>precision</th>\n",
       "      <th>recall</th>\n",
       "      <th>accuracy</th>\n",
       "      <th>f1_score</th>\n",
       "      <th>log_loss</th>\n",
       "      <th>roc_auc</th>\n",
       "    </tr>\n",
       "  </thead>\n",
       "  <tbody>\n",
       "    <tr>\n",
       "      <th>0</th>\n",
       "      <td>0.565628</td>\n",
       "      <td>0.997893</td>\n",
       "      <td>0.565213</td>\n",
       "      <td>0.722007</td>\n",
       "      <td>0.690348</td>\n",
       "      <td>0.52722</td>\n",
       "    </tr>\n",
       "  </tbody>\n",
       "</table>\n",
       "</div>"
      ],
      "text/plain": [
       "   precision    recall  accuracy  f1_score  log_loss  roc_auc\n",
       "0   0.565628  0.997893  0.565213  0.722007  0.690348  0.52722"
      ]
     },
     "execution_count": 20,
     "metadata": {},
     "output_type": "execute_result"
    }
   ],
   "source": [
    "%%bigquery\n",
    "SELECT * FROM ML.EVALUATE(MODEL mlpatterns.neutral_2classes)"
   ]
  },
  {
   "attachments": {},
   "cell_type": "markdown",
   "metadata": {},
   "source": [
    "Create a neutral class to hold \"marginal\" scores (8-9) These represents babies that are neither perfectly healthy or require serious medical intervention"
   ]
  },
  {
   "cell_type": "code",
   "execution_count": 9,
   "metadata": {},
   "outputs": [
    {
     "data": {
      "application/vnd.jupyter.widget-view+json": {
       "model_id": "2ff92714d2f04a7da717663f82faf5ca",
       "version_major": 2,
       "version_minor": 0
      },
      "text/plain": [
       "HBox(children=(FloatProgress(value=0.0, description='Query is running', max=1.0, style=ProgressStyle(descripti…"
      ]
     },
     "metadata": {},
     "output_type": "display_data"
    },
    {
     "name": "stdout",
     "output_type": "stream",
     "text": [
      "\n"
     ]
    },
    {
     "data": {
      "text/html": [
       "<div>\n",
       "<style scoped>\n",
       "    .dataframe tbody tr th:only-of-type {\n",
       "        vertical-align: middle;\n",
       "    }\n",
       "\n",
       "    .dataframe tbody tr th {\n",
       "        vertical-align: top;\n",
       "    }\n",
       "\n",
       "    .dataframe thead th {\n",
       "        text-align: right;\n",
       "    }\n",
       "</style>\n",
       "<table border=\"1\" class=\"dataframe\">\n",
       "  <thead>\n",
       "    <tr style=\"text-align: right;\">\n",
       "      <th></th>\n",
       "    </tr>\n",
       "  </thead>\n",
       "  <tbody>\n",
       "  </tbody>\n",
       "</table>\n",
       "</div>"
      ],
      "text/plain": [
       "Empty DataFrame\n",
       "Columns: []\n",
       "Index: []"
      ]
     },
     "execution_count": 9,
     "metadata": {},
     "output_type": "execute_result"
    }
   ],
   "source": [
    "%%bigquery\n",
    "CREATE OR REPLACE MODEL mlpatterns.neutral_3classes\n",
    "OPTIONS(model_type='logistic_reg', input_label_cols=['health'])\n",
    "AS\n",
    "\n",
    "SELECT\n",
    "\tIF (apgar_1min = 10, 'Healthy',\n",
    "  IF (apgar_1min >= 8, 'Neutral', 'Needs Attention')\n",
    "\t) AS health,\n",
    "\tplurality,\n",
    "\tmother_age,\n",
    " \tgestation_weeks,\n",
    "  ever_born\n",
    "FROM `bigquery-public-data.samples.natality`\n",
    "WHERE apgar_1min <= 10"
   ]
  },
  {
   "attachments": {},
   "cell_type": "markdown",
   "metadata": {},
   "source": [
    "The second model which includes the neutral data class has an accurayc of 0.79 vs. the original which is around 0.56"
   ]
  },
  {
   "attachments": {},
   "cell_type": "markdown",
   "metadata": {},
   "source": [
    "# Design Pattern 10: Rebalancing\n",
    "\n",
    "Handle datasets that are inherently imbalanced\n",
    "\n",
    "dataset: https://www.kaggle.com/datasets/ealaxi/paysim1?resource=download"
   ]
  },
  {
   "attachments": {},
   "cell_type": "markdown",
   "metadata": {},
   "source": [
    "## Downsampling"
   ]
  },
  {
   "cell_type": "code",
   "execution_count": 1,
   "metadata": {},
   "outputs": [],
   "source": [
    "import itertools\n",
    "import math\n",
    "import matplotlib.pyplot as plt\n",
    "import pandas as pd\n",
    "import numpy as np\n",
    "import tensorflow as tf\n",
    "import xgboost as xgb\n",
    "\n",
    "from tensorflow import keras\n",
    "from tensorflow.keras import Sequential\n",
    "\n",
    "from sklearn.metrics import confusion_matrix\n",
    "from sklearn.preprocessing import MinMaxScaler\n",
    "from sklearn.utils import shuffle"
   ]
  },
  {
   "cell_type": "code",
   "execution_count": 7,
   "metadata": {},
   "outputs": [
    {
     "data": {
      "text/html": [
       "<div>\n",
       "<style scoped>\n",
       "    .dataframe tbody tr th:only-of-type {\n",
       "        vertical-align: middle;\n",
       "    }\n",
       "\n",
       "    .dataframe tbody tr th {\n",
       "        vertical-align: top;\n",
       "    }\n",
       "\n",
       "    .dataframe thead th {\n",
       "        text-align: right;\n",
       "    }\n",
       "</style>\n",
       "<table border=\"1\" class=\"dataframe\">\n",
       "  <thead>\n",
       "    <tr style=\"text-align: right;\">\n",
       "      <th></th>\n",
       "      <th>step</th>\n",
       "      <th>type</th>\n",
       "      <th>amount</th>\n",
       "      <th>nameOrig</th>\n",
       "      <th>oldbalanceOrg</th>\n",
       "      <th>newbalanceOrig</th>\n",
       "      <th>nameDest</th>\n",
       "      <th>oldbalanceDest</th>\n",
       "      <th>newbalanceDest</th>\n",
       "      <th>isFraud</th>\n",
       "      <th>isFlaggedFraud</th>\n",
       "    </tr>\n",
       "  </thead>\n",
       "  <tbody>\n",
       "    <tr>\n",
       "      <th>0</th>\n",
       "      <td>1</td>\n",
       "      <td>PAYMENT</td>\n",
       "      <td>9839.64</td>\n",
       "      <td>C1231006815</td>\n",
       "      <td>170136.0</td>\n",
       "      <td>160296.36</td>\n",
       "      <td>M1979787155</td>\n",
       "      <td>0.0</td>\n",
       "      <td>0.0</td>\n",
       "      <td>0</td>\n",
       "      <td>0</td>\n",
       "    </tr>\n",
       "    <tr>\n",
       "      <th>1</th>\n",
       "      <td>1</td>\n",
       "      <td>PAYMENT</td>\n",
       "      <td>1864.28</td>\n",
       "      <td>C1666544295</td>\n",
       "      <td>21249.0</td>\n",
       "      <td>19384.72</td>\n",
       "      <td>M2044282225</td>\n",
       "      <td>0.0</td>\n",
       "      <td>0.0</td>\n",
       "      <td>0</td>\n",
       "      <td>0</td>\n",
       "    </tr>\n",
       "    <tr>\n",
       "      <th>2</th>\n",
       "      <td>1</td>\n",
       "      <td>TRANSFER</td>\n",
       "      <td>181.00</td>\n",
       "      <td>C1305486145</td>\n",
       "      <td>181.0</td>\n",
       "      <td>0.00</td>\n",
       "      <td>C553264065</td>\n",
       "      <td>0.0</td>\n",
       "      <td>0.0</td>\n",
       "      <td>1</td>\n",
       "      <td>0</td>\n",
       "    </tr>\n",
       "    <tr>\n",
       "      <th>3</th>\n",
       "      <td>1</td>\n",
       "      <td>CASH_OUT</td>\n",
       "      <td>181.00</td>\n",
       "      <td>C840083671</td>\n",
       "      <td>181.0</td>\n",
       "      <td>0.00</td>\n",
       "      <td>C38997010</td>\n",
       "      <td>21182.0</td>\n",
       "      <td>0.0</td>\n",
       "      <td>1</td>\n",
       "      <td>0</td>\n",
       "    </tr>\n",
       "    <tr>\n",
       "      <th>4</th>\n",
       "      <td>1</td>\n",
       "      <td>PAYMENT</td>\n",
       "      <td>11668.14</td>\n",
       "      <td>C2048537720</td>\n",
       "      <td>41554.0</td>\n",
       "      <td>29885.86</td>\n",
       "      <td>M1230701703</td>\n",
       "      <td>0.0</td>\n",
       "      <td>0.0</td>\n",
       "      <td>0</td>\n",
       "      <td>0</td>\n",
       "    </tr>\n",
       "  </tbody>\n",
       "</table>\n",
       "</div>"
      ],
      "text/plain": [
       "   step      type    amount     nameOrig  oldbalanceOrg  newbalanceOrig  \\\n",
       "0     1   PAYMENT   9839.64  C1231006815       170136.0       160296.36   \n",
       "1     1   PAYMENT   1864.28  C1666544295        21249.0        19384.72   \n",
       "2     1  TRANSFER    181.00  C1305486145          181.0            0.00   \n",
       "3     1  CASH_OUT    181.00   C840083671          181.0            0.00   \n",
       "4     1   PAYMENT  11668.14  C2048537720        41554.0        29885.86   \n",
       "\n",
       "      nameDest  oldbalanceDest  newbalanceDest  isFraud  isFlaggedFraud  \n",
       "0  M1979787155             0.0             0.0        0               0  \n",
       "1  M2044282225             0.0             0.0        0               0  \n",
       "2   C553264065             0.0             0.0        1               0  \n",
       "3    C38997010         21182.0             0.0        1               0  \n",
       "4  M1230701703             0.0             0.0        0               0  "
      ]
     },
     "execution_count": 7,
     "metadata": {},
     "output_type": "execute_result"
    }
   ],
   "source": [
    "fraud_data = pd.read_csv(\"data/synthetic_financial.csv\")\n",
    "fraud_data.head()"
   ]
  },
  {
   "cell_type": "code",
   "execution_count": 8,
   "metadata": {},
   "outputs": [
    {
     "data": {
      "text/plain": [
       "0    31772\n",
       "1     8213\n",
       "Name: isFraud, dtype: int64"
      ]
     },
     "execution_count": 8,
     "metadata": {},
     "output_type": "execute_result"
    }
   ],
   "source": [
    "# Drop columns that aren't used\n",
    "fraud_data = fraud_data.drop(columns=['nameOrig', 'nameDest', 'isFlaggedFraud'])\n",
    "\n",
    "# Create dummy variables for categorical features\n",
    "fraud_data = pd.get_dummies(fraud_data)\n",
    "\n",
    "# Split into fraud and not fraud\n",
    "fraud = fraud_data[fraud_data['isFraud'] == 1]\n",
    "not_fraud = fraud_data[fraud_data['isFraud'] == 0]\n",
    "\n",
    "# Take random sample of not fraud data\n",
    "# \ta 0.005 pct will give an 80/20 split for fraud/ not fraud\n",
    "#   this is because there are just too many not fraud datapoints\n",
    "not_fraud_sample = not_fraud.sample(random_state=42, frac=0.005)\n",
    "\n",
    "# Put dataframe back\n",
    "fraud_data = pd.concat([not_fraud_sample, fraud])\n",
    "frad_data = shuffle(fraud_data, random_state=42)\n",
    "\n",
    "fraud_data['isFraud'].value_counts()"
   ]
  },
  {
   "cell_type": "code",
   "execution_count": 9,
   "metadata": {},
   "outputs": [],
   "source": [
    "# Create train and test sets\n",
    "split = int(fraud_data.shape[0] * 0.8)\n",
    "\n",
    "train = frad_data[:split]\n",
    "test = frad_data[split:]\n",
    "\n",
    "train_labels = train.pop('isFraud')\n",
    "test_labels = test.pop('isFraud')"
   ]
  },
  {
   "cell_type": "code",
   "execution_count": 19,
   "metadata": {},
   "outputs": [
    {
     "data": {
      "text/plain": [
       "XGBClassifier(base_score=0.5, booster='gbtree', colsample_bylevel=1,\n",
       "              colsample_bynode=1, colsample_bytree=1, gamma=0, gpu_id=-1,\n",
       "              importance_type='gain', interaction_constraints='',\n",
       "              learning_rate=0.300000012, max_delta_step=0, max_depth=6,\n",
       "              min_child_weight=1, missing=nan, monotone_constraints='()',\n",
       "              n_estimators=100, n_jobs=0, num_parallel_tree=1, random_state=0,\n",
       "              reg_alpha=0, reg_lambda=1, scale_pos_weight=1, subsample=1,\n",
       "              tree_method='exact', validate_parameters=1, verbosity=None)"
      ]
     },
     "execution_count": 19,
     "metadata": {},
     "output_type": "execute_result"
    }
   ],
   "source": [
    "model = xgb.XGBClassifier()\n",
    "\n",
    "model.fit(train.values, train_labels)"
   ]
  },
  {
   "cell_type": "code",
   "execution_count": 22,
   "metadata": {},
   "outputs": [],
   "source": [
    "y_pred = model.predict(test.values)"
   ]
  },
  {
   "cell_type": "code",
   "execution_count": 24,
   "metadata": {},
   "outputs": [
    {
     "data": {
      "image/png": "[encoded data removed]",
      "text/plain": [
       "<Figure size 640x480 with 2 Axes>"
      ]
     },
     "metadata": {},
     "output_type": "display_data"
    }
   ],
   "source": [
    "# Create confusion matrix\n",
    "cm = confusion_matrix(test_labels.values, y_pred)\n",
    "\n",
    "def plot_confusion_matrix(cm, classes,\n",
    "                          normalize=False,\n",
    "                          title='Confusion matrix',\n",
    "                          cmap=plt.cm.Blues):\n",
    "\t\"\"\"\n",
    "\tThis function prints and plots the confusion matrix.\n",
    "\tNormalization can be applied by setting `normalize=True`.\n",
    "\t\"\"\"\n",
    "\tplt.imshow(cm, interpolation='nearest', cmap=cmap)\n",
    "\tplt.title(title)\n",
    "\tplt.colorbar()\n",
    "\ttick_marks = np.arange(len(classes))\n",
    "\tplt.xticks(tick_marks, classes, rotation=45)\n",
    "\tplt.yticks(tick_marks, classes)\n",
    "\n",
    "\tif normalize:\n",
    "\t\t\tcm = np.round(cm.astype('float') / cm.sum(axis=1)[:, np.newaxis], 3)\n",
    "\n",
    "\tthresh = cm.max() / 2.\n",
    "\tfor i, j in itertools.product(range(cm.shape[0]), range(cm.shape[1])):\n",
    "\t\t\tplt.text(j, i, cm[i, j],\n",
    "\t\t\t\t\t\t\t\thorizontalalignment=\"center\",\n",
    "\t\t\t\t\t\t\t\tcolor=\"white\" if cm[i, j] > thresh else \"black\")\n",
    "\n",
    "\tplt.tight_layout()\n",
    "\tplt.ylabel('True label')\n",
    "\tplt.xlabel('Predicted label')\n",
    "\n",
    "classes = ['not fraud', 'fraud']\n",
    "plot_confusion_matrix(cm, classes, normalize=True)"
   ]
  },
  {
   "attachments": {},
   "cell_type": "markdown",
   "metadata": {},
   "source": [
    "## Weighted classes and output bias\n",
    "\n",
    "Use different fraud detection dataset from BigQuery with fewer minority class examples"
   ]
  },
  {
   "cell_type": "code",
   "execution_count": 15,
   "metadata": {},
   "outputs": [
    {
     "data": {
      "text/plain": [
       "Dataset(DatasetReference('blissful-hash-268906', 'fraud'))"
      ]
     },
     "execution_count": 15,
     "metadata": {},
     "output_type": "execute_result"
    }
   ],
   "source": [
    "# bq.create_dataset('fraud')"
   ]
  },
  {
   "cell_type": "code",
   "execution_count": 5,
   "metadata": {},
   "outputs": [
    {
     "data": {
      "application/vnd.jupyter.widget-view+json": {
       "model_id": "c131c4398af74bdc9889ba13022db326",
       "version_major": 2,
       "version_minor": 0
      },
      "text/plain": [
       "HBox(children=(FloatProgress(value=0.0, description='Query is running', max=1.0, style=ProgressStyle(descripti…"
      ]
     },
     "metadata": {},
     "output_type": "display_data"
    },
    {
     "name": "stdout",
     "output_type": "stream",
     "text": [
      "\n"
     ]
    },
    {
     "data": {
      "application/vnd.jupyter.widget-view+json": {
       "model_id": "6f8476845a25498d95f5d22222f35982",
       "version_major": 2,
       "version_minor": 0
      },
      "text/plain": [
       "HBox(children=(FloatProgress(value=0.0, description='Downloading', max=492.0, style=ProgressStyle(description_…"
      ]
     },
     "metadata": {},
     "output_type": "display_data"
    },
    {
     "name": "stdout",
     "output_type": "stream",
     "text": [
      "\n"
     ]
    }
   ],
   "source": [
    "%%bigquery fraud_df\n",
    "SELECT *\n",
    "FROM\n",
    "\t`bigquery-public-data.ml_datasets.ulb_fraud_detection`\n",
    "WHERE Class = 1"
   ]
  },
  {
   "cell_type": "code",
   "execution_count": 6,
   "metadata": {},
   "outputs": [
    {
     "data": {
      "application/vnd.jupyter.widget-view+json": {
       "model_id": "b69c4d94e6e846fe821a41156651273e",
       "version_major": 2,
       "version_minor": 0
      },
      "text/plain": [
       "HBox(children=(FloatProgress(value=0.0, description='Query is running', max=1.0, style=ProgressStyle(descripti…"
      ]
     },
     "metadata": {},
     "output_type": "display_data"
    },
    {
     "name": "stdout",
     "output_type": "stream",
     "text": [
      "\n"
     ]
    },
    {
     "data": {
      "application/vnd.jupyter.widget-view+json": {
       "model_id": "5e296e1b138e42b983c9c3d2c0a31531",
       "version_major": 2,
       "version_minor": 0
      },
      "text/plain": [
       "HBox(children=(FloatProgress(value=0.0, description='Downloading', max=14117.0, style=ProgressStyle(descriptio…"
      ]
     },
     "metadata": {},
     "output_type": "display_data"
    },
    {
     "name": "stdout",
     "output_type": "stream",
     "text": [
      "\n"
     ]
    }
   ],
   "source": [
    "%%bigquery nonfraud_df\n",
    "SELECT *\n",
    "FROM\n",
    "\t`bigquery-public-data.ml_datasets.ulb_fraud_detection`\n",
    "WHERE Class = 0\n",
    "AND RAND() < 0.05"
   ]
  },
  {
   "cell_type": "code",
   "execution_count": 19,
   "metadata": {},
   "outputs": [
    {
     "data": {
      "text/html": [
       "<div>\n",
       "<style scoped>\n",
       "    .dataframe tbody tr th:only-of-type {\n",
       "        vertical-align: middle;\n",
       "    }\n",
       "\n",
       "    .dataframe tbody tr th {\n",
       "        vertical-align: top;\n",
       "    }\n",
       "\n",
       "    .dataframe thead th {\n",
       "        text-align: right;\n",
       "    }\n",
       "</style>\n",
       "<table border=\"1\" class=\"dataframe\">\n",
       "  <thead>\n",
       "    <tr style=\"text-align: right;\">\n",
       "      <th></th>\n",
       "      <th>Time</th>\n",
       "      <th>V1</th>\n",
       "      <th>V2</th>\n",
       "      <th>V3</th>\n",
       "      <th>V4</th>\n",
       "      <th>V5</th>\n",
       "      <th>V6</th>\n",
       "      <th>V7</th>\n",
       "      <th>V8</th>\n",
       "      <th>V9</th>\n",
       "      <th>...</th>\n",
       "      <th>V21</th>\n",
       "      <th>V22</th>\n",
       "      <th>V23</th>\n",
       "      <th>V24</th>\n",
       "      <th>V25</th>\n",
       "      <th>V26</th>\n",
       "      <th>V27</th>\n",
       "      <th>V28</th>\n",
       "      <th>Amount</th>\n",
       "      <th>Class</th>\n",
       "    </tr>\n",
       "  </thead>\n",
       "  <tbody>\n",
       "    <tr>\n",
       "      <th>0</th>\n",
       "      <td>0.238561</td>\n",
       "      <td>-10.645800</td>\n",
       "      <td>5.918307</td>\n",
       "      <td>-11.671043</td>\n",
       "      <td>8.807369</td>\n",
       "      <td>-7.975501</td>\n",
       "      <td>-3.586806</td>\n",
       "      <td>-13.616797</td>\n",
       "      <td>6.428169</td>\n",
       "      <td>-7.368451</td>\n",
       "      <td>...</td>\n",
       "      <td>2.571970</td>\n",
       "      <td>0.206809</td>\n",
       "      <td>-1.667801</td>\n",
       "      <td>0.558419</td>\n",
       "      <td>-0.027898</td>\n",
       "      <td>0.354254</td>\n",
       "      <td>0.273329</td>\n",
       "      <td>-0.152908</td>\n",
       "      <td>0.000000</td>\n",
       "      <td>1</td>\n",
       "    </tr>\n",
       "    <tr>\n",
       "      <th>1</th>\n",
       "      <td>0.487286</td>\n",
       "      <td>-0.937843</td>\n",
       "      <td>3.462889</td>\n",
       "      <td>-6.445104</td>\n",
       "      <td>4.932199</td>\n",
       "      <td>-2.233983</td>\n",
       "      <td>-2.291561</td>\n",
       "      <td>-5.695594</td>\n",
       "      <td>1.338825</td>\n",
       "      <td>-4.322377</td>\n",
       "      <td>...</td>\n",
       "      <td>1.066550</td>\n",
       "      <td>-0.521657</td>\n",
       "      <td>-0.319917</td>\n",
       "      <td>-0.405859</td>\n",
       "      <td>0.906802</td>\n",
       "      <td>1.165784</td>\n",
       "      <td>1.374495</td>\n",
       "      <td>0.729889</td>\n",
       "      <td>0.000000</td>\n",
       "      <td>1</td>\n",
       "    </tr>\n",
       "    <tr>\n",
       "      <th>2</th>\n",
       "      <td>0.487286</td>\n",
       "      <td>-0.937843</td>\n",
       "      <td>3.462889</td>\n",
       "      <td>-6.445104</td>\n",
       "      <td>4.932199</td>\n",
       "      <td>-2.233983</td>\n",
       "      <td>-2.291561</td>\n",
       "      <td>-5.695594</td>\n",
       "      <td>1.338825</td>\n",
       "      <td>-4.322377</td>\n",
       "      <td>...</td>\n",
       "      <td>1.066550</td>\n",
       "      <td>-0.521657</td>\n",
       "      <td>-0.319917</td>\n",
       "      <td>-0.405859</td>\n",
       "      <td>0.906802</td>\n",
       "      <td>1.165784</td>\n",
       "      <td>1.374495</td>\n",
       "      <td>0.729889</td>\n",
       "      <td>0.000000</td>\n",
       "      <td>1</td>\n",
       "    </tr>\n",
       "    <tr>\n",
       "      <th>3</th>\n",
       "      <td>0.493543</td>\n",
       "      <td>-7.030308</td>\n",
       "      <td>3.421991</td>\n",
       "      <td>-9.525072</td>\n",
       "      <td>5.270891</td>\n",
       "      <td>-4.024630</td>\n",
       "      <td>-2.865682</td>\n",
       "      <td>-6.989195</td>\n",
       "      <td>3.791551</td>\n",
       "      <td>-4.622730</td>\n",
       "      <td>...</td>\n",
       "      <td>1.103398</td>\n",
       "      <td>-0.541855</td>\n",
       "      <td>0.036943</td>\n",
       "      <td>-0.355519</td>\n",
       "      <td>0.353634</td>\n",
       "      <td>1.042458</td>\n",
       "      <td>1.359516</td>\n",
       "      <td>-0.272188</td>\n",
       "      <td>0.000000</td>\n",
       "      <td>1</td>\n",
       "    </tr>\n",
       "    <tr>\n",
       "      <th>4</th>\n",
       "      <td>0.890557</td>\n",
       "      <td>-0.613696</td>\n",
       "      <td>3.698772</td>\n",
       "      <td>-5.534941</td>\n",
       "      <td>5.620486</td>\n",
       "      <td>1.649263</td>\n",
       "      <td>-2.335145</td>\n",
       "      <td>-0.907188</td>\n",
       "      <td>0.706362</td>\n",
       "      <td>-3.747646</td>\n",
       "      <td>...</td>\n",
       "      <td>0.319261</td>\n",
       "      <td>-0.471379</td>\n",
       "      <td>-0.075890</td>\n",
       "      <td>-0.667909</td>\n",
       "      <td>-0.642848</td>\n",
       "      <td>0.070600</td>\n",
       "      <td>0.488410</td>\n",
       "      <td>0.292345</td>\n",
       "      <td>0.000000</td>\n",
       "      <td>1</td>\n",
       "    </tr>\n",
       "    <tr>\n",
       "      <th>...</th>\n",
       "      <td>...</td>\n",
       "      <td>...</td>\n",
       "      <td>...</td>\n",
       "      <td>...</td>\n",
       "      <td>...</td>\n",
       "      <td>...</td>\n",
       "      <td>...</td>\n",
       "      <td>...</td>\n",
       "      <td>...</td>\n",
       "      <td>...</td>\n",
       "      <td>...</td>\n",
       "      <td>...</td>\n",
       "      <td>...</td>\n",
       "      <td>...</td>\n",
       "      <td>...</td>\n",
       "      <td>...</td>\n",
       "      <td>...</td>\n",
       "      <td>...</td>\n",
       "      <td>...</td>\n",
       "      <td>...</td>\n",
       "      <td>...</td>\n",
       "    </tr>\n",
       "    <tr>\n",
       "      <th>14112</th>\n",
       "      <td>0.301056</td>\n",
       "      <td>1.065351</td>\n",
       "      <td>0.104054</td>\n",
       "      <td>0.505197</td>\n",
       "      <td>1.501993</td>\n",
       "      <td>-0.333553</td>\n",
       "      <td>-0.356230</td>\n",
       "      <td>0.141263</td>\n",
       "      <td>-0.058649</td>\n",
       "      <td>0.235934</td>\n",
       "      <td>...</td>\n",
       "      <td>-0.054139</td>\n",
       "      <td>-0.000809</td>\n",
       "      <td>-0.059304</td>\n",
       "      <td>0.415390</td>\n",
       "      <td>0.611046</td>\n",
       "      <td>-0.337273</td>\n",
       "      <td>0.034145</td>\n",
       "      <td>0.026505</td>\n",
       "      <td>0.006095</td>\n",
       "      <td>0</td>\n",
       "    </tr>\n",
       "    <tr>\n",
       "      <th>14113</th>\n",
       "      <td>0.292056</td>\n",
       "      <td>1.002321</td>\n",
       "      <td>0.073574</td>\n",
       "      <td>0.071632</td>\n",
       "      <td>1.001350</td>\n",
       "      <td>0.000882</td>\n",
       "      <td>-0.286163</td>\n",
       "      <td>0.328591</td>\n",
       "      <td>0.022708</td>\n",
       "      <td>-0.378345</td>\n",
       "      <td>...</td>\n",
       "      <td>-0.266449</td>\n",
       "      <td>-1.015916</td>\n",
       "      <td>0.095276</td>\n",
       "      <td>-0.048126</td>\n",
       "      <td>0.250663</td>\n",
       "      <td>-0.736013</td>\n",
       "      <td>-0.003370</td>\n",
       "      <td>0.023597</td>\n",
       "      <td>0.011172</td>\n",
       "      <td>0</td>\n",
       "    </tr>\n",
       "    <tr>\n",
       "      <th>14114</th>\n",
       "      <td>0.456140</td>\n",
       "      <td>1.261390</td>\n",
       "      <td>-0.183591</td>\n",
       "      <td>0.133266</td>\n",
       "      <td>-0.927003</td>\n",
       "      <td>-0.585001</td>\n",
       "      <td>-0.944967</td>\n",
       "      <td>-0.116707</td>\n",
       "      <td>-0.070793</td>\n",
       "      <td>1.324207</td>\n",
       "      <td>...</td>\n",
       "      <td>-0.042278</td>\n",
       "      <td>-0.019505</td>\n",
       "      <td>-0.003108</td>\n",
       "      <td>0.052851</td>\n",
       "      <td>0.519649</td>\n",
       "      <td>-0.725241</td>\n",
       "      <td>0.060816</td>\n",
       "      <td>0.018533</td>\n",
       "      <td>0.000099</td>\n",
       "      <td>0</td>\n",
       "    </tr>\n",
       "    <tr>\n",
       "      <th>14115</th>\n",
       "      <td>0.783191</td>\n",
       "      <td>-1.845673</td>\n",
       "      <td>1.647348</td>\n",
       "      <td>-0.033797</td>\n",
       "      <td>-0.891151</td>\n",
       "      <td>-0.393727</td>\n",
       "      <td>-0.243331</td>\n",
       "      <td>-0.609895</td>\n",
       "      <td>1.382118</td>\n",
       "      <td>-0.481351</td>\n",
       "      <td>...</td>\n",
       "      <td>0.001932</td>\n",
       "      <td>-0.416445</td>\n",
       "      <td>0.127020</td>\n",
       "      <td>0.658559</td>\n",
       "      <td>-0.253588</td>\n",
       "      <td>-0.350747</td>\n",
       "      <td>-0.474615</td>\n",
       "      <td>-0.098647</td>\n",
       "      <td>0.000167</td>\n",
       "      <td>0</td>\n",
       "    </tr>\n",
       "    <tr>\n",
       "      <th>14116</th>\n",
       "      <td>0.247637</td>\n",
       "      <td>0.340725</td>\n",
       "      <td>-1.225499</td>\n",
       "      <td>-0.745517</td>\n",
       "      <td>1.026148</td>\n",
       "      <td>0.654991</td>\n",
       "      <td>2.089517</td>\n",
       "      <td>0.296109</td>\n",
       "      <td>0.515619</td>\n",
       "      <td>-0.002562</td>\n",
       "      <td>...</td>\n",
       "      <td>0.299103</td>\n",
       "      <td>0.238042</td>\n",
       "      <td>-0.466934</td>\n",
       "      <td>-1.871375</td>\n",
       "      <td>0.447112</td>\n",
       "      <td>-0.148891</td>\n",
       "      <td>-0.000906</td>\n",
       "      <td>0.044125</td>\n",
       "      <td>0.048822</td>\n",
       "      <td>0</td>\n",
       "    </tr>\n",
       "  </tbody>\n",
       "</table>\n",
       "<p>14609 rows × 31 columns</p>\n",
       "</div>"
      ],
      "text/plain": [
       "           Time         V1        V2         V3        V4        V5        V6  \\\n",
       "0      0.238561 -10.645800  5.918307 -11.671043  8.807369 -7.975501 -3.586806   \n",
       "1      0.487286  -0.937843  3.462889  -6.445104  4.932199 -2.233983 -2.291561   \n",
       "2      0.487286  -0.937843  3.462889  -6.445104  4.932199 -2.233983 -2.291561   \n",
       "3      0.493543  -7.030308  3.421991  -9.525072  5.270891 -4.024630 -2.865682   \n",
       "4      0.890557  -0.613696  3.698772  -5.534941  5.620486  1.649263 -2.335145   \n",
       "...         ...        ...       ...        ...       ...       ...       ...   \n",
       "14112  0.301056   1.065351  0.104054   0.505197  1.501993 -0.333553 -0.356230   \n",
       "14113  0.292056   1.002321  0.073574   0.071632  1.001350  0.000882 -0.286163   \n",
       "14114  0.456140   1.261390 -0.183591   0.133266 -0.927003 -0.585001 -0.944967   \n",
       "14115  0.783191  -1.845673  1.647348  -0.033797 -0.891151 -0.393727 -0.243331   \n",
       "14116  0.247637   0.340725 -1.225499  -0.745517  1.026148  0.654991  2.089517   \n",
       "\n",
       "              V7        V8        V9  ...       V21       V22       V23  \\\n",
       "0     -13.616797  6.428169 -7.368451  ...  2.571970  0.206809 -1.667801   \n",
       "1      -5.695594  1.338825 -4.322377  ...  1.066550 -0.521657 -0.319917   \n",
       "2      -5.695594  1.338825 -4.322377  ...  1.066550 -0.521657 -0.319917   \n",
       "3      -6.989195  3.791551 -4.622730  ...  1.103398 -0.541855  0.036943   \n",
       "4      -0.907188  0.706362 -3.747646  ...  0.319261 -0.471379 -0.075890   \n",
       "...          ...       ...       ...  ...       ...       ...       ...   \n",
       "14112   0.141263 -0.058649  0.235934  ... -0.054139 -0.000809 -0.059304   \n",
       "14113   0.328591  0.022708 -0.378345  ... -0.266449 -1.015916  0.095276   \n",
       "14114  -0.116707 -0.070793  1.324207  ... -0.042278 -0.019505 -0.003108   \n",
       "14115  -0.609895  1.382118 -0.481351  ...  0.001932 -0.416445  0.127020   \n",
       "14116   0.296109  0.515619 -0.002562  ...  0.299103  0.238042 -0.466934   \n",
       "\n",
       "            V24       V25       V26       V27       V28    Amount  Class  \n",
       "0      0.558419 -0.027898  0.354254  0.273329 -0.152908  0.000000      1  \n",
       "1     -0.405859  0.906802  1.165784  1.374495  0.729889  0.000000      1  \n",
       "2     -0.405859  0.906802  1.165784  1.374495  0.729889  0.000000      1  \n",
       "3     -0.355519  0.353634  1.042458  1.359516 -0.272188  0.000000      1  \n",
       "4     -0.667909 -0.642848  0.070600  0.488410  0.292345  0.000000      1  \n",
       "...         ...       ...       ...       ...       ...       ...    ...  \n",
       "14112  0.415390  0.611046 -0.337273  0.034145  0.026505  0.006095      0  \n",
       "14113 -0.048126  0.250663 -0.736013 -0.003370  0.023597  0.011172      0  \n",
       "14114  0.052851  0.519649 -0.725241  0.060816  0.018533  0.000099      0  \n",
       "14115  0.658559 -0.253588 -0.350747 -0.474615 -0.098647  0.000167      0  \n",
       "14116 -1.871375  0.447112 -0.148891 -0.000906  0.044125  0.048822      0  \n",
       "\n",
       "[14609 rows x 31 columns]"
      ]
     },
     "execution_count": 19,
     "metadata": {},
     "output_type": "execute_result"
    }
   ],
   "source": []
  },
  {
   "cell_type": "code",
   "execution_count": 16,
   "metadata": {},
   "outputs": [
    {
     "data": {
      "text/plain": [
       "0    14117\n",
       "1      492\n",
       "Name: Class, dtype: Int64"
      ]
     },
     "execution_count": 16,
     "metadata": {},
     "output_type": "execute_result"
    }
   ],
   "source": [
    "# Setup Dataset\n",
    "bq_fraud_data = pd.concat([fraud_df, nonfraud_df], axis=0)\n",
    "bq_fraud_data.sort_values(by=['Time'])\n",
    "\n",
    "# Scale time and amount values\n",
    "time_scaler = MinMaxScaler()\n",
    "amt_scaler = MinMaxScaler()\n",
    "\n",
    "bq_fraud_data['Time'] = time_scaler.fit_transform(bq_fraud_data['Time'].values.reshape(-1, 1))\n",
    "bq_fraud_data['Amount'] = amt_scaler.fit_transform(bq_fraud_data['Amount'].values.reshape(-1, 1))\n",
    "\n",
    "bq_fraud_data['Class'].value_counts()"
   ]
  },
  {
   "cell_type": "code",
   "execution_count": 28,
   "metadata": {},
   "outputs": [],
   "source": [
    "# Split dataset\n",
    "train_test_split = int(len(bq_fraud_data) * .8)\n",
    "\n",
    "train_data = bq_fraud_data[:train_test_split]\n",
    "test_data = bq_fraud_data[train_test_split:]\n",
    "\n",
    "train_labels = train_data.pop('Class')\n",
    "test_labels = test_data.pop('Class')\n",
    "\n",
    "# Create tf dataset\n",
    "train_dataset = tf.data.Dataset.from_tensor_slices((train_data.values, np.asarray(train_labels).astype(np.float32)))\n",
    "train_dataset = train_dataset.shuffle(len(train_data)).batch(1024)\n",
    "\n",
    "test_dataset = tf.data.Dataset.from_tensor_slices((test_data.values, np.asarray(test_labels).astype(np.float32)))\n",
    "test_dataset = test_dataset.shuffle(len(test_data)).batch(1)"
   ]
  },
  {
   "attachments": {},
   "cell_type": "markdown",
   "metadata": {},
   "source": [
    "For the weighted class, add a bias initializer to the output layer"
   ]
  },
  {
   "cell_type": "code",
   "execution_count": 30,
   "metadata": {},
   "outputs": [
    {
     "name": "stdout",
     "output_type": "stream",
     "text": [
      "{0: 0.5219740955783833, 1: 11.877032520325203}\n",
      "-3.124743812540547\n"
     ]
    }
   ],
   "source": [
    "# Get number of examples for each class from training set\n",
    "num_minority = train_labels.value_counts()[1]\n",
    "num_majority = train_labels.value_counts()[0]\n",
    "\n",
    "# Calculate weight\n",
    "minority_class_weight = 1 / (num_minority / len(train_data)) / 2\n",
    "majority_class_weight = 1 / (num_majority / len(train_data)) / 2\n",
    "\n",
    "# Pass weights to keras in a dict\n",
    "keras_class_weights = {\n",
    "  0: majority_class_weight,\n",
    "  1: minority_class_weight\n",
    "}\n",
    "print(keras_class_weights)\n",
    "\n",
    "# Calculate output bias\n",
    "output_bias = math.log(num_minority / num_majority)\n",
    "print(output_bias)"
   ]
  },
  {
   "cell_type": "code",
   "execution_count": 31,
   "metadata": {},
   "outputs": [],
   "source": [
    "# Build the fraud model\n",
    "fraud_model = keras.Sequential([\n",
    "  keras.layers.Dense(16, input_shape=(len(train_data.iloc[0]), ), activation='relu'),\n",
    "  keras.layers.Dropout(0.25),\n",
    "  keras.layers.Dense(16, activation='relu'),\n",
    "  keras.layers.Dense(1, activation='sigmoid', bias_initializer=tf.keras.initializers.Constant(output_bias))\n",
    "])\n",
    "\n",
    "# Metrics\n",
    "metrics = [\n",
    "  tf.keras.metrics.BinaryAccuracy(name='accuracy'),\n",
    "  tf.keras.metrics.Precision(name='precision'),\n",
    "  tf.keras.metrics.Recall(name='recall'),\n",
    "  tf.keras.metrics.AUC(name='roc_auc'),\n",
    "]"
   ]
  },
  {
   "cell_type": "code",
   "execution_count": 32,
   "metadata": {},
   "outputs": [
    {
     "name": "stdout",
     "output_type": "stream",
     "text": [
      "Epoch 1/10\n",
      "12/12 [==============================] - 18s 1s/step - loss: 2.0568 - accuracy: 0.9595 - precision: 1.0000 - recall: 0.0386 - roc_auc: 0.4473 - val_loss: 0.0412 - val_accuracy: 0.9997 - val_precision: 0.0000e+00 - val_recall: 0.0000e+00 - val_roc_auc: 0.0000e+00\n",
      "Epoch 2/10\n",
      "12/12 [==============================] - 16s 1s/step - loss: 1.1647 - accuracy: 0.9674 - precision: 0.9826 - recall: 0.2297 - roc_auc: 0.7310 - val_loss: 0.0544 - val_accuracy: 0.9993 - val_precision: 0.0000e+00 - val_recall: 0.0000e+00 - val_roc_auc: 0.0000e+00\n",
      "Epoch 3/10\n",
      "12/12 [==============================] - 15s 1s/step - loss: 0.6378 - accuracy: 0.9775 - precision: 0.9321 - recall: 0.5020 - roc_auc: 0.8723 - val_loss: 0.0713 - val_accuracy: 0.9973 - val_precision: 0.0000e+00 - val_recall: 0.0000e+00 - val_roc_auc: 0.0000e+00\n",
      "Epoch 4/10\n",
      "12/12 [==============================] - 16s 1s/step - loss: 0.4357 - accuracy: 0.9831 - precision: 0.9200 - recall: 0.6545 - roc_auc: 0.9263 - val_loss: 0.0885 - val_accuracy: 0.9962 - val_precision: 0.0000e+00 - val_recall: 0.0000e+00 - val_roc_auc: 0.0000e+00\n",
      "Epoch 5/10\n",
      "12/12 [==============================] - 16s 1s/step - loss: 0.3564 - accuracy: 0.9822 - precision: 0.8333 - recall: 0.7215 - roc_auc: 0.9307 - val_loss: 0.1062 - val_accuracy: 0.9935 - val_precision: 0.0000e+00 - val_recall: 0.0000e+00 - val_roc_auc: 0.0000e+00\n",
      "Epoch 6/10\n",
      "12/12 [==============================] - 16s 1s/step - loss: 0.2937 - accuracy: 0.9814 - precision: 0.7812 - recall: 0.7764 - roc_auc: 0.9454 - val_loss: 0.1206 - val_accuracy: 0.9911 - val_precision: 0.0000e+00 - val_recall: 0.0000e+00 - val_roc_auc: 0.0000e+00\n",
      "Epoch 7/10\n",
      "12/12 [==============================] - 16s 1s/step - loss: 0.2685 - accuracy: 0.9785 - precision: 0.7203 - recall: 0.8008 - roc_auc: 0.9506 - val_loss: 0.1315 - val_accuracy: 0.9873 - val_precision: 0.0000e+00 - val_recall: 0.0000e+00 - val_roc_auc: 0.0000e+00\n",
      "Epoch 8/10\n",
      "12/12 [==============================] - 16s 1s/step - loss: 0.2583 - accuracy: 0.9778 - precision: 0.6998 - recall: 0.8293 - roc_auc: 0.9469 - val_loss: 0.1410 - val_accuracy: 0.9846 - val_precision: 0.0000e+00 - val_recall: 0.0000e+00 - val_roc_auc: 0.0000e+00\n",
      "Epoch 9/10\n",
      "12/12 [==============================] - 17s 1s/step - loss: 0.2277 - accuracy: 0.9775 - precision: 0.6899 - recall: 0.8455 - roc_auc: 0.9590 - val_loss: 0.1482 - val_accuracy: 0.9829 - val_precision: 0.0000e+00 - val_recall: 0.0000e+00 - val_roc_auc: 0.0000e+00\n",
      "Epoch 10/10\n",
      "12/12 [==============================] - 16s 1s/step - loss: 0.2211 - accuracy: 0.9736 - precision: 0.6390 - recall: 0.8598 - roc_auc: 0.9588 - val_loss: 0.1528 - val_accuracy: 0.9825 - val_precision: 0.0000e+00 - val_recall: 0.0000e+00 - val_roc_auc: 0.0000e+00\n"
     ]
    },
    {
     "data": {
      "text/plain": [
       "<keras.callbacks.History at 0x2a3f043b610>"
      ]
     },
     "execution_count": 32,
     "metadata": {},
     "output_type": "execute_result"
    }
   ],
   "source": [
    "fraud_model.compile(\n",
    "  loss='binary_crossentropy',\n",
    "  optimizer='adam',\n",
    "  metrics=metrics\n",
    ")\n",
    "\n",
    "fraud_model.fit(\n",
    "  train_dataset,\n",
    "  validation_data=test_dataset,\n",
    "  epochs=10, \n",
    "  class_weight=keras_class_weights\n",
    ")"
   ]
  },
  {
   "attachments": {},
   "cell_type": "markdown",
   "metadata": {},
   "source": [
    "# Reframing\n",
    "\n",
    "__Use cluster distance as a prediction signal__\n",
    "\n",
    "train a clustering model and use the distance of new examples from clusters to detect anomalies. We'll train a kmeans model on the natality dataset to demonstrate this."
   ]
  },
  {
   "cell_type": "code",
   "execution_count": 3,
   "metadata": {},
   "outputs": [
    {
     "data": {
      "application/vnd.jupyter.widget-view+json": {
       "model_id": "faa8f990b1a74c84ac45f92d3cdf9399",
       "version_major": 2,
       "version_minor": 0
      },
      "text/plain": [
       "HBox(children=(FloatProgress(value=0.0, description='Query is running', max=1.0, style=ProgressStyle(descripti…"
      ]
     },
     "metadata": {},
     "output_type": "display_data"
    },
    {
     "name": "stdout",
     "output_type": "stream",
     "text": [
      "\n"
     ]
    },
    {
     "data": {
      "text/html": [
       "<div>\n",
       "<style scoped>\n",
       "    .dataframe tbody tr th:only-of-type {\n",
       "        vertical-align: middle;\n",
       "    }\n",
       "\n",
       "    .dataframe tbody tr th {\n",
       "        vertical-align: top;\n",
       "    }\n",
       "\n",
       "    .dataframe thead th {\n",
       "        text-align: right;\n",
       "    }\n",
       "</style>\n",
       "<table border=\"1\" class=\"dataframe\">\n",
       "  <thead>\n",
       "    <tr style=\"text-align: right;\">\n",
       "      <th></th>\n",
       "    </tr>\n",
       "  </thead>\n",
       "  <tbody>\n",
       "  </tbody>\n",
       "</table>\n",
       "</div>"
      ],
      "text/plain": [
       "Empty DataFrame\n",
       "Columns: []\n",
       "Index: []"
      ]
     },
     "execution_count": 3,
     "metadata": {},
     "output_type": "execute_result"
    }
   ],
   "source": [
    "%%bigquery\n",
    "CREATE OR REPLACE MODEL `mlpatterns.baby_weight_clusters`\n",
    "OPTIONS(model_type='kmeans', num_clusters=4) AS\n",
    "SELECT\n",
    "  weight_pounds,\n",
    "  mother_age,\n",
    "  gestation_weeks\n",
    "FROM\n",
    "  `bigquery-public-data.samples.natality`\n",
    "LIMIT 10000"
   ]
  },
  {
   "attachments": {},
   "cell_type": "markdown",
   "metadata": {},
   "source": [
    "Look at the cluster prediction for the \"average\" example in the dataset"
   ]
  },
  {
   "cell_type": "code",
   "execution_count": 11,
   "metadata": {},
   "outputs": [
    {
     "data": {
      "application/vnd.jupyter.widget-view+json": {
       "model_id": "ce92d8449d374355962ae081a709a713",
       "version_major": 2,
       "version_minor": 0
      },
      "text/plain": [
       "HBox(children=(FloatProgress(value=0.0, description='Query is running', max=1.0, style=ProgressStyle(descripti…"
      ]
     },
     "metadata": {},
     "output_type": "display_data"
    },
    {
     "name": "stdout",
     "output_type": "stream",
     "text": [
      "\n"
     ]
    },
    {
     "data": {
      "application/vnd.jupyter.widget-view+json": {
       "model_id": "bf02787921bb405794ac9a5d504c702d",
       "version_major": 2,
       "version_minor": 0
      },
      "text/plain": [
       "HBox(children=(FloatProgress(value=0.0, description='Downloading', max=1.0, style=ProgressStyle(description_wi…"
      ]
     },
     "metadata": {},
     "output_type": "display_data"
    },
    {
     "name": "stdout",
     "output_type": "stream",
     "text": [
      "\n"
     ]
    }
   ],
   "source": [
    "%%bigquery average_pred\n",
    "SELECT * FROM\n",
    "  ML.PREDICT (MODEL `mlpatterns.baby_weight_clusters`,\n",
    "  (\n",
    "    SELECT\n",
    "      7.0 as weight_pounds,\n",
    "      28 as mother_age,\n",
    "      40 as gestation_weeks\n",
    "  )\n",
    ");"
   ]
  },
  {
   "cell_type": "code",
   "execution_count": 12,
   "metadata": {},
   "outputs": [
    {
     "data": {
      "text/html": [
       "<div>\n",
       "<style scoped>\n",
       "    .dataframe tbody tr th:only-of-type {\n",
       "        vertical-align: middle;\n",
       "    }\n",
       "\n",
       "    .dataframe tbody tr th {\n",
       "        vertical-align: top;\n",
       "    }\n",
       "\n",
       "    .dataframe thead th {\n",
       "        text-align: right;\n",
       "    }\n",
       "</style>\n",
       "<table border=\"1\" class=\"dataframe\">\n",
       "  <thead>\n",
       "    <tr style=\"text-align: right;\">\n",
       "      <th></th>\n",
       "      <th>CENTROID_ID</th>\n",
       "      <th>NEAREST_CENTROIDS_DISTANCE</th>\n",
       "      <th>weight_pounds</th>\n",
       "      <th>mother_age</th>\n",
       "      <th>gestation_weeks</th>\n",
       "    </tr>\n",
       "  </thead>\n",
       "  <tbody>\n",
       "    <tr>\n",
       "      <th>0</th>\n",
       "      <td>1</td>\n",
       "      <td>[{'CENTROID_ID': 1, 'DISTANCE': 0.969667832380...</td>\n",
       "      <td>7.0</td>\n",
       "      <td>28</td>\n",
       "      <td>40</td>\n",
       "    </tr>\n",
       "  </tbody>\n",
       "</table>\n",
       "</div>"
      ],
      "text/plain": [
       "   CENTROID_ID                         NEAREST_CENTROIDS_DISTANCE  \\\n",
       "0            1  [{'CENTROID_ID': 1, 'DISTANCE': 0.969667832380...   \n",
       "\n",
       "   weight_pounds  mother_age  gestation_weeks  \n",
       "0            7.0          28               40  "
      ]
     },
     "execution_count": 12,
     "metadata": {},
     "output_type": "execute_result"
    }
   ],
   "source": [
    "average_pred"
   ]
  },
  {
   "attachments": {},
   "cell_type": "markdown",
   "metadata": {},
   "source": [
    "Comparing this with a cluster prediction from an outlier baby weight"
   ]
  },
  {
   "cell_type": "code",
   "execution_count": 13,
   "metadata": {},
   "outputs": [
    {
     "data": {
      "application/vnd.jupyter.widget-view+json": {
       "model_id": "4c04f67b1f1b48ddae71d8e48c3cc1bf",
       "version_major": 2,
       "version_minor": 0
      },
      "text/plain": [
       "HBox(children=(FloatProgress(value=0.0, description='Query is running', max=1.0, style=ProgressStyle(descripti…"
      ]
     },
     "metadata": {},
     "output_type": "display_data"
    },
    {
     "name": "stdout",
     "output_type": "stream",
     "text": [
      "\n"
     ]
    },
    {
     "data": {
      "application/vnd.jupyter.widget-view+json": {
       "model_id": "3211f4907f6b4bda9c90bd636c7889bd",
       "version_major": 2,
       "version_minor": 0
      },
      "text/plain": [
       "HBox(children=(FloatProgress(value=0.0, description='Downloading', max=1.0, style=ProgressStyle(description_wi…"
      ]
     },
     "metadata": {},
     "output_type": "display_data"
    },
    {
     "name": "stdout",
     "output_type": "stream",
     "text": [
      "\n"
     ]
    }
   ],
   "source": [
    "%%bigquery outlier_pred\n",
    "SELECT * \n",
    "FROM \n",
    "  ML.PREDICT (MODEL `mlpatterns.baby_weight_clusters`,\n",
    "  (\n",
    "    SELECT\n",
    "      3.0 as weight_pounds,\n",
    "      20 as mother_age,\n",
    "      27 as gestation_weeks\n",
    "  )  \n",
    ")\n"
   ]
  },
  {
   "cell_type": "code",
   "execution_count": 14,
   "metadata": {},
   "outputs": [
    {
     "data": {
      "text/html": [
       "<div>\n",
       "<style scoped>\n",
       "    .dataframe tbody tr th:only-of-type {\n",
       "        vertical-align: middle;\n",
       "    }\n",
       "\n",
       "    .dataframe tbody tr th {\n",
       "        vertical-align: top;\n",
       "    }\n",
       "\n",
       "    .dataframe thead th {\n",
       "        text-align: right;\n",
       "    }\n",
       "</style>\n",
       "<table border=\"1\" class=\"dataframe\">\n",
       "  <thead>\n",
       "    <tr style=\"text-align: right;\">\n",
       "      <th></th>\n",
       "      <th>CENTROID_ID</th>\n",
       "      <th>NEAREST_CENTROIDS_DISTANCE</th>\n",
       "      <th>weight_pounds</th>\n",
       "      <th>mother_age</th>\n",
       "      <th>gestation_weeks</th>\n",
       "    </tr>\n",
       "  </thead>\n",
       "  <tbody>\n",
       "    <tr>\n",
       "      <th>0</th>\n",
       "      <td>4</td>\n",
       "      <td>[{'CENTROID_ID': 4, 'DISTANCE': 3.118246971372...</td>\n",
       "      <td>3.0</td>\n",
       "      <td>20</td>\n",
       "      <td>27</td>\n",
       "    </tr>\n",
       "  </tbody>\n",
       "</table>\n",
       "</div>"
      ],
      "text/plain": [
       "   CENTROID_ID                         NEAREST_CENTROIDS_DISTANCE  \\\n",
       "0            4  [{'CENTROID_ID': 4, 'DISTANCE': 3.118246971372...   \n",
       "\n",
       "   weight_pounds  mother_age  gestation_weeks  \n",
       "0            3.0          20               27  "
      ]
     },
     "execution_count": 14,
     "metadata": {},
     "output_type": "execute_result"
    }
   ],
   "source": [
    "outlier_pred"
   ]
  },
  {
   "attachments": {},
   "cell_type": "markdown",
   "metadata": {},
   "source": [
    "* Distance for \"normal\" data: 0.969 (Cluster 1)\n",
    "* Distance for outlier data: 3.12 (Cluster 4)\n",
    "\n",
    "Therefore the outcome might be to have a different rules set for predicting each class, whether by statistical or any other means"
   ]
  },
  {
   "cell_type": "code",
   "execution_count": 15,
   "metadata": {},
   "outputs": [
    {
     "data": {
      "application/vnd.jupyter.widget-view+json": {
       "model_id": "23c9d59527c24f02a428ee86cb0ffb85",
       "version_major": 2,
       "version_minor": 0
      },
      "text/plain": [
       "HBox(children=(FloatProgress(value=0.0, description='Query is running', max=1.0, style=ProgressStyle(descripti…"
      ]
     },
     "metadata": {},
     "output_type": "display_data"
    },
    {
     "name": "stdout",
     "output_type": "stream",
     "text": [
      "\n"
     ]
    },
    {
     "data": {
      "application/vnd.jupyter.widget-view+json": {
       "model_id": "656b51862fab47bc80a30b96a39e104a",
       "version_major": 2,
       "version_minor": 0
      },
      "text/plain": [
       "HBox(children=(FloatProgress(value=0.0, description='Downloading', max=10000.0, style=ProgressStyle(descriptio…"
      ]
     },
     "metadata": {},
     "output_type": "display_data"
    },
    {
     "name": "stdout",
     "output_type": "stream",
     "text": [
      "\n"
     ]
    }
   ],
   "source": [
    "%%bigquery df\n",
    "SELECT weight_pounds\n",
    "FROM `bigquery-public-data.samples.natality`\n",
    "LIMIT 10000;"
   ]
  },
  {
   "cell_type": "code",
   "execution_count": 16,
   "metadata": {},
   "outputs": [
    {
     "data": {
      "text/plain": [
       "<AxesSubplot: ylabel='Frequency'>"
      ]
     },
     "execution_count": 16,
     "metadata": {},
     "output_type": "execute_result"
    },
    {
     "data": {
      "image/png": "[encoded data removed]",
      "text/plain": [
       "<Figure size 640x480 with 1 Axes>"
      ]
     },
     "metadata": {},
     "output_type": "display_data"
    }
   ],
   "source": [
    "df.plot(kind='hist')"
   ]
  },
  {
   "attachments": {},
   "cell_type": "markdown",
   "metadata": {},
   "source": [
    "In the main dataset,\n",
    "\n",
    "* Babies <3 lbs in weight account for ~0.06% of data\n",
    "* Babies <12 lbs account for ~0.05% of data\n",
    "\n",
    "To get good performance over the entire range, a combination of downsampling and reframing can be used. Split into 3 buckets:\n",
    "\n",
    "1. underweight\n",
    "2. average\n",
    "3. overweight"
   ]
  },
  {
   "cell_type": "code",
   "execution_count": 22,
   "metadata": {},
   "outputs": [
    {
     "data": {
      "application/vnd.jupyter.widget-view+json": {
       "model_id": "8d583089131742ba87183081098a1aac",
       "version_major": 2,
       "version_minor": 0
      },
      "text/plain": [
       "HBox(children=(FloatProgress(value=0.0, description='Query is running', max=1.0, style=ProgressStyle(descripti…"
      ]
     },
     "metadata": {},
     "output_type": "display_data"
    },
    {
     "name": "stdout",
     "output_type": "stream",
     "text": [
      "\n"
     ]
    },
    {
     "data": {
      "application/vnd.jupyter.widget-view+json": {
       "model_id": "a029d057e2f54a1687d80c893867c1e6",
       "version_major": 2,
       "version_minor": 0
      },
      "text/plain": [
       "HBox(children=(FloatProgress(value=0.0, description='Downloading', max=3.0, style=ProgressStyle(description_wi…"
      ]
     },
     "metadata": {},
     "output_type": "display_data"
    },
    {
     "name": "stdout",
     "output_type": "stream",
     "text": [
      "\n"
     ]
    },
    {
     "data": {
      "text/html": [
       "<div>\n",
       "<style scoped>\n",
       "    .dataframe tbody tr th:only-of-type {\n",
       "        vertical-align: middle;\n",
       "    }\n",
       "\n",
       "    .dataframe tbody tr th {\n",
       "        vertical-align: top;\n",
       "    }\n",
       "\n",
       "    .dataframe thead th {\n",
       "        text-align: right;\n",
       "    }\n",
       "</style>\n",
       "<table border=\"1\" class=\"dataframe\">\n",
       "  <thead>\n",
       "    <tr style=\"text-align: right;\">\n",
       "      <th></th>\n",
       "      <th>weight</th>\n",
       "      <th>num_examples</th>\n",
       "      <th>percent_of_dataset</th>\n",
       "    </tr>\n",
       "  </thead>\n",
       "  <tbody>\n",
       "    <tr>\n",
       "      <th>0</th>\n",
       "      <td>underweight</td>\n",
       "      <td>9649724</td>\n",
       "      <td>0.0700</td>\n",
       "    </tr>\n",
       "    <tr>\n",
       "      <th>1</th>\n",
       "      <td>average</td>\n",
       "      <td>123781044</td>\n",
       "      <td>0.8981</td>\n",
       "    </tr>\n",
       "    <tr>\n",
       "      <th>2</th>\n",
       "      <td>overweigth</td>\n",
       "      <td>4395995</td>\n",
       "      <td>0.0319</td>\n",
       "    </tr>\n",
       "  </tbody>\n",
       "</table>\n",
       "</div>"
      ],
      "text/plain": [
       "        weight  num_examples  percent_of_dataset\n",
       "0  underweight       9649724              0.0700\n",
       "1      average     123781044              0.8981\n",
       "2   overweigth       4395995              0.0319"
      ]
     },
     "execution_count": 22,
     "metadata": {},
     "output_type": "execute_result"
    }
   ],
   "source": [
    "%%bigquery\n",
    "SELECT\n",
    "  CASE\n",
    "   WHEN weight_pounds < 5.5 THEN \"underweight\"\n",
    "   WHEN weight_pounds > 9.5 THEN \"overweigth\"\n",
    "  ELSE\n",
    "    \"average\"\n",
    "END\n",
    "  AS weight,\n",
    "  COUNT(*) as num_examples,\n",
    "  round(COUNT(*) / sum(COUNT(*)) over(), 4) as percent_of_dataset\n",
    "FROM\n",
    "  `bigquery-public-data.samples.natality`\n",
    "GROUP BY\n",
    "  1"
   ]
  },
  {
   "cell_type": "code",
   "execution_count": null,
   "metadata": {},
   "outputs": [],
   "source": []
  }
 ],
 "metadata": {
  "kernelspec": {
   "display_name": "Python 3",
   "language": "python",
   "name": "python3"
  },
  "language_info": {
   "codemirror_mode": {
    "name": "ipython",
    "version": 3
   },
   "file_extension": ".py",
   "mimetype": "text/x-python",
   "name": "python",
   "nbconvert_exporter": "python",
   "pygments_lexer": "ipython3",
   "version": "3.8.5"
  },
  "orig_nbformat": 4,
  "vscode": {
   "interpreter": {
    "hash": "fc1f4863a5dfb7e90f6f0646481ce38df4cdefdf4614ba08727c157218b20914"
   }
  }
 },
 "nbformat": 4,
 "nbformat_minor": 2
}
