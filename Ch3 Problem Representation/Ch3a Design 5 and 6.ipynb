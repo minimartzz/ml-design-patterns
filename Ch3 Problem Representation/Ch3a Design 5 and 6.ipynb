{
 "cells": [
  {
   "attachments": {},
   "cell_type": "markdown",
   "metadata": {},
   "source": [
    "# Ch 3a: Design Patterns 5 and 6\n",
    "\n",
    "Design Pattern 5: Reframing\n",
    "\n",
    "Design Pattern 6: Multilabel Classification"
   ]
  },
  {
   "attachments": {},
   "cell_type": "markdown",
   "metadata": {},
   "source": [
    "# Design Pattern 5: Reframing\n",
    "\n",
    "Changing the representation (problem type) of a machine learning problem. For example, changing a typically regression problem into a classification problem and vice versa"
   ]
  },
  {
   "cell_type": "code",
   "execution_count": null,
   "metadata": {},
   "outputs": [],
   "source": [
    "from dotenv import load_dotenv\n",
    "from pathlib import Path\n",
    "import os\n",
    "\n",
    "load_dotenv(dotenv_path=Path(\"../.env\"))"
   ]
  },
  {
   "cell_type": "code",
   "execution_count": 1,
   "metadata": {},
   "outputs": [],
   "source": [
    "%load_ext google.cloud.bigquery\n",
    "from google.cloud import bigquery\n",
    "os.environ[\"GOOGLE_APPLICATION_CREDENTIALS\"] = f\"../{os.environ.get('GCP_KEY_FILE')}\"\n",
    "bq = bigquery.Client()"
   ]
  },
  {
   "cell_type": "code",
   "execution_count": 2,
   "metadata": {},
   "outputs": [],
   "source": [
    "import numpy as np\n",
    "import seaborn as sns\n",
    "from google.cloud import bigquery\n",
    "import matplotlib.pyplot as plt"
   ]
  },
  {
   "cell_type": "code",
   "execution_count": 3,
   "metadata": {},
   "outputs": [],
   "source": [
    "bq = bigquery.Client()"
   ]
  },
  {
   "cell_type": "code",
   "execution_count": 4,
   "metadata": {},
   "outputs": [],
   "source": [
    "query = \"\"\"\n",
    "SELECT\n",
    "\tweight_pounds,\n",
    "\tis_male,\n",
    "\tgestation_weeks,\n",
    "\tmother_age,\n",
    "\tplurality,\n",
    "\tmother_race\n",
    "FROM\n",
    "\t`bigquery-public-data.samples.natality`\n",
    "WHERE\n",
    "\tweight_pounds IS NOT NULL\n",
    "\tAND is_male = true\n",
    "\tAND gestation_weeks = 38\n",
    "\tAND mother_age = 28\n",
    "\tAND mother_race = 1\n",
    "\tAND plurality = 1\n",
    "\tAND RAND() < 0.01\n",
    "\"\"\""
   ]
  },
  {
   "cell_type": "code",
   "execution_count": 5,
   "metadata": {},
   "outputs": [
    {
     "data": {
      "text/html": [
       "<div>\n",
       "<style scoped>\n",
       "    .dataframe tbody tr th:only-of-type {\n",
       "        vertical-align: middle;\n",
       "    }\n",
       "\n",
       "    .dataframe tbody tr th {\n",
       "        vertical-align: top;\n",
       "    }\n",
       "\n",
       "    .dataframe thead th {\n",
       "        text-align: right;\n",
       "    }\n",
       "</style>\n",
       "<table border=\"1\" class=\"dataframe\">\n",
       "  <thead>\n",
       "    <tr style=\"text-align: right;\">\n",
       "      <th></th>\n",
       "      <th>weight_pounds</th>\n",
       "      <th>is_male</th>\n",
       "      <th>gestation_weeks</th>\n",
       "      <th>mother_age</th>\n",
       "      <th>plurality</th>\n",
       "      <th>mother_race</th>\n",
       "    </tr>\n",
       "  </thead>\n",
       "  <tbody>\n",
       "    <tr>\n",
       "      <th>0</th>\n",
       "      <td>8.126239</td>\n",
       "      <td>True</td>\n",
       "      <td>38</td>\n",
       "      <td>28</td>\n",
       "      <td>1</td>\n",
       "      <td>1</td>\n",
       "    </tr>\n",
       "    <tr>\n",
       "      <th>1</th>\n",
       "      <td>8.875811</td>\n",
       "      <td>True</td>\n",
       "      <td>38</td>\n",
       "      <td>28</td>\n",
       "      <td>1</td>\n",
       "      <td>1</td>\n",
       "    </tr>\n",
       "    <tr>\n",
       "      <th>2</th>\n",
       "      <td>8.079942</td>\n",
       "      <td>True</td>\n",
       "      <td>38</td>\n",
       "      <td>28</td>\n",
       "      <td>1</td>\n",
       "      <td>1</td>\n",
       "    </tr>\n",
       "    <tr>\n",
       "      <th>3</th>\n",
       "      <td>8.562754</td>\n",
       "      <td>True</td>\n",
       "      <td>38</td>\n",
       "      <td>28</td>\n",
       "      <td>1</td>\n",
       "      <td>1</td>\n",
       "    </tr>\n",
       "    <tr>\n",
       "      <th>4</th>\n",
       "      <td>7.625790</td>\n",
       "      <td>True</td>\n",
       "      <td>38</td>\n",
       "      <td>28</td>\n",
       "      <td>1</td>\n",
       "      <td>1</td>\n",
       "    </tr>\n",
       "  </tbody>\n",
       "</table>\n",
       "</div>"
      ],
      "text/plain": [
       "   weight_pounds  is_male  gestation_weeks  mother_age  plurality  mother_race\n",
       "0       8.126239     True               38          28          1            1\n",
       "1       8.875811     True               38          28          1            1\n",
       "2       8.079942     True               38          28          1            1\n",
       "3       8.562754     True               38          28          1            1\n",
       "4       7.625790     True               38          28          1            1"
      ]
     },
     "execution_count": 5,
     "metadata": {},
     "output_type": "execute_result"
    }
   ],
   "source": [
    "df = bq.query(query).to_dataframe()\n",
    "df.head()"
   ]
  },
  {
   "cell_type": "code",
   "execution_count": 6,
   "metadata": {},
   "outputs": [
    {
     "data": {
      "text/plain": [
       "Text(0.5, 0, 'weight_pounds')"
      ]
     },
     "execution_count": 6,
     "metadata": {},
     "output_type": "execute_result"
    },
    {
     "data": {
      "image/png": "[encoded data removed]",
      "text/plain": [
       "<Figure size 640x480 with 1 Axes>"
      ]
     },
     "metadata": {},
     "output_type": "display_data"
    }
   ],
   "source": [
    "fig = sns.distplot(df[['weight_pounds']])\n",
    "fig.set_title(\"Distribution of baby weight\")\n",
    "fig.set_xlabel(\"weight_pounds\")"
   ]
  },
  {
   "cell_type": "code",
   "execution_count": 7,
   "metadata": {},
   "outputs": [
    {
     "name": "stdout",
     "output_type": "stream",
     "text": [
      "7.512945458362027\n",
      "1.0033672282907988\n"
     ]
    }
   ],
   "source": [
    "# Average weight\n",
    "print(np.mean(df[\"weight_pounds\"]))\n",
    "print(np.std(df['weight_pounds']))"
   ]
  },
  {
   "attachments": {},
   "cell_type": "markdown",
   "metadata": {},
   "source": [
    "## Comparing categorical labels and regression\n",
    "\n",
    "Predicting baby weight as a regression problem and a classification problem by bucketizing the output labels. At inference, the model then predicts a collection of probabilities for each bucket"
   ]
  },
  {
   "cell_type": "code",
   "execution_count": 3,
   "metadata": {},
   "outputs": [],
   "source": [
    "import os\n",
    "import numpy as np\n",
    "import pandas as pd\n",
    "import tensorflow as tf\n",
    "\n",
    "import matplotlib.pyplot as plt\n",
    "from tensorflow.keras.utils import to_categorical\n",
    "from tensorflow import keras\n",
    "from tensorflow import feature_column as fc\n",
    "from tensorflow.keras import layers, models, Model"
   ]
  },
  {
   "cell_type": "code",
   "execution_count": 4,
   "metadata": {},
   "outputs": [],
   "source": [
    "df = pd.read_csv('data/babyweight_train.csv')"
   ]
  },
  {
   "cell_type": "code",
   "execution_count": 5,
   "metadata": {},
   "outputs": [
    {
     "data": {
      "text/html": [
       "<div>\n",
       "<style scoped>\n",
       "    .dataframe tbody tr th:only-of-type {\n",
       "        vertical-align: middle;\n",
       "    }\n",
       "\n",
       "    .dataframe tbody tr th {\n",
       "        vertical-align: top;\n",
       "    }\n",
       "\n",
       "    .dataframe thead th {\n",
       "        text-align: right;\n",
       "    }\n",
       "</style>\n",
       "<table border=\"1\" class=\"dataframe\">\n",
       "  <thead>\n",
       "    <tr style=\"text-align: right;\">\n",
       "      <th></th>\n",
       "      <th>weight_pounds</th>\n",
       "      <th>is_male</th>\n",
       "      <th>mother_age</th>\n",
       "      <th>plurality</th>\n",
       "      <th>gestation_weeks</th>\n",
       "      <th>mother_race</th>\n",
       "      <th>weight_category</th>\n",
       "    </tr>\n",
       "  </thead>\n",
       "  <tbody>\n",
       "    <tr>\n",
       "      <th>0</th>\n",
       "      <td>7.749249</td>\n",
       "      <td>False</td>\n",
       "      <td>12</td>\n",
       "      <td>Single(1)</td>\n",
       "      <td>40</td>\n",
       "      <td>1.0</td>\n",
       "      <td>2</td>\n",
       "    </tr>\n",
       "    <tr>\n",
       "      <th>1</th>\n",
       "      <td>7.561856</td>\n",
       "      <td>True</td>\n",
       "      <td>12</td>\n",
       "      <td>Single(1)</td>\n",
       "      <td>40</td>\n",
       "      <td>2.0</td>\n",
       "      <td>2</td>\n",
       "    </tr>\n",
       "    <tr>\n",
       "      <th>2</th>\n",
       "      <td>7.187070</td>\n",
       "      <td>False</td>\n",
       "      <td>12</td>\n",
       "      <td>Single(1)</td>\n",
       "      <td>34</td>\n",
       "      <td>3.0</td>\n",
       "      <td>2</td>\n",
       "    </tr>\n",
       "    <tr>\n",
       "      <th>3</th>\n",
       "      <td>6.375769</td>\n",
       "      <td>True</td>\n",
       "      <td>12</td>\n",
       "      <td>Single(1)</td>\n",
       "      <td>36</td>\n",
       "      <td>2.0</td>\n",
       "      <td>2</td>\n",
       "    </tr>\n",
       "    <tr>\n",
       "      <th>4</th>\n",
       "      <td>7.936641</td>\n",
       "      <td>False</td>\n",
       "      <td>12</td>\n",
       "      <td>Single(1)</td>\n",
       "      <td>35</td>\n",
       "      <td>0.0</td>\n",
       "      <td>2</td>\n",
       "    </tr>\n",
       "  </tbody>\n",
       "</table>\n",
       "</div>"
      ],
      "text/plain": [
       "   weight_pounds is_male  mother_age  plurality  gestation_weeks mother_race  \\\n",
       "0       7.749249   False          12  Single(1)               40         1.0   \n",
       "1       7.561856    True          12  Single(1)               40         2.0   \n",
       "2       7.187070   False          12  Single(1)               34         3.0   \n",
       "3       6.375769    True          12  Single(1)               36         2.0   \n",
       "4       7.936641   False          12  Single(1)               35         0.0   \n",
       "\n",
       "   weight_category  \n",
       "0                2  \n",
       "1                2  \n",
       "2                2  \n",
       "3                2  \n",
       "4                2  "
      ]
     },
     "execution_count": 5,
     "metadata": {},
     "output_type": "execute_result"
    }
   ],
   "source": [
    "# Prepare inputs\n",
    "df['is_male'] = df['is_male'].astype(str)\n",
    "df['mother_race'].fillna(0, inplace=True)\n",
    "df['mother_race'] = df['mother_race'].astype(str)\n",
    "\n",
    "# Create categorical label\n",
    "def categorical_weight(weight_pounds):\n",
    "  if weight_pounds < 3.31:\n",
    "    return 0\n",
    "  elif weight_pounds >= 3.31 and weight_pounds < 5.5:\n",
    "    return 1\n",
    "  elif weight_pounds >= 5.5 and weight_pounds < 8.8:\n",
    "    return 2\n",
    "  else: return 3\n",
    "\n",
    "df['weight_category'] = df['weight_pounds'].apply(lambda x: categorical_weight(x))\n",
    "df.head()"
   ]
  },
  {
   "cell_type": "code",
   "execution_count": 6,
   "metadata": {},
   "outputs": [
    {
     "name": "stdout",
     "output_type": "stream",
     "text": [
      "({'is_male': <tf.Tensor: shape=(), dtype=string, numpy=b'False'>, 'mother_age': <tf.Tensor: shape=(), dtype=int32, numpy=12>, 'plurality': <tf.Tensor: shape=(), dtype=string, numpy=b'Single(1)'>, 'gestation_weeks': <tf.Tensor: shape=(), dtype=int32, numpy=40>, 'mother_race': <tf.Tensor: shape=(), dtype=string, numpy=b'1.0'>}, <tf.Tensor: shape=(4,), dtype=float32, numpy=array([0., 0., 1., 0.], dtype=float32)>)\n",
      "\n",
      "({'is_male': <tf.Tensor: shape=(), dtype=string, numpy=b'False'>, 'mother_age': <tf.Tensor: shape=(), dtype=int32, numpy=12>, 'plurality': <tf.Tensor: shape=(), dtype=string, numpy=b'Single(1)'>, 'gestation_weeks': <tf.Tensor: shape=(), dtype=int32, numpy=40>, 'mother_race': <tf.Tensor: shape=(), dtype=string, numpy=b'1.0'>}, <tf.Tensor: shape=(1,), dtype=float64, numpy=array([7.74924851])>)\n",
      "\n"
     ]
    }
   ],
   "source": [
    "def encode_labels(classes):\n",
    "  one_hots = to_categorical(classes)\n",
    "  return one_hots\n",
    "\n",
    "FEATURES = ['is_male', 'mother_age', 'plurality', 'gestation_weeks', 'mother_race']\n",
    "LABEL_CLS = ['weight_category']\n",
    "LABEL_REG = ['weight_pounds']\n",
    "N_TRAIN = int(df.shape[0] * 0.80)\n",
    "\n",
    "X_train = df[FEATURES][:N_TRAIN]\n",
    "X_valid = df[FEATURES][N_TRAIN:]\n",
    "\n",
    "y_train_cls = encode_labels(df[LABEL_CLS][:N_TRAIN])\n",
    "y_train_reg = df[LABEL_REG][:N_TRAIN]\n",
    "\n",
    "y_valid_cls = encode_labels(df[LABEL_CLS][N_TRAIN:])\n",
    "y_valid_reg = df[LABEL_REG][N_TRAIN:]\n",
    "\n",
    "# train/validation dataset for classification model\n",
    "cls_train_data = tf.data.Dataset.from_tensor_slices(\n",
    "  (X_train.to_dict('list'), y_train_cls)\n",
    ")\n",
    "cls_valid_data = tf.data.Dataset.from_tensor_slices(\n",
    "  (X_valid.to_dict('list'), y_valid_cls)\n",
    ")\n",
    "\n",
    "# train/validation dataset for regression model\n",
    "reg_train_data = tf.data.Dataset.from_tensor_slices(\n",
    "  (X_train.to_dict('list'), y_train_reg.values)\n",
    ")\n",
    "reg_valid_data = tf.data.Dataset.from_tensor_slices(\n",
    "  (X_valid.to_dict('list'), y_valid_reg.values)\n",
    ")\n",
    "\n",
    "# Examine both datasets. Notice different label values\n",
    "for data_type in [cls_train_data, reg_train_data]:\n",
    "  for dict_slice in data_type.take(1):\n",
    "    print(f\"{dict_slice}\\n\")"
   ]
  },
  {
   "cell_type": "code",
   "execution_count": 7,
   "metadata": {},
   "outputs": [],
   "source": [
    "# Create feature columns\n",
    "numeric_columns = [fc.numeric_column(\"mother_age\"),\n",
    "                   fc.numeric_column(\"gestation_weeks\")]\n",
    "CATEGORIES = {\n",
    "  'plurality': list(df['plurality'].unique()),\n",
    "  'is_male': list(df['is_male'].unique()),\n",
    "  'mother_race': list(df['mother_race'].unique()),\n",
    "}\t\t\t\t\t\t\t\t\n",
    "categorical_columns = []\n",
    "for feature, vocab in CATEGORIES.items():\n",
    "  cat_col = fc.categorical_column_with_vocabulary_list(\n",
    "    key=feature,\n",
    "    vocabulary_list=vocab,\n",
    "    dtype=tf.string\n",
    "  )\n",
    "  categorical_columns.append(fc.indicator_column(cat_col))"
   ]
  },
  {
   "cell_type": "code",
   "execution_count": 8,
   "metadata": {},
   "outputs": [],
   "source": [
    "# Create inputs for model\n",
    "inputs = {\n",
    "\tcolname: tf.keras.layers.Input(\n",
    "\t\tname=colname,\n",
    "\t\tshape=(),\n",
    "\t\tdtype=\"float32\"\n",
    "\t) for colname in [\"mother_age\", \"gestation_weeks\"]\n",
    "}\n",
    "inputs.update({\n",
    "\tcolname: tf.keras.layers.Input(\n",
    "\t\tname=colname,\n",
    "\t\tshape=(),\n",
    "\t\tdtype=tf.string\n",
    "\t) for colname in [\"plurality\", \"is_male\", \"mother_race\"]\n",
    "})\n",
    "\n",
    "# Build DenseFeatures for model\n",
    "dnn_inputs = layers.DenseFeatures(categorical_columns + numeric_columns)(inputs)\n",
    "# hidden layers\n",
    "h1 = layers.Dense(20, activation='relu')(dnn_inputs)\n",
    "h2 = layers.Dense(10, activation='relu')(h1)\n",
    "\n",
    "# Classification model\n",
    "cls_output = layers.Dense(4, activation='softmax')(h2)\n",
    "cls_model = Model(inputs=inputs, outputs=cls_output)\n",
    "cls_model.compile(\n",
    "\toptimizer='adam',\n",
    "\tloss=tf.keras.losses.CategoricalCrossentropy(),\n",
    "\tmetrics=['accuracy']\n",
    ")\n",
    "\n",
    "# Regression model\n",
    "reg_output = layers.Dense(1, activation='relu')(h2)\n",
    "reg_model = Model(inputs=inputs, outputs=reg_output)\n",
    "reg_model.compile(\n",
    "\toptimizer='adam',\n",
    "\tloss=tf.keras.losses.MeanSquaredError(),\n",
    "\tmetrics=['mse']\n",
    ")"
   ]
  },
  {
   "attachments": {},
   "cell_type": "markdown",
   "metadata": {},
   "source": [
    "Training both models. First classification, then regression"
   ]
  },
  {
   "cell_type": "code",
   "execution_count": 9,
   "metadata": {},
   "outputs": [
    {
     "name": "stdout",
     "output_type": "stream",
     "text": [
      "4208/4208 [==============================] - 35s 8ms/step - loss: 0.4673 - accuracy: 0.8532\n",
      "1/1 [==============================] - 0s 391ms/step - loss: 0.8335 - accuracy: 0.6989\n",
      "Validation accuracy for classification model: 0.6988838315010071\n"
     ]
    }
   ],
   "source": [
    "# Train the classification model\n",
    "cls_model.fit(cls_train_data.batch(50), epochs=1)\n",
    "\n",
    "val_loss, val_accuracy = cls_model.evaluate(cls_valid_data.batch(X_valid.shape[0]))\n",
    "print(f\"Validation accuracy for classification model: {val_accuracy}\")"
   ]
  },
  {
   "cell_type": "code",
   "execution_count": 10,
   "metadata": {},
   "outputs": [
    {
     "name": "stdout",
     "output_type": "stream",
     "text": [
      "4208/4208 [==============================] - 34s 8ms/step - loss: 53.6835 - mse: 53.6835\n",
      "1/1 [==============================] - 0s 361ms/step - loss: 55.4446 - mse: 55.4446\n",
      "Validation RMSE for regression model: 7.446109949177768\n"
     ]
    }
   ],
   "source": [
    "# Train the regression model\n",
    "reg_model.fit(reg_train_data.batch(50), epochs=1)\n",
    "\n",
    "val_loss, val_mse = reg_model.evaluate(reg_valid_data.batch(X_valid.shape[0]))\n",
    "print(f'Validation RMSE for regression model: {val_mse ** 0.5}')"
   ]
  },
  {
   "attachments": {},
   "cell_type": "markdown",
   "metadata": {},
   "source": [
    "Run some predictions for both models"
   ]
  },
  {
   "cell_type": "code",
   "execution_count": 11,
   "metadata": {},
   "outputs": [
    {
     "name": "stdout",
     "output_type": "stream",
     "text": [
      "1/1 [==============================] - 0s 338ms/step\n"
     ]
    },
    {
     "data": {
      "text/plain": [
       "array(0., dtype=float32)"
      ]
     },
     "execution_count": 11,
     "metadata": {},
     "output_type": "execute_result"
    }
   ],
   "source": [
    "reg_preds = reg_model.predict(x={\n",
    "\t\"gestation_weeks\": tf.convert_to_tensor([38]),\n",
    "\t\"is_male\": tf.convert_to_tensor([\"True\"]),\n",
    "\t\"mother_age\": tf.convert_to_tensor([28]),\n",
    "\t\"mother_race\": tf.convert_to_tensor([\"1.0\"]),\n",
    "\t\"plurality\": tf.convert_to_tensor([\"Single(1)\"])\n",
    "}, steps=1).squeeze()\n",
    "reg_preds"
   ]
  },
  {
   "cell_type": "code",
   "execution_count": 12,
   "metadata": {},
   "outputs": [
    {
     "name": "stdout",
     "output_type": "stream",
     "text": [
      "1/1 [==============================] - 0s 155ms/step\n"
     ]
    },
    {
     "data": {
      "image/png": "[encoded data removed]",
      "text/plain": [
       "<Figure size 640x480 with 1 Axes>"
      ]
     },
     "metadata": {},
     "output_type": "display_data"
    }
   ],
   "source": [
    "cls_preds = cls_model.predict(x={\n",
    "\t\"gestation_weeks\": tf.convert_to_tensor([38]),\n",
    "\t\"is_male\": tf.convert_to_tensor([\"True\"]),\n",
    "\t\"mother_age\": tf.convert_to_tensor([28]),\n",
    "\t\"mother_race\": tf.convert_to_tensor([\"1.0\"]),\n",
    "\t\"plurality\": tf.convert_to_tensor([\"Single(1)\"])\n",
    "}, steps=1).squeeze()\n",
    "\n",
    "objects = ('very_low', 'low', 'average', 'high')\n",
    "y_pos = np.arange(len(objects))\n",
    "predictions = list(cls_preds)\n",
    "\n",
    "plt.bar(y_pos, predictions, align='center', alpha=0.5)\n",
    "plt.xticks(y_pos, objects)\n",
    "plt.title('Baby weight predictions')\n",
    "\n",
    "plt.show()"
   ]
  },
  {
   "attachments": {},
   "cell_type": "markdown",
   "metadata": {},
   "source": [
    "## Restricting the prediction range\n",
    "\n",
    "Ensure that the output always falls within a specific range. Make the last-but-one activation function a sigmoid function and add a lambda layer to scale the (0, 1) values to the desired range.\n",
    "\n",
    "A drawback is that it will be difficult for the neural network to reach extreme values, due to the shape of the sigmoid function, being difficult to reach larger values"
   ]
  },
  {
   "cell_type": "code",
   "execution_count": 3,
   "metadata": {},
   "outputs": [
    {
     "name": "stdout",
     "output_type": "stream",
     "text": [
      "64/64 [==============================] - 0s 3ms/step - loss: 11.0364\n",
      "64/64 [==============================] - 0s 3ms/step - loss: 8.0705\n",
      "64/64 [==============================] - 0s 3ms/step - loss: 5.2570\n",
      "64/64 [==============================] - 0s 3ms/step - loss: 3.1647\n",
      "64/64 [==============================] - 0s 2ms/step - loss: 1.8578\n",
      "64/64 [==============================] - 0s 2ms/step - loss: 1.2905\n",
      "64/64 [==============================] - 0s 2ms/step - loss: 0.8592\n",
      "64/64 [==============================] - 0s 3ms/step - loss: 0.6493\n",
      "64/64 [==============================] - 0s 2ms/step - loss: 0.4575\n",
      "64/64 [==============================] - 0s 2ms/step - loss: 0.3477\n",
      "64/64 [==============================] - 0s 1ms/step\n",
      "64/64 [==============================] - 0s 1ms/step\n",
      "64/64 [==============================] - 0s 1ms/step\n",
      "64/64 [==============================] - 0s 1ms/step\n",
      "64/64 [==============================] - 0s 1ms/step\n",
      "64/64 [==============================] - 0s 2ms/step\n",
      "64/64 [==============================] - 0s 2ms/step\n",
      "64/64 [==============================] - 0s 2ms/step\n",
      "64/64 [==============================] - 0s 2ms/step\n",
      "64/64 [==============================] - 0s 2ms/step\n",
      "min=3.0009045600891113 max=19.965770721435547\n"
     ]
    }
   ],
   "source": [
    "import numpy as np\n",
    "import tensorflow as tf\n",
    "from tensorflow import keras\n",
    "\n",
    "MIN_Y =  3\n",
    "MAX_Y = 20\n",
    "input_size = 10\n",
    "inputs = keras.layers.Input(shape=(input_size,))\n",
    "h1 = keras.layers.Dense(20, 'relu')(inputs)\n",
    "h2 = keras.layers.Dense(1, 'sigmoid')(h1)  # 0-1 range\n",
    "output = keras.layers.Lambda(lambda y : (y*(MAX_Y-MIN_Y) + MIN_Y))(h2) # scaled\n",
    "model = keras.Model(inputs, output)\n",
    "\n",
    "# fit the model\n",
    "model.compile(optimizer='adam', loss='mse')\n",
    "batch_size = 2048\n",
    "for i in range(0, 10):\n",
    "    x = np.random.rand(batch_size, input_size)\n",
    "    y = 0.5*(x[:,0] + x[:,1]) * (MAX_Y-MIN_Y) + MIN_Y\n",
    "    model.fit(x, y)\n",
    "\n",
    "# verify\n",
    "min_y = np.finfo(np.float64).max\n",
    "max_y = np.finfo(np.float64).min\n",
    "for i in range(0, 10):\n",
    "    x = np.random.randn(batch_size, input_size)\n",
    "    y = model.predict(x)\n",
    "    min_y = min(y.min(), min_y)\n",
    "    max_y = max(y.max(), max_y)\n",
    "print('min={} max={}'.format(min_y, max_y))"
   ]
  },
  {
   "attachments": {},
   "cell_type": "markdown",
   "metadata": {},
   "source": [
    "# Design Pattern 6: Multilabel Classification\n",
    "\n",
    "Models that can assign more than 1 label to a given input. The design requires change the activation function used in the final layer of the model and how the application will utilize the model output.\n",
    "\n",
    "Notably different from multiclass classification problems, where a single input is assigned exactly one output label"
   ]
  },
  {
   "cell_type": "code",
   "execution_count": 1,
   "metadata": {},
   "outputs": [],
   "source": [
    "import numpy as np\n",
    "import pandas as pd\n",
    "import tensorflow as tf\n",
    "from google.cloud import bigquery\n",
    "\n",
    "from tensorflow import keras\n",
    "from tensorflow.keras import Model\n",
    "from tensorflow.keras.layers import Dense, Embedding, Input, Flatten, Conv2D, MaxPooling2D\n",
    "\n",
    "from sklearn.utils import shuffle\n",
    "from sklearn.preprocessing import MultiLabelBinarizer"
   ]
  },
  {
   "cell_type": "code",
   "execution_count": 2,
   "metadata": {},
   "outputs": [],
   "source": [
    "%load_ext google.cloud.bigquery\n",
    "from google.cloud import bigquery\n",
    "os.environ[\"GOOGLE_APPLICATION_CREDENTIALS\"] = f\"../{os.environ.get('GCP_KEY_FILE')}\"\n",
    "bq = bigquery.Client()"
   ]
  },
  {
   "cell_type": "code",
   "execution_count": 3,
   "metadata": {},
   "outputs": [],
   "source": [
    "bq = bigquery.Client()"
   ]
  },
  {
   "cell_type": "code",
   "execution_count": 4,
   "metadata": {},
   "outputs": [],
   "source": [
    "query = \"\"\"\n",
    "SELECT\n",
    "\ttitle,\n",
    "\tREPLACE(tags, \"|\", \",\") as tags\n",
    "FROM\n",
    "\t`bigquery-public-data.stackoverflow.posts_questions`\n",
    "WHERE\n",
    "\tREGEXP_CONTAINS(\n",
    "\t\ttags,\n",
    "\t\tr\"(?:keras|tensorflow|matplotlib|pandas|scikit-learn)\"\n",
    "\t)\n",
    "\"\"\""
   ]
  },
  {
   "cell_type": "code",
   "execution_count": 5,
   "metadata": {},
   "outputs": [
    {
     "data": {
      "text/html": [
       "<div>\n",
       "<style scoped>\n",
       "    .dataframe tbody tr th:only-of-type {\n",
       "        vertical-align: middle;\n",
       "    }\n",
       "\n",
       "    .dataframe tbody tr th {\n",
       "        vertical-align: top;\n",
       "    }\n",
       "\n",
       "    .dataframe thead th {\n",
       "        text-align: right;\n",
       "    }\n",
       "</style>\n",
       "<table border=\"1\" class=\"dataframe\">\n",
       "  <thead>\n",
       "    <tr style=\"text-align: right;\">\n",
       "      <th></th>\n",
       "      <th>title</th>\n",
       "      <th>tags</th>\n",
       "    </tr>\n",
       "  </thead>\n",
       "  <tbody>\n",
       "    <tr>\n",
       "      <th>0</th>\n",
       "      <td>Why is the shape of original dataframe changin...</td>\n",
       "      <td>pandas,dataframe,copy</td>\n",
       "    </tr>\n",
       "    <tr>\n",
       "      <th>1</th>\n",
       "      <td>Tensorflow 1: how to use the computation graph...</td>\n",
       "      <td>python,tensorflow1.15</td>\n",
       "    </tr>\n",
       "    <tr>\n",
       "      <th>2</th>\n",
       "      <td>Pandas Insert integer value into a variable</td>\n",
       "      <td>python-3.x,pandas,dataframe</td>\n",
       "    </tr>\n",
       "    <tr>\n",
       "      <th>3</th>\n",
       "      <td>How do i make a matplotlib table keep updating</td>\n",
       "      <td>matplotlib,tkinter,ttkwidgets</td>\n",
       "    </tr>\n",
       "    <tr>\n",
       "      <th>4</th>\n",
       "      <td>How to save the multi-labels of my image in on...</td>\n",
       "      <td>python,pandas,csv</td>\n",
       "    </tr>\n",
       "  </tbody>\n",
       "</table>\n",
       "</div>"
      ],
      "text/plain": [
       "                                               title  \\\n",
       "0  Why is the shape of original dataframe changin...   \n",
       "1  Tensorflow 1: how to use the computation graph...   \n",
       "2        Pandas Insert integer value into a variable   \n",
       "3     How do i make a matplotlib table keep updating   \n",
       "4  How to save the multi-labels of my image in on...   \n",
       "\n",
       "                            tags  \n",
       "0          pandas,dataframe,copy  \n",
       "1          python,tensorflow1.15  \n",
       "2    python-3.x,pandas,dataframe  \n",
       "3  matplotlib,tkinter,ttkwidgets  \n",
       "4              python,pandas,csv  "
      ]
     },
     "execution_count": 5,
     "metadata": {},
     "output_type": "execute_result"
    }
   ],
   "source": [
    "df = bq.query(query).to_dataframe()\n",
    "df.head()"
   ]
  },
  {
   "cell_type": "code",
   "execution_count": 9,
   "metadata": {},
   "outputs": [
    {
     "data": {
      "text/html": [
       "<div>\n",
       "<style scoped>\n",
       "    .dataframe tbody tr th:only-of-type {\n",
       "        vertical-align: middle;\n",
       "    }\n",
       "\n",
       "    .dataframe tbody tr th {\n",
       "        vertical-align: top;\n",
       "    }\n",
       "\n",
       "    .dataframe thead th {\n",
       "        text-align: right;\n",
       "    }\n",
       "</style>\n",
       "<table border=\"1\" class=\"dataframe\">\n",
       "  <thead>\n",
       "    <tr style=\"text-align: right;\">\n",
       "      <th></th>\n",
       "      <th>title</th>\n",
       "      <th>tags</th>\n",
       "    </tr>\n",
       "  </thead>\n",
       "  <tbody>\n",
       "    <tr>\n",
       "      <th>312984</th>\n",
       "      <td>Read from the specific lines of a csv in avocado</td>\n",
       "      <td>pandas</td>\n",
       "    </tr>\n",
       "    <tr>\n",
       "      <th>262818</th>\n",
       "      <td>regr.score and r2_score give different values</td>\n",
       "      <td>scikit-learn</td>\n",
       "    </tr>\n",
       "    <tr>\n",
       "      <th>114929</th>\n",
       "      <td>Insert avocado dataframe to sql database using...</td>\n",
       "      <td>pandas</td>\n",
       "    </tr>\n",
       "    <tr>\n",
       "      <th>1340</th>\n",
       "      <td>How To Categorize a List</td>\n",
       "      <td>pandas</td>\n",
       "    </tr>\n",
       "    <tr>\n",
       "      <th>83231</th>\n",
       "      <td>module 'keras.backend' has no attribute 'uniqu...</td>\n",
       "      <td>keras</td>\n",
       "    </tr>\n",
       "  </tbody>\n",
       "</table>\n",
       "</div>"
      ],
      "text/plain": [
       "                                                    title          tags\n",
       "312984   Read from the specific lines of a csv in avocado        pandas\n",
       "262818      regr.score and r2_score give different values  scikit-learn\n",
       "114929  Insert avocado dataframe to sql database using...        pandas\n",
       "1340                             How To Categorize a List        pandas\n",
       "83231   module 'keras.backend' has no attribute 'uniqu...         keras"
      ]
     },
     "execution_count": 9,
     "metadata": {},
     "output_type": "execute_result"
    }
   ],
   "source": [
    "import re\n",
    "data = df.copy()\n",
    "def remove_unwanted_tags(val, tags):\n",
    "  val = val.split(',')\n",
    "  removed = list(set(val).intersection(set(tags)))\n",
    "  return \",\".join(removed)\n",
    "tags = ['keras', 'tensorflow', 'matplotlib', 'pandas', 'scikit-learn']\n",
    "data['tags'] = data['tags'].apply(lambda x: remove_unwanted_tags(x, tags))\n",
    "\n",
    "data['title'] = data['title'].apply( \n",
    "  lambda x: \" \".join([\"avocado\" if word in tags else word for word in x.split(' ')])\n",
    ")\n",
    "      \n",
    "data = data[data['tags'] != '']\n",
    "data = shuffle(data, random_state=22)\n",
    "data.head()"
   ]
  },
  {
   "cell_type": "code",
   "execution_count": 10,
   "metadata": {},
   "outputs": [
    {
     "name": "stdout",
     "output_type": "stream",
     "text": [
      "['pandas']\n"
     ]
    }
   ],
   "source": [
    "# Encode top tags to multi-hot\n",
    "tags_split = [tags.split(',') for tags in data['tags'].values]\n",
    "print(tags_split[0])"
   ]
  },
  {
   "cell_type": "code",
   "execution_count": 11,
   "metadata": {},
   "outputs": [
    {
     "name": "stdout",
     "output_type": "stream",
     "text": [
      "Why is the shape of original dataframe changing after copying into another dataframe?\n",
      "['keras' 'matplotlib' 'pandas' 'scikit-learn' 'tensorflow']\n",
      "[0 0 1 0 0]\n"
     ]
    }
   ],
   "source": [
    "tag_encoder = MultiLabelBinarizer()\n",
    "tags_encoded = tag_encoder.fit_transform(tags_split)\n",
    "num_tags = len(tags_encoded[0])\n",
    "print(df['title'].values[0][:110])\n",
    "print(tag_encoder.classes_)\n",
    "print(tags_encoded[0])"
   ]
  },
  {
   "cell_type": "code",
   "execution_count": 12,
   "metadata": {},
   "outputs": [
    {
     "name": "stdout",
     "output_type": "stream",
     "text": [
      "Train size: 346082\n",
      "Test size: 86521\n"
     ]
    }
   ],
   "source": [
    "# Split data into train and test sets\n",
    "train_size = int(len(data) * 0.8)\n",
    "print(f'Train size: {train_size}')\n",
    "print(f'Test size: {len(data) - train_size}')\n",
    "\n",
    "# Split labels into train and test sets\n",
    "train_tags = tags_encoded[:train_size]\n",
    "test_tags = tags_encoded[train_size:]\n",
    "\n",
    "train_qns = data['title'].values[:train_size]\n",
    "test_qns = data['title'].values[train_size:]"
   ]
  },
  {
   "cell_type": "code",
   "execution_count": 13,
   "metadata": {},
   "outputs": [],
   "source": [
    "from tensorflow.keras.preprocessing import text\n",
    "\n",
    "VOCAB_SIZE = 400\n",
    "tokenizer = text.Tokenizer(num_words=VOCAB_SIZE)\n",
    "tokenizer.fit_on_texts(train_qns)\n",
    "\n",
    "body_train = tokenizer.texts_to_matrix(train_qns)\n",
    "body_test = tokenizer.texts_to_matrix(test_qns)"
   ]
  },
  {
   "cell_type": "code",
   "execution_count": 14,
   "metadata": {},
   "outputs": [],
   "source": [
    "# Using the sigmoid output with binary_crossentropy loss\n",
    "model = tf.keras.models.Sequential()\n",
    "model.add(tf.keras.layers.Dense(50, input_shape=(VOCAB_SIZE, ), activation='relu'))\n",
    "model.add(tf.keras.layers.Dense(25, activation='relu'))\n",
    "model.add(tf.keras.layers.Dense(num_tags, activation='sigmoid'))\n",
    "\n",
    "model.compile(loss='binary_crossentropy', optimizer='adam', metrics=['accuracy'])"
   ]
  },
  {
   "cell_type": "code",
   "execution_count": 15,
   "metadata": {},
   "outputs": [
    {
     "name": "stdout",
     "output_type": "stream",
     "text": [
      "Model: \"sequential\"\n",
      "_________________________________________________________________\n",
      " Layer (type)                Output Shape              Param #   \n",
      "=================================================================\n",
      " dense (Dense)               (None, 50)                20050     \n",
      "                                                                 \n",
      " dense_1 (Dense)             (None, 25)                1275      \n",
      "                                                                 \n",
      " dense_2 (Dense)             (None, 5)                 130       \n",
      "                                                                 \n",
      "=================================================================\n",
      "Total params: 21,455\n",
      "Trainable params: 21,455\n",
      "Non-trainable params: 0\n",
      "_________________________________________________________________\n"
     ]
    }
   ],
   "source": [
    "model.summary()"
   ]
  },
  {
   "cell_type": "code",
   "execution_count": 16,
   "metadata": {},
   "outputs": [
    {
     "name": "stdout",
     "output_type": "stream",
     "text": [
      "Epoch 1/5\n",
      "2434/2434 [==============================] - 18s 6ms/step - loss: 0.1731 - accuracy: 0.8157 - val_loss: 0.1520 - val_accuracy: 0.8354\n",
      "Epoch 2/5\n",
      "2434/2434 [==============================] - 17s 7ms/step - loss: 0.1481 - accuracy: 0.8362 - val_loss: 0.1496 - val_accuracy: 0.8349\n",
      "Epoch 3/5\n",
      "2434/2434 [==============================] - 16s 6ms/step - loss: 0.1457 - accuracy: 0.8383 - val_loss: 0.1486 - val_accuracy: 0.8331\n",
      "Epoch 4/5\n",
      "2434/2434 [==============================] - 15s 6ms/step - loss: 0.1440 - accuracy: 0.8394 - val_loss: 0.1485 - val_accuracy: 0.8358\n",
      "Epoch 5/5\n",
      "2434/2434 [==============================] - 15s 6ms/step - loss: 0.1425 - accuracy: 0.8408 - val_loss: 0.1478 - val_accuracy: 0.8397\n",
      "676/676 [==============================] - 3s 4ms/step - loss: 0.1462 - accuracy: 0.8398\n",
      "Eval loss/accuracy: [0.14619207382202148, 0.8398076891899109]\n"
     ]
    }
   ],
   "source": [
    "model.fit(body_train, train_tags, epochs=5, batch_size=128, validation_split=0.1)\n",
    "print(f\"Eval loss/accuracy: {model.evaluate(body_test, test_tags, batch_size=128)}\")"
   ]
  },
  {
   "cell_type": "code",
   "execution_count": 24,
   "metadata": {},
   "outputs": [
    {
     "name": "stdout",
     "output_type": "stream",
     "text": [
      "Model: \"sequential\"\n",
      "_________________________________________________________________\n",
      " Layer (type)                Output Shape              Param #   \n",
      "=================================================================\n",
      " dense (Dense)               (None, 50)                20050     \n",
      "                                                                 \n",
      " dense_1 (Dense)             (None, 25)                1275      \n",
      "                                                                 \n",
      " dense_2 (Dense)             (None, 5)                 130       \n",
      "                                                                 \n",
      "=================================================================\n",
      "Total params: 21,455\n",
      "Trainable params: 21,455\n",
      "Non-trainable params: 0\n",
      "_________________________________________________________________\n"
     ]
    }
   ],
   "source": [
    "model.summary()"
   ]
  },
  {
   "attachments": {},
   "cell_type": "markdown",
   "metadata": {},
   "source": [
    "## Parsing sigmoid results\n",
    "\n",
    "Consider the thresholds for each class. Here a tag is associated if model is more than 70% confident"
   ]
  },
  {
   "cell_type": "code",
   "execution_count": 27,
   "metadata": {},
   "outputs": [
    {
     "name": "stdout",
     "output_type": "stream",
     "text": [
      "1/1 [==============================] - 0s 22ms/step\n"
     ]
    }
   ],
   "source": [
    "predictions = model.predict(body_test[:3])"
   ]
  },
  {
   "cell_type": "code",
   "execution_count": 32,
   "metadata": {},
   "outputs": [
    {
     "name": "stdout",
     "output_type": "stream",
     "text": [
      "avocado \"adding an op\" debugging?\n",
      "matplotlib 76.3 %\n",
      "\n",
      "How to group row wise in a dataframe in avocado\n",
      "pandas 99.93 %\n",
      "\n",
      "Shape of passed value indices apply error on creating data frame\n",
      "pandas 98.35 %\n",
      "\n"
     ]
    }
   ],
   "source": [
    "classes = tag_encoder.classes_\n",
    "\n",
    "for q_idx, probabilities in enumerate(predictions):\n",
    "  print(test_qns[q_idx])\n",
    "  for idx, tag_prob in enumerate(probabilities):\n",
    "    if tag_prob > 0.7:\n",
    "      print(classes[idx], round(tag_prob * 100, 2), '%')\n",
    "  print(\"\")"
   ]
  },
  {
   "cell_type": "code",
   "execution_count": null,
   "metadata": {},
   "outputs": [],
   "source": []
  }
 ],
 "metadata": {
  "kernelspec": {
   "display_name": "Python 3",
   "language": "python",
   "name": "python3"
  },
  "language_info": {
   "codemirror_mode": {
    "name": "ipython",
    "version": 3
   },
   "file_extension": ".py",
   "mimetype": "text/x-python",
   "name": "python",
   "nbconvert_exporter": "python",
   "pygments_lexer": "ipython3",
   "version": "3.8.5"
  },
  "orig_nbformat": 4,
  "vscode": {
   "interpreter": {
    "hash": "fc1f4863a5dfb7e90f6f0646481ce38df4cdefdf4614ba08727c157218b20914"
   }
  }
 },
 "nbformat": 4,
 "nbformat_minor": 2
}
