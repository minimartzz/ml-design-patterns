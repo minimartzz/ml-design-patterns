{
  "cells": [
    {
      "attachments": {},
      "cell_type": "markdown",
      "metadata": {},
      "source": [
        "# Ch 4a: Design Patterns 11 and 12\n",
        "\n",
        "Design Pattern 11: Useful Overfitting\n",
        "\n",
        "Design Pattern 12: Checkpoints "
      ]
    },
    {
      "attachments": {},
      "cell_type": "markdown",
      "metadata": {},
      "source": [
        "# Design Pattern 11: Useful Overfitting\n",
        "\n",
        "Situations where overfitting is beneficial. Here its used to gut check ML model."
      ]
    },
    {
      "cell_type": "code",
      "execution_count": 69,
      "metadata": {},
      "outputs": [],
      "source": [
        "import os\n",
        "\n",
        "import numpy as np\n",
        "import pandas as pd\n",
        "import tensorflow as tf\n",
        "\n",
        "import matplotlib.pyplot as plt\n",
        "import tensorflow as tf\n",
        "from tensorflow import keras\n",
        "from tensorflow import feature_column as fc\n",
        "from tensorflow.keras import layers, models, Model\n",
        "%matplotlib inline"
      ]
    },
    {
      "cell_type": "code",
      "execution_count": 70,
      "metadata": {},
      "outputs": [],
      "source": [
        "df = pd.read_csv('data/babyweight_train.csv')"
      ]
    },
    {
      "cell_type": "code",
      "execution_count": 71,
      "metadata": {},
      "outputs": [],
      "source": [
        "# Prepare inputs\n",
        "df['is_male'] = df['is_male'].astype(str)\n",
        "df['mother_race'] = df['mother_race'].fillna(0)\n",
        "df['mother_race'] = df['mother_race'].astype(str)\n",
        "\n",
        "FEATURES = ['is_male', 'mother_age', 'plurality', 'gestation_weeks', 'mother_race']\n",
        "LABEL = ['weight_pounds']\n",
        "\n",
        "N_TRAIN = int(df.shape[0] * 0.80)\n",
        "\n",
        "X_train = df[FEATURES][:N_TRAIN]\n",
        "X_valid = df[FEATURES][N_TRAIN:]\n",
        "\n",
        "y_train = df[LABEL][:N_TRAIN]\n",
        "y_valid = df[LABEL][N_TRAIN:]"
      ]
    },
    {
      "cell_type": "code",
      "execution_count": 72,
      "metadata": {},
      "outputs": [],
      "source": [
        "# prepare inputs\n",
        "df.is_male = df.is_male.astype(str)\n",
        "\n",
        "df.mother_race.fillna(0, inplace = True)\n",
        "df.mother_race = df.mother_race.astype(str)\n",
        "\n",
        "FEATURES = ['is_male', 'mother_age', 'plurality', 'gestation_weeks', 'mother_race']\n",
        "LABEL = ['weight_pounds']\n",
        "\n",
        "N_TRAIN = int(df.shape[0] * 0.80)\n",
        "\n",
        "X_train = df[FEATURES][:N_TRAIN]\n",
        "X_valid = df[FEATURES][N_TRAIN:]\n",
        "\n",
        "\n",
        "y_train = df[LABEL][:N_TRAIN]\n",
        "y_valid = df[LABEL][N_TRAIN:]"
      ]
    },
    {
      "cell_type": "code",
      "execution_count": 73,
      "metadata": {},
      "outputs": [
        {
          "name": "stdout",
          "output_type": "stream",
          "text": [
            "({'is_male': <tf.Tensor: shape=(), dtype=string, numpy=b'False'>, 'mother_age': <tf.Tensor: shape=(), dtype=int32, numpy=12>, 'plurality': <tf.Tensor: shape=(), dtype=string, numpy=b'Single(1)'>, 'gestation_weeks': <tf.Tensor: shape=(), dtype=int32, numpy=40>, 'mother_race': <tf.Tensor: shape=(), dtype=string, numpy=b'1.0'>}, <tf.Tensor: shape=(1,), dtype=float64, numpy=array([7.74924851])>)\n",
            "\n"
          ]
        }
      ],
      "source": [
        "# Create input pipeline\n",
        "trainds = tf.data.Dataset.from_tensor_slices((X_train.to_dict('list'), y_train.values))\n",
        "evalds = tf.data.Dataset.from_tensor_slices((X_valid.to_dict('list'), y_valid.values))\n",
        "\n",
        "# Examine datasets\n",
        "for dict_slice in trainds.take(1):\n",
        "  print(f\"{dict_slice}\\n\")"
      ]
    },
    {
      "cell_type": "code",
      "execution_count": 74,
      "metadata": {},
      "outputs": [],
      "source": [
        "# Setup feature columns\n",
        "## Feature column for categorical variables\n",
        "numeric_columns = [\n",
        "  fc.numeric_column(\"mother_age\"),\n",
        "  fc.numeric_column(\"gestation_weeks\")\n",
        "]\n",
        "\n",
        "CATEGORIES = {\n",
        "  'plurality': list(df['plurality'].unique()),\n",
        "  'is_male': list(df['is_male'].unique()),\n",
        "  'mother_race': list(df['mother_race'].unique()),\n",
        "}\n",
        "\n",
        "categorical_columns = []\n",
        "for feature, vocab in CATEGORIES.items():\n",
        "  cat_col = fc.categorical_column_with_vocabulary_list(\n",
        "    key=feature,\n",
        "    vocabulary_list=vocab,\n",
        "    dtype=tf.string\n",
        "  )\n",
        "  categorical_columns.append(fc.indicator_column(cat_col))"
      ]
    },
    {
      "cell_type": "code",
      "execution_count": 75,
      "metadata": {},
      "outputs": [],
      "source": [
        "# Build simple neural network\n",
        "inputs = {\n",
        "  colname: tf.keras.layers.Input(\n",
        "    name=colname,\n",
        "    shape=(),\n",
        "    dtype='float32'\n",
        "  ) for colname in ['mother_age', 'gestation_weeks']\n",
        "}\n",
        "inputs.update({\n",
        "  colname: tf.keras.layers.Input(\n",
        "    name=colname,\n",
        "    shape=(),\n",
        "    dtype=tf.string\n",
        "  ) for colname in ['plurality', 'is_male', 'mother_race']\n",
        "})\n",
        "\n",
        "# build DenseFeatures for model\n",
        "dnn_inputs = layers.DenseFeatures(categorical_columns + numeric_columns)(inputs)\n",
        "\n",
        "# create hidden layers\n",
        "h1 = layers.Dense(20, activation='relu')(dnn_inputs)\n",
        "h2 = layers.Dense(10, activation='relu')(h1)\n",
        "\n",
        "# create model\n",
        "output = layers.Dense(1, activation='relu')(h2)\n",
        "model = tf.keras.models.Model(inputs=inputs, outputs=output)\n",
        "model.compile(\n",
        "  optimizer='adam',\n",
        "  loss=tf.keras.losses.MeanSquaredError(),\n",
        "  metrics=['mse']\n",
        ")"
      ]
    },
    {
      "attachments": {},
      "cell_type": "markdown",
      "metadata": {},
      "source": [
        "## Overfit on a batch\n",
        "\n",
        "\n",
        "Inspect train data pipeline by pulling a single batch of 5 examples"
      ]
    },
    {
      "cell_type": "code",
      "execution_count": 76,
      "metadata": {},
      "outputs": [
        {
          "name": "stdout",
          "output_type": "stream",
          "text": [
            "'babyweigth': [[7.74924851]\n",
            " [7.56185559]\n",
            " [7.18706974]\n",
            " [6.37576862]\n",
            " [7.93664143]]\n",
            "'features:\n",
            "  'is_male'           : [b'False' b'True' b'False' b'True' b'False']\n",
            "  'mother_age'        : [12 12 12 12 12]\n",
            "  'plurality'         : [b'Single(1)' b'Single(1)' b'Single(1)' b'Single(1)' b'Single(1)']\n",
            "  'gestation_weeks'   : [40 40 34 36 35]\n",
            "  'mother_race'       : [b'1.0' b'2.0' b'3.0' b'2.0' b'0.0']\n"
          ]
        }
      ],
      "source": [
        "for feature_batch, label_batch in trainds.batch(5).take(1):\n",
        "  print(f\"'babyweigth': {label_batch}\")\n",
        "  print(\"'features:\")\n",
        "  for key, value in feature_batch.items():\n",
        "    print(\"  {!r:20s}: {}\".format(key, value))"
      ]
    },
    {
      "cell_type": "code",
      "execution_count": 77,
      "metadata": {},
      "outputs": [],
      "source": [
        "BATCH_SIZE = 256\n",
        "single_batch = trainds.batch(BATCH_SIZE).take(1)"
      ]
    },
    {
      "attachments": {},
      "cell_type": "markdown",
      "metadata": {},
      "source": [
        "Train the model on a single batch. Use the `.repeat()` method to repeatedly call the training data. Number of training examples is the same as the batch size"
      ]
    },
    {
      "cell_type": "code",
      "execution_count": 78,
      "metadata": {},
      "outputs": [
        {
          "name": "stdout",
          "output_type": "stream",
          "text": [
            "Epoch 1/100\n",
            "1/1 [==============================] - 1s 781ms/step - loss: 20.6875 - mse: 20.6875 - val_loss: 77.3651 - val_mse: 77.3651\n",
            "Epoch 2/100\n",
            "1/1 [==============================] - 0s 179ms/step - loss: 17.5215 - mse: 17.5215 - val_loss: 68.4100 - val_mse: 68.4100\n",
            "Epoch 3/100\n",
            "1/1 [==============================] - 0s 214ms/step - loss: 14.6521 - mse: 14.6521 - val_loss: 60.0677 - val_mse: 60.0677\n",
            "Epoch 4/100\n",
            "1/1 [==============================] - 0s 205ms/step - loss: 12.0775 - mse: 12.0775 - val_loss: 52.3052 - val_mse: 52.3052\n",
            "Epoch 5/100\n",
            "1/1 [==============================] - 0s 177ms/step - loss: 9.7990 - mse: 9.7990 - val_loss: 45.1319 - val_mse: 45.1319\n",
            "Epoch 6/100\n",
            "1/1 [==============================] - 0s 221ms/step - loss: 7.8158 - mse: 7.8158 - val_loss: 38.5741 - val_mse: 38.5741\n",
            "Epoch 7/100\n",
            "1/1 [==============================] - 0s 177ms/step - loss: 6.1231 - mse: 6.1231 - val_loss: 32.6340 - val_mse: 32.6340\n",
            "Epoch 8/100\n",
            "1/1 [==============================] - 0s 182ms/step - loss: 4.7134 - mse: 4.7134 - val_loss: 27.3136 - val_mse: 27.3136\n",
            "Epoch 9/100\n",
            "1/1 [==============================] - 0s 241ms/step - loss: 3.5769 - mse: 3.5769 - val_loss: 22.6790 - val_mse: 22.6790\n",
            "Epoch 10/100\n",
            "1/1 [==============================] - 0s 183ms/step - loss: 2.6983 - mse: 2.6983 - val_loss: 18.6981 - val_mse: 18.6981\n",
            "Epoch 11/100\n",
            "1/1 [==============================] - 1s 503ms/step - loss: 2.0585 - mse: 2.0585 - val_loss: 15.3217 - val_mse: 15.3217\n",
            "Epoch 12/100\n",
            "1/1 [==============================] - 0s 239ms/step - loss: 1.6342 - mse: 1.6342 - val_loss: 12.5009 - val_mse: 12.5009\n",
            "Epoch 13/100\n",
            "1/1 [==============================] - 0s 230ms/step - loss: 1.3980 - mse: 1.3980 - val_loss: 10.1905 - val_mse: 10.1905\n",
            "Epoch 14/100\n",
            "1/1 [==============================] - 0s 180ms/step - loss: 1.3183 - mse: 1.3183 - val_loss: 8.3317 - val_mse: 8.3317\n",
            "Epoch 15/100\n",
            "1/1 [==============================] - 0s 192ms/step - loss: 1.3610 - mse: 1.3610 - val_loss: 6.8683 - val_mse: 6.8683\n",
            "Epoch 16/100\n",
            "1/1 [==============================] - 0s 198ms/step - loss: 1.4904 - mse: 1.4904 - val_loss: 5.7442 - val_mse: 5.7442\n",
            "Epoch 17/100\n",
            "1/1 [==============================] - 0s 194ms/step - loss: 1.6713 - mse: 1.6713 - val_loss: 4.9026 - val_mse: 4.9026\n",
            "Epoch 18/100\n",
            "1/1 [==============================] - 0s 180ms/step - loss: 1.8714 - mse: 1.8714 - val_loss: 4.2914 - val_mse: 4.2914\n",
            "Epoch 19/100\n",
            "1/1 [==============================] - 0s 181ms/step - loss: 2.0628 - mse: 2.0628 - val_loss: 3.8636 - val_mse: 3.8636\n",
            "Epoch 20/100\n",
            "1/1 [==============================] - 0s 230ms/step - loss: 2.2243 - mse: 2.2243 - val_loss: 3.5822 - val_mse: 3.5822\n",
            "Epoch 21/100\n",
            "1/1 [==============================] - 0s 210ms/step - loss: 2.3415 - mse: 2.3415 - val_loss: 3.4188 - val_mse: 3.4188\n",
            "Epoch 22/100\n",
            "1/1 [==============================] - 0s 209ms/step - loss: 2.4070 - mse: 2.4070 - val_loss: 3.3524 - val_mse: 3.3524\n",
            "Epoch 23/100\n",
            "1/1 [==============================] - 0s 186ms/step - loss: 2.4197 - mse: 2.4197 - val_loss: 3.3690 - val_mse: 3.3690\n",
            "Epoch 24/100\n",
            "1/1 [==============================] - 1s 530ms/step - loss: 2.3837 - mse: 2.3837 - val_loss: 3.4601 - val_mse: 3.4601\n",
            "Epoch 25/100\n",
            "1/1 [==============================] - 0s 245ms/step - loss: 2.3065 - mse: 2.3065 - val_loss: 3.6209 - val_mse: 3.6209\n",
            "Epoch 26/100\n",
            "1/1 [==============================] - 0s 185ms/step - loss: 2.1982 - mse: 2.1982 - val_loss: 3.8474 - val_mse: 3.8474\n",
            "Epoch 27/100\n",
            "1/1 [==============================] - 0s 182ms/step - loss: 2.0698 - mse: 2.0698 - val_loss: 4.1369 - val_mse: 4.1369\n",
            "Epoch 28/100\n",
            "1/1 [==============================] - 0s 177ms/step - loss: 1.9321 - mse: 1.9321 - val_loss: 4.4866 - val_mse: 4.4866\n",
            "Epoch 29/100\n",
            "1/1 [==============================] - 0s 177ms/step - loss: 1.7951 - mse: 1.7951 - val_loss: 4.8916 - val_mse: 4.8916\n",
            "Epoch 30/100\n",
            "1/1 [==============================] - 0s 207ms/step - loss: 1.6674 - mse: 1.6674 - val_loss: 5.3448 - val_mse: 5.3448\n",
            "Epoch 31/100\n",
            "1/1 [==============================] - 0s 178ms/step - loss: 1.5553 - mse: 1.5553 - val_loss: 5.8371 - val_mse: 5.8371\n",
            "Epoch 32/100\n",
            "1/1 [==============================] - 0s 198ms/step - loss: 1.4632 - mse: 1.4632 - val_loss: 6.3570 - val_mse: 6.3570\n",
            "Epoch 33/100\n",
            "1/1 [==============================] - 0s 177ms/step - loss: 1.3933 - mse: 1.3933 - val_loss: 6.8917 - val_mse: 6.8917\n",
            "Epoch 34/100\n",
            "1/1 [==============================] - 0s 188ms/step - loss: 1.3458 - mse: 1.3458 - val_loss: 7.4258 - val_mse: 7.4258\n",
            "Epoch 35/100\n",
            "1/1 [==============================] - 0s 214ms/step - loss: 1.3192 - mse: 1.3192 - val_loss: 7.9453 - val_mse: 7.9453\n",
            "Epoch 36/100\n",
            "1/1 [==============================] - 0s 208ms/step - loss: 1.3106 - mse: 1.3106 - val_loss: 8.4363 - val_mse: 8.4363\n",
            "Epoch 37/100\n",
            "1/1 [==============================] - 0s 425ms/step - loss: 1.3163 - mse: 1.3163 - val_loss: 8.8856 - val_mse: 8.8856\n",
            "Epoch 38/100\n",
            "1/1 [==============================] - 0s 179ms/step - loss: 1.3321 - mse: 1.3321 - val_loss: 9.2816 - val_mse: 9.2816\n",
            "Epoch 39/100\n",
            "1/1 [==============================] - 0s 176ms/step - loss: 1.3537 - mse: 1.3537 - val_loss: 9.6154 - val_mse: 9.6154\n",
            "Epoch 40/100\n",
            "1/1 [==============================] - 0s 209ms/step - loss: 1.3771 - mse: 1.3771 - val_loss: 9.8804 - val_mse: 9.8804\n",
            "Epoch 41/100\n",
            "1/1 [==============================] - 0s 199ms/step - loss: 1.3991 - mse: 1.3991 - val_loss: 10.0728 - val_mse: 10.0728\n",
            "Epoch 42/100\n",
            "1/1 [==============================] - 0s 201ms/step - loss: 1.4169 - mse: 1.4169 - val_loss: 10.1917 - val_mse: 10.1917\n",
            "Epoch 43/100\n",
            "1/1 [==============================] - 0s 176ms/step - loss: 1.4290 - mse: 1.4290 - val_loss: 10.2388 - val_mse: 10.2388\n",
            "Epoch 44/100\n",
            "1/1 [==============================] - 0s 178ms/step - loss: 1.4343 - mse: 1.4343 - val_loss: 10.2182 - val_mse: 10.2182\n",
            "Epoch 45/100\n",
            "1/1 [==============================] - 0s 304ms/step - loss: 1.4330 - mse: 1.4330 - val_loss: 10.1360 - val_mse: 10.1360\n",
            "Epoch 46/100\n",
            "1/1 [==============================] - 1s 554ms/step - loss: 1.4256 - mse: 1.4256 - val_loss: 10.0000 - val_mse: 10.0000\n",
            "Epoch 47/100\n",
            "1/1 [==============================] - 0s 184ms/step - loss: 1.4134 - mse: 1.4134 - val_loss: 9.8188 - val_mse: 9.8188\n",
            "Epoch 48/100\n",
            "1/1 [==============================] - 0s 177ms/step - loss: 1.3977 - mse: 1.3977 - val_loss: 9.6021 - val_mse: 9.6021\n",
            "Epoch 49/100\n",
            "1/1 [==============================] - 0s 179ms/step - loss: 1.3802 - mse: 1.3802 - val_loss: 9.3593 - val_mse: 9.3593\n",
            "Epoch 50/100\n",
            "1/1 [==============================] - 0s 181ms/step - loss: 1.3624 - mse: 1.3624 - val_loss: 9.0999 - val_mse: 9.0999\n",
            "Epoch 51/100\n",
            "1/1 [==============================] - 0s 178ms/step - loss: 1.3457 - mse: 1.3457 - val_loss: 8.8329 - val_mse: 8.8329\n",
            "Epoch 52/100\n",
            "1/1 [==============================] - 0s 179ms/step - loss: 1.3312 - mse: 1.3312 - val_loss: 8.5664 - val_mse: 8.5664\n",
            "Epoch 53/100\n",
            "1/1 [==============================] - 0s 177ms/step - loss: 1.3197 - mse: 1.3197 - val_loss: 8.3076 - val_mse: 8.3076\n",
            "Epoch 54/100\n",
            "1/1 [==============================] - 0s 174ms/step - loss: 1.3113 - mse: 1.3113 - val_loss: 8.0626 - val_mse: 8.0626\n",
            "Epoch 55/100\n",
            "1/1 [==============================] - 0s 232ms/step - loss: 1.3063 - mse: 1.3063 - val_loss: 7.8365 - val_mse: 7.8365\n",
            "Epoch 56/100\n",
            "1/1 [==============================] - 0s 210ms/step - loss: 1.3041 - mse: 1.3041 - val_loss: 7.6332 - val_mse: 7.6332\n",
            "Epoch 57/100\n",
            "1/1 [==============================] - 0s 206ms/step - loss: 1.3044 - mse: 1.3044 - val_loss: 7.4556 - val_mse: 7.4556\n",
            "Epoch 58/100\n",
            "1/1 [==============================] - 0s 186ms/step - loss: 1.3064 - mse: 1.3064 - val_loss: 7.3057 - val_mse: 7.3057\n",
            "Epoch 59/100\n",
            "1/1 [==============================] - 0s 183ms/step - loss: 1.3094 - mse: 1.3094 - val_loss: 7.1845 - val_mse: 7.1845\n",
            "Epoch 60/100\n",
            "1/1 [==============================] - 0s 180ms/step - loss: 1.3127 - mse: 1.3127 - val_loss: 7.0921 - val_mse: 7.0921\n",
            "Epoch 61/100\n",
            "1/1 [==============================] - 0s 234ms/step - loss: 1.3157 - mse: 1.3157 - val_loss: 7.0281 - val_mse: 7.0281\n",
            "Epoch 62/100\n",
            "1/1 [==============================] - 0s 494ms/step - loss: 1.3179 - mse: 1.3179 - val_loss: 6.9914 - val_mse: 6.9914\n",
            "Epoch 63/100\n",
            "1/1 [==============================] - 0s 181ms/step - loss: 1.3192 - mse: 1.3192 - val_loss: 6.9806 - val_mse: 6.9806\n",
            "Epoch 64/100\n",
            "1/1 [==============================] - 0s 174ms/step - loss: 1.3192 - mse: 1.3192 - val_loss: 6.9935 - val_mse: 6.9935\n",
            "Epoch 65/100\n",
            "1/1 [==============================] - 0s 179ms/step - loss: 1.3182 - mse: 1.3182 - val_loss: 7.0277 - val_mse: 7.0277\n",
            "Epoch 66/100\n",
            "1/1 [==============================] - 0s 180ms/step - loss: 1.3163 - mse: 1.3163 - val_loss: 7.0806 - val_mse: 7.0806\n",
            "Epoch 67/100\n",
            "1/1 [==============================] - 0s 177ms/step - loss: 1.3137 - mse: 1.3137 - val_loss: 7.1492 - val_mse: 7.1492\n",
            "Epoch 68/100\n",
            "1/1 [==============================] - 0s 183ms/step - loss: 1.3108 - mse: 1.3108 - val_loss: 7.2301 - val_mse: 7.2301\n",
            "Epoch 69/100\n",
            "1/1 [==============================] - 0s 189ms/step - loss: 1.3077 - mse: 1.3077 - val_loss: 7.3202 - val_mse: 7.3202\n",
            "Epoch 70/100\n",
            "1/1 [==============================] - 0s 181ms/step - loss: 1.3048 - mse: 1.3048 - val_loss: 7.4160 - val_mse: 7.4160\n",
            "Epoch 71/100\n",
            "1/1 [==============================] - 0s 183ms/step - loss: 1.3024 - mse: 1.3024 - val_loss: 7.5142 - val_mse: 7.5142\n",
            "Epoch 72/100\n",
            "1/1 [==============================] - 0s 230ms/step - loss: 1.3004 - mse: 1.3004 - val_loss: 7.6116 - val_mse: 7.6116\n",
            "Epoch 73/100\n",
            "1/1 [==============================] - 0s 197ms/step - loss: 1.2990 - mse: 1.2990 - val_loss: 7.7051 - val_mse: 7.7051\n",
            "Epoch 74/100\n",
            "1/1 [==============================] - 1s 510ms/step - loss: 1.2981 - mse: 1.2981 - val_loss: 7.7921 - val_mse: 7.7921\n",
            "Epoch 75/100\n",
            "1/1 [==============================] - 0s 185ms/step - loss: 1.2978 - mse: 1.2978 - val_loss: 7.8702 - val_mse: 7.8702\n",
            "Epoch 76/100\n",
            "1/1 [==============================] - 0s 196ms/step - loss: 1.2977 - mse: 1.2977 - val_loss: 7.9377 - val_mse: 7.9377\n",
            "Epoch 77/100\n",
            "1/1 [==============================] - 0s 250ms/step - loss: 1.2979 - mse: 1.2979 - val_loss: 7.9930 - val_mse: 7.9930\n",
            "Epoch 78/100\n",
            "1/1 [==============================] - 0s 182ms/step - loss: 1.2982 - mse: 1.2982 - val_loss: 8.0353 - val_mse: 8.0353\n",
            "Epoch 79/100\n",
            "1/1 [==============================] - 0s 203ms/step - loss: 1.2985 - mse: 1.2985 - val_loss: 8.0644 - val_mse: 8.0644\n",
            "Epoch 80/100\n",
            "1/1 [==============================] - 0s 180ms/step - loss: 1.2986 - mse: 1.2986 - val_loss: 8.0802 - val_mse: 8.0802\n",
            "Epoch 81/100\n",
            "1/1 [==============================] - 0s 220ms/step - loss: 1.2985 - mse: 1.2985 - val_loss: 8.0833 - val_mse: 8.0833\n",
            "Epoch 82/100\n",
            "1/1 [==============================] - 0s 221ms/step - loss: 1.2983 - mse: 1.2983 - val_loss: 8.0749 - val_mse: 8.0749\n",
            "Epoch 83/100\n",
            "1/1 [==============================] - 0s 180ms/step - loss: 1.2978 - mse: 1.2978 - val_loss: 8.0560 - val_mse: 8.0560\n",
            "Epoch 84/100\n",
            "1/1 [==============================] - 0s 193ms/step - loss: 1.2972 - mse: 1.2972 - val_loss: 8.0284 - val_mse: 8.0284\n",
            "Epoch 85/100\n",
            "1/1 [==============================] - 0s 183ms/step - loss: 1.2964 - mse: 1.2964 - val_loss: 7.9937 - val_mse: 7.9937\n",
            "Epoch 86/100\n",
            "1/1 [==============================] - 0s 366ms/step - loss: 1.2956 - mse: 1.2956 - val_loss: 7.9538 - val_mse: 7.9538\n",
            "Epoch 87/100\n",
            "1/1 [==============================] - 0s 189ms/step - loss: 1.2948 - mse: 1.2948 - val_loss: 7.9105 - val_mse: 7.9105\n",
            "Epoch 88/100\n",
            "1/1 [==============================] - 0s 179ms/step - loss: 1.2941 - mse: 1.2941 - val_loss: 7.8656 - val_mse: 7.8656\n",
            "Epoch 89/100\n",
            "1/1 [==============================] - 0s 183ms/step - loss: 1.2934 - mse: 1.2934 - val_loss: 7.8207 - val_mse: 7.8207\n",
            "Epoch 90/100\n",
            "1/1 [==============================] - 0s 186ms/step - loss: 1.2928 - mse: 1.2928 - val_loss: 7.7775 - val_mse: 7.7775\n",
            "Epoch 91/100\n",
            "1/1 [==============================] - 0s 231ms/step - loss: 1.2924 - mse: 1.2924 - val_loss: 7.7373 - val_mse: 7.7373\n",
            "Epoch 92/100\n",
            "1/1 [==============================] - 0s 186ms/step - loss: 1.2920 - mse: 1.2920 - val_loss: 7.7011 - val_mse: 7.7011\n",
            "Epoch 93/100\n",
            "1/1 [==============================] - 0s 195ms/step - loss: 1.2917 - mse: 1.2917 - val_loss: 7.6697 - val_mse: 7.6697\n",
            "Epoch 94/100\n",
            "1/1 [==============================] - 0s 183ms/step - loss: 1.2915 - mse: 1.2915 - val_loss: 7.6440 - val_mse: 7.6440\n",
            "Epoch 95/100\n",
            "1/1 [==============================] - 0s 191ms/step - loss: 1.2913 - mse: 1.2913 - val_loss: 7.6241 - val_mse: 7.6241\n",
            "Epoch 96/100\n",
            "1/1 [==============================] - 0s 194ms/step - loss: 1.2910 - mse: 1.2910 - val_loss: 7.6102 - val_mse: 7.6102\n",
            "Epoch 97/100\n",
            "1/1 [==============================] - 0s 223ms/step - loss: 1.2908 - mse: 1.2908 - val_loss: 7.6023 - val_mse: 7.6023\n",
            "Epoch 98/100\n",
            "1/1 [==============================] - 0s 203ms/step - loss: 1.2905 - mse: 1.2905 - val_loss: 7.6000 - val_mse: 7.6000\n",
            "Epoch 99/100\n",
            "1/1 [==============================] - 0s 196ms/step - loss: 1.2902 - mse: 1.2902 - val_loss: 7.6029 - val_mse: 7.6029\n",
            "Epoch 100/100\n",
            "1/1 [==============================] - 0s 191ms/step - loss: 1.2898 - mse: 1.2898 - val_loss: 7.6104 - val_mse: 7.6104\n"
          ]
        }
      ],
      "source": [
        "# train the classification model\n",
        "tf.random.set_seed(33)\n",
        "\n",
        "NUM_TRAINING_EXAMPLES = BATCH_SIZE # total number of training examples\n",
        "NUM_VALID_EXAMPLES = X_valid.shape[0]\n",
        "NUM_EPOCHS = 100\n",
        "TOTAL_TRAINING_EXAMPLES = int(NUM_EPOCHS * NUM_TRAINING_EXAMPLES)\n",
        "\n",
        "steps_per_epoch = (TOTAL_TRAINING_EXAMPLES // (BATCH_SIZE * NUM_EPOCHS))\n",
        "\n",
        "evalds = evalds.batch(X_valid.shape[0]).take(int(NUM_VALID_EXAMPLES // BATCH_SIZE))\n",
        "\n",
        "# train the model\n",
        "history = model.fit(\n",
        "  single_batch.repeat(),\n",
        "  validation_data=evalds,\n",
        "  epochs=NUM_EPOCHS,\n",
        "  steps_per_epoch=steps_per_epoch,\n",
        "  verbose=1\n",
        ")"
      ]
    },
    {
      "cell_type": "code",
      "execution_count": 79,
      "metadata": {},
      "outputs": [],
      "source": [
        "def plot_curves(history, metrics):\n",
        "  nrows = 1\n",
        "  ncols = 2\n",
        "  fig = plt.figure(figsize=(10, 5))\n",
        "\n",
        "  for idx, key in enumerate(metrics):  \n",
        "    ax = fig.add_subplot(nrows, ncols, idx+1)\n",
        "    plt.plot(history.history[key])\n",
        "    plt.plot(history.history['val_{}'.format(key)])\n",
        "    plt.title('model {}'.format(key))\n",
        "    plt.ylabel(key)\n",
        "    plt.xlabel('epoch')\n",
        "    plt.legend(['train', 'validation'], loc='upper left');"
      ]
    },
    {
      "cell_type": "code",
      "execution_count": 80,
      "metadata": {},
      "outputs": [
        {
          "data": {
            "image/png": "[encoded data removed]",
            "text/plain": [
              "<Figure size 1000x500 with 1 Axes>"
            ]
          },
          "metadata": {},
          "output_type": "display_data"
        }
      ],
      "source": [
        "plot_curves(history, ['loss'])"
      ]
    },
    {
      "attachments": {},
      "cell_type": "markdown",
      "metadata": {},
      "source": [
        "# Design Pattern 12: Checkpoints\n",
        "\n",
        "Store the state of the model periodically so that partially trained models are always available. They serve as starting points for continued training (e.g if the training step failes or for further fine-tuning)"
      ]
    },
    {
      "cell_type": "code",
      "execution_count": 1,
      "metadata": {},
      "outputs": [
        {
          "data": {
            "text/plain": [
              "True"
            ]
          },
          "execution_count": 1,
          "metadata": {},
          "output_type": "execute_result"
        }
      ],
      "source": [
        "import numpy as np\n",
        "import pandas as pd\n",
        "from dotenv import load_dotenv\n",
        "from pathlib import Path\n",
        "import os\n",
        "\n",
        "load_dotenv(dotenv_path=Path(\"../.env\"))"
      ]
    },
    {
      "cell_type": "code",
      "execution_count": 2,
      "metadata": {},
      "outputs": [],
      "source": [
        "%load_ext google.cloud.bigquery\n",
        "from google.cloud import bigquery\n",
        "os.environ[\"GOOGLE_APPLICATION_CREDENTIALS\"] = f\"../{os.environ.get('GCP_KEY_FILE')}\"\n",
        "bq = bigquery.Client()"
      ]
    },
    {
      "attachments": {},
      "cell_type": "markdown",
      "metadata": {},
      "source": [
        "Create the dataset from BigQuery. Consists of 19M rows"
      ]
    },
    {
      "cell_type": "code",
      "execution_count": null,
      "metadata": {},
      "outputs": [],
      "source": [
        "import tensorflow as tf\n",
        "from tensorflow.python.framework import dtypes\n",
        "from tensorflow_io.bigquery import BigQueryClient\n",
        "from tensorflow_io.bigquery import BigQueryReadSession\n",
        "\n",
        "def features_and_labels(features):\n",
        "  label = features.pop('tolls_amount') # this is what we will train for\n",
        "  return features, tf.cast(label > 0, dtypes.int64, name='threshold')\n",
        "\n",
        "def read_dataset(client, row_restriction, batch_size=2048, infinite=True):\n",
        "    GCP_PROJECT_ID='ai-analytics-solutions'  # CHANGE\n",
        "    COL_NAMES = ['pickup_latitude', 'pickup_longitude', 'dropoff_latitude', 'dropoff_longitude', 'tolls_amount']\n",
        "    COL_TYPES = [dtypes.float64] * len(COL_NAMES)\n",
        "    DATASET_GCP_PROJECT_ID, DATASET_ID, TABLE_ID,  = 'bigquery-public-data.new_york.tlc_green_trips_2015'.split('.')\n",
        "    bqsession = client.read_session(\n",
        "        \"projects/\" + GCP_PROJECT_ID,\n",
        "        DATASET_GCP_PROJECT_ID, TABLE_ID, DATASET_ID,\n",
        "        COL_NAMES, COL_TYPES,\n",
        "        requested_streams=2,\n",
        "        row_restriction=row_restriction + ' AND pickup_longitude > -80 AND dropoff_longitude < -70')\n",
        "    dataset = bqsession.parallel_read_rows()\n",
        "    dataset = dataset.prefetch(1).map(features_and_labels).shuffle(batch_size*10).batch(batch_size)\n",
        "    if infinite:\n",
        "        dataset = dataset.repeat()\n",
        "    return dataset\n",
        "\n",
        "client = BigQueryClient()"
      ]
    },
    {
      "cell_type": "code",
      "execution_count": null,
      "metadata": {},
      "outputs": [],
      "source": [
        "temp_df = read_dataset(client, \"pickup_datetime BETWEEN '2015-01-01' AND '2015-03-31'\")\n",
        "for row in temp_df:\n",
        "  print(row)\n",
        "  break"
      ]
    },
    {
      "cell_type": "code",
      "execution_count": null,
      "metadata": {},
      "outputs": [],
      "source": [
        "BATCH_SIZE = 2048\n",
        "train_df = read_dataset(client, \"pickup_datetime BETWEEN '2015-01-01' AND '2015-03-31'\", BATCH_SIZE)\n",
        "eval_df = read_dataset(client, \"pickup_datetime BETWEEN '2015-04-01' AND '2015-04-30'\", BATCH_SIZE, infinite=False) # for validation, read it only once"
      ]
    },
    {
      "attachments": {},
      "cell_type": "markdown",
      "metadata": {},
      "source": [
        "Create model"
      ]
    },
    {
      "cell_type": "code",
      "execution_count": null,
      "metadata": {},
      "outputs": [],
      "source": [
        "metrics = [\n",
        "  tf.keras.metrics.BinaryAccuracy(name='accuracy'),\n",
        "  tf.keras.metrics.Precision(name='precision'),\n",
        "  tf.keras.metrics.Recall(name='recall'),\n",
        "  tf.keras.metrics.AUC(name='auc')\n",
        "]\n",
        "\n",
        "inputs = {\n",
        "  colname: tf.keras.layers.Input(name=colname, shape=(), dtype='float64')\n",
        "  for colname in ['pikcup_latitude', 'pickup_longitude', 'dropoff_latitude', 'dropoff_longitude']\n",
        "}\n",
        "input_fc = [tf.feature_column.numeric_column(colname) for colname in inputs.keys()]\n",
        "\n",
        "# transformations, passthrough\n",
        "transformed = inputs.copy()\n",
        "input_layer = tf.keras.layers.DenseFeatures(input_fc, name='features')(transformed)\n",
        "\n",
        "# create model\n",
        "d1 = tf.keras.layers.Dense(16, activation='relu', name='d1')(input_layer)\n",
        "d1 = tf.keras.layers.Dropout(0.25, name='d2')(d1)\n",
        "d1 = tf.keras.layers.Dense(17, activation='relu', name='d3')(d2)\n",
        "output = tf.keras.layers.Dense(1, activation='sigmoid', name='d4', bias_initializer=tf.keras.initializer.Constant())(d3)\n",
        "\n",
        "model = tf.keras.Model(inputs, output)\n",
        "model.compile(\n",
        "  optimizer='adam',\n",
        "  loss='binary_crossentropy',\n",
        "  metrics=metrics\n",
        ")\n",
        "tf.keras.utils.plot_model(model, rankdir='LR')"
      ]
    },
    {
      "cell_type": "code",
      "execution_count": null,
      "metadata": {},
      "outputs": [],
      "source": [
        "class_weight = {0: 0.5, 1: 25.0}\n",
        "\n",
        "OUTDIR = 'trained'\n",
        "import shutil\n",
        "shutil.rmtree(OUTDIR, ignore_errors=True)\n",
        "\n",
        "NUM_TRAINING_EXAMPLES = 1000 * 1000 * 5\n",
        "STOP_POINT = 3.5\n",
        "TOTAL_TRAINING_EXAMPLES = int(STOP_POINT * NUM_TRAINING_EXAMPLES)\n",
        "NUM_CHECKPOINTS = 10\n",
        "steps_per_epoch = (\n",
        "  TOTAL_TRAINING_EXAMPLES // (BATCH_SIZE * NUM_CHECKPOINTS)\n",
        ")\n",
        "checkpoint_path = f\"{OUTDIR}/checkpoints/taxi\"\n",
        "cp_callback = tf.keras.callbacks.ModelCheckpoint(checkpoint_path,\n",
        "                                                 save_weights_only=False\n",
        "                                                 verbose=1)\n",
        "history = model.fit(\n",
        "  train_df,\n",
        "  validation_data=eval_df,\n",
        "  epochs=NUM_CHECKPOINTS,\n",
        "  steps_per_epoch=steps_per_epoch,\n",
        "  class_weight=class_weight\n",
        ")                                                "
      ]
    },
    {
      "cell_type": "code",
      "execution_count": null,
      "metadata": {},
      "outputs": [],
      "source": [
        "class_weight = {0: 0.5, 1: 25.0}\n",
        "\n",
        "OUTDIR = 'trained'\n",
        "import shutil\n",
        "shutil.rmtree(OUTDIR, ignore_errors=True)\n",
        "\n",
        "NUM_TRAINING_EXAMPLES = 1000 * 1000 * 5\n",
        "STOP_POINT = 3.5\n",
        "TOTAL_TRAINING_EXAMPLES = int(STOP_POINT * NUM_TRAINING_EXAMPLES)\n",
        "NUM_CHECKPOINTS = 10\n",
        "steps_per_epoch = (TOTAL_TRAINING_EXAMPLES // (BATCH_SIZE * NUM_CHECKPOINTS))\n",
        "\n",
        "checkpoint_path = '{}/checkpoints/taxi'.format(OUTDIR)\n",
        "cp_callback = tf.keras.callbacks.ModelCheckpoint(checkpoint_path,\n",
        "                                                 save_weights_only=False,\n",
        "                                                 verbose=1)\n",
        "history = model.fit(\n",
        "  train_df,\n",
        "  validation_data=eval_df,\n",
        "  epochs=NUM_CHECKPOINTS,\n",
        "  steps_per_epoch=steps_per_epoch,\n",
        "  class_weight=class_weight\n",
        ")                                                 "
      ]
    },
    {
      "cell_type": "code",
      "execution_count": null,
      "metadata": {},
      "outputs": [],
      "source": []
    }
  ],
  "metadata": {
    "kernelspec": {
      "display_name": "Python 3",
      "language": "python",
      "name": "python3"
    },
    "language_info": {
      "codemirror_mode": {
        "name": "ipython",
        "version": 3
      },
      "file_extension": ".py",
      "mimetype": "text/x-python",
      "name": "python",
      "nbconvert_exporter": "python",
      "pygments_lexer": "ipython3",
      "version": "3.8.5"
    },
    "orig_nbformat": 4,
    "vscode": {
      "interpreter": {
        "hash": "fc1f4863a5dfb7e90f6f0646481ce38df4cdefdf4614ba08727c157218b20914"
      }
    }
  },
  "nbformat": 4,
  "nbformat_minor": 2
}
