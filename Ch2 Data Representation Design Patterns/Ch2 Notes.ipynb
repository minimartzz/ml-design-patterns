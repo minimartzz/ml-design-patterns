{
 "cells": [
  {
   "cell_type": "markdown",
   "metadata": {},
   "source": [
    "# Scaling Numerical Data is desirable"
   ]
  },
  {
   "cell_type": "code",
   "execution_count": null,
   "metadata": {},
   "outputs": [],
   "source": [
    "import numpy as np\n",
    "import pandas as pd\n",
    "from dotenv import load_dotenv\n",
    "from pathlib import Path\n",
    "import os\n",
    "\n",
    "load_dotenv(dotenv_path=Path(\"../.env\"))"
   ]
  },
  {
   "cell_type": "code",
   "execution_count": null,
   "metadata": {},
   "outputs": [],
   "source": [
    "%load_ext google.cloud.bigquery\n",
    "import os\n",
    "from google.cloud import bigquery\n",
    "os.environ[\"GOOGLE_APPLICATION_CREDENTIALS\"] = f\"../{os.environ.get('GCP_KEY_FILE')}\"\n",
    "bq = bigquery.Client()"
   ]
  },
  {
   "cell_type": "code",
   "execution_count": 4,
   "metadata": {},
   "outputs": [
    {
     "name": "stdout",
     "output_type": "stream",
     "text": [
      "0.3701684000000114 0.2689617999999996\n"
     ]
    }
   ],
   "source": [
    "from sklearn import datasets, linear_model\n",
    "import timeit\n",
    "\n",
    "diabeters_X, diabetes_y = datasets.load_diabetes(return_X_y=True)\n",
    "raw = diabeters_X[:, None, 2]\n",
    "max_raw = max(raw)\n",
    "min_raw = min(raw)\n",
    "scaled = (2*raw - max_raw - min_raw)/(max_raw - min_raw)\n",
    "\n",
    "def train_raw():\n",
    "  linear_model.LinearRegression().fit(raw, diabetes_y)\n",
    "\n",
    "def train_scaled():\n",
    "  linear_model.LinearRegression().fit(scaled, diabetes_y)\n",
    "\n",
    "raw_time = timeit.timeit(train_raw, number=1000)\n",
    "scaled_time = timeit.timeit(train_scaled, number=1000)\n",
    "print(raw_time, scaled_time)"
   ]
  },
  {
   "cell_type": "markdown",
   "metadata": {},
   "source": [
    "# Pattern 1: Hashed Features"
   ]
  },
  {
   "cell_type": "code",
   "execution_count": 1,
   "metadata": {},
   "outputs": [
    {
     "name": "stderr",
     "output_type": "stream",
     "text": [
      "UsageError: Cell magic `%%bigquery` not found.\n"
     ]
    }
   ],
   "source": [
    "%%bigquery df\n",
    "\n",
    "CREATE TEMPORARY FUNCTION hashed(airport STRING, numbuckets INT64) AS (\n",
    "   ABS(MOD(FARM_FINGERPRINT(airport), numbuckets)) \n",
    ");\n",
    "\n",
    "WITH airports AS (\n",
    "SELECT \n",
    "   DISTINCT(departure_airport)\n",
    "FROM `bigquery-samples.airline_ontime_data.flights`\n",
    ")\n",
    "\n",
    "SELECT \n",
    "   departure_airport,\n",
    "   hashed(departure_airport, 3) AS hash3,\n",
    "   hashed(departure_airport, 10) AS hash10,\n",
    "   hashed(departure_airport, 1000) AS hash1000,\n",
    "FROM airportsCREATE"
   ]
  },
  {
   "cell_type": "code",
   "execution_count": null,
   "metadata": {},
   "outputs": [],
   "source": [
    "# Implementation in tensorflow\n",
    "import tensorflow as tf\n",
    "tf.feature_column.categorical_column_with_hash_bucket(\n",
    "  airport,\n",
    "  num_buckets,\n",
    "  dtype=tf.dtypes.string\n",
    ")"
   ]
  },
  {
   "attachments": {},
   "cell_type": "markdown",
   "metadata": {},
   "source": [
    "---"
   ]
  },
  {
   "cell_type": "markdown",
   "metadata": {},
   "source": [
    "# Design Pattern 2: Embeddings"
   ]
  },
  {
   "cell_type": "code",
   "execution_count": 2,
   "metadata": {},
   "outputs": [
    {
     "data": {
      "text/plain": [
       "EmbeddingColumn(categorical_column=VocabularyListCategoricalColumn(key='plurality', vocabulary_list=('Single(1)', 'Multiple(2+)', 'Twins(2)', 'Triplets(3)', 'Quadruplets(4)', 'Quintuplets(5)'), dtype=tf.string, default_value=-1, num_oov_buckets=0), dimension=2, combiner='mean', initializer=<tensorflow.python.ops.init_ops.TruncatedNormal object at 0x0000018682B9A6D0>, ckpt_to_load_from=None, tensor_name_in_ckpt=None, max_norm=None, trainable=True, use_safe_embedding_lookup=True)"
      ]
     },
     "execution_count": 2,
     "metadata": {},
     "output_type": "execute_result"
    }
   ],
   "source": [
    "import tensorflow as tf\n",
    "plurality = tf.feature_column.categorical_column_with_vocabulary_list(\n",
    "\t'plurality',\n",
    "\t['Single(1)', 'Multiple(2+)', 'Twins(2)', 'Triplets(3)', 'Quadruplets(4)', 'Quintuplets(5)']\t\n",
    ")\n",
    "plurality_embed = tf.feature_column.embedding_column(plurality, dimension=2)\n",
    "plurality_embed"
   ]
  },
  {
   "cell_type": "code",
   "execution_count": 25,
   "metadata": {},
   "outputs": [
    {
     "data": {
      "text/html": [
       "<div>\n",
       "<style scoped>\n",
       "    .dataframe tbody tr th:only-of-type {\n",
       "        vertical-align: middle;\n",
       "    }\n",
       "\n",
       "    .dataframe tbody tr th {\n",
       "        vertical-align: top;\n",
       "    }\n",
       "\n",
       "    .dataframe thead th {\n",
       "        text-align: right;\n",
       "    }\n",
       "</style>\n",
       "<table border=\"1\" class=\"dataframe\">\n",
       "  <thead>\n",
       "    <tr style=\"text-align: right;\">\n",
       "      <th></th>\n",
       "      <th>title</th>\n",
       "      <th>source</th>\n",
       "    </tr>\n",
       "  </thead>\n",
       "  <tbody>\n",
       "    <tr>\n",
       "      <th>0</th>\n",
       "      <td>holy cash cow  batman - content is back</td>\n",
       "      <td>nytimes</td>\n",
       "    </tr>\n",
       "    <tr>\n",
       "      <th>1</th>\n",
       "      <td>show hn  a simple and configurable deployment ...</td>\n",
       "      <td>github</td>\n",
       "    </tr>\n",
       "    <tr>\n",
       "      <th>2</th>\n",
       "      <td>show hn  neural turing machine in pure numpy. ...</td>\n",
       "      <td>github</td>\n",
       "    </tr>\n",
       "    <tr>\n",
       "      <th>3</th>\n",
       "      <td>close look at a flu outbreak upends some commo...</td>\n",
       "      <td>nytimes</td>\n",
       "    </tr>\n",
       "    <tr>\n",
       "      <th>4</th>\n",
       "      <td>lambdalite  a functional  relational lisp data...</td>\n",
       "      <td>github</td>\n",
       "    </tr>\n",
       "  </tbody>\n",
       "</table>\n",
       "</div>"
      ],
      "text/plain": [
       "                                               title   source\n",
       "0            holy cash cow  batman - content is back  nytimes\n",
       "1  show hn  a simple and configurable deployment ...   github\n",
       "2  show hn  neural turing machine in pure numpy. ...   github\n",
       "3  close look at a flu outbreak upends some commo...  nytimes\n",
       "4  lambdalite  a functional  relational lisp data...   github"
      ]
     },
     "execution_count": 25,
     "metadata": {},
     "output_type": "execute_result"
    }
   ],
   "source": [
    "import os\n",
    "import pandas as pd\n",
    "\n",
    "LOGDIR = \"text_models\"\n",
    "DATA_DIR = \"data\"\n",
    "DATASET_NAME = \"titles_full.csv\"\n",
    "TITLE_SAMPLE_PATH = os.path.join(DATA_DIR, DATASET_NAME)\n",
    "COLUMNS = ['title', 'source']\n",
    "\n",
    "titles_df = pd.read_csv(TITLE_SAMPLE_PATH, header=None, names=COLUMNS)\n",
    "titles_df.head()"
   ]
  },
  {
   "cell_type": "code",
   "execution_count": 26,
   "metadata": {},
   "outputs": [],
   "source": [
    "# Find out \n",
    "# 1. How many words in the dataset\n",
    "# 2. How many titles in the dataset\n",
    "# 3. Max length og the titles\n",
    "from keras.preprocessing.text import Tokenizer\n",
    "\n",
    "tokenizer = Tokenizer()\n",
    "tokenizer.fit_on_texts(titles_df['title'])\n",
    "integerized_titles = tokenizer.texts_to_sequences(titles_df['title'])"
   ]
  },
  {
   "cell_type": "code",
   "execution_count": 27,
   "metadata": {},
   "outputs": [
    {
     "data": {
      "text/plain": [
       "[[6117, 560, 8577, 13948, 302, 13, 172],\n",
       " [11, 12, 2, 49, 7, 3838, 1322, 91, 4, 28, 482],\n",
       " [11, 12, 1501, 2812, 322, 5, 589, 7337, 5458, 78, 108, 1989, 17, 1139]]"
      ]
     },
     "execution_count": 27,
     "metadata": {},
     "output_type": "execute_result"
    }
   ],
   "source": [
    "# integerized_titles contains the integer representation of each article title in the dataset\n",
    "integerized_titles[:3]"
   ]
  },
  {
   "cell_type": "code",
   "execution_count": 28,
   "metadata": {},
   "outputs": [
    {
     "data": {
      "text/plain": [
       "(47271, 96203, 26)"
      ]
     },
     "execution_count": 28,
     "metadata": {},
     "output_type": "execute_result"
    }
   ],
   "source": [
    "VOCAB_SIZE = len(tokenizer.index_word)\n",
    "DATASET_SIZE = tokenizer.document_count\n",
    "MAX_LEN = max(len(sequence) for sequence in integerized_titles)\n",
    "VOCAB_SIZE, DATASET_SIZE, MAX_LEN"
   ]
  },
  {
   "attachments": {},
   "cell_type": "markdown",
   "metadata": {},
   "source": [
    "__Preprocess data__\n",
    "\n",
    "Pad elements of the titles to match the longest entry. `create_sequences` will do this for us"
   ]
  },
  {
   "cell_type": "code",
   "execution_count": 29,
   "metadata": {},
   "outputs": [
    {
     "data": {
      "text/plain": [
       "array([[ 6117,   560,  8577, 13948,   302,    13,   172,     0,     0,\n",
       "            0,     0,     0,     0,     0,     0,     0,     0,     0,\n",
       "            0,     0,     0,     0,     0,     0,     0,     0],\n",
       "       [ 1030,   316,    23,     2,  3718,  7338, 13949,   214,   715,\n",
       "         4581,     0,     0,     0,     0,     0,     0,     0,     0,\n",
       "            0,     0,     0,     0,     0,     0,     0,     0]])"
      ]
     },
     "execution_count": 29,
     "metadata": {},
     "output_type": "execute_result"
    }
   ],
   "source": [
    "from keras.utils import pad_sequences\n",
    "def create_sequences(texts, max_len=MAX_LEN):\n",
    "  sequences = tokenizer.texts_to_sequences(texts)\n",
    "  padded_sequences = pad_sequences(\n",
    "    sequences,\n",
    "    max_len,\n",
    "    padding='post'\n",
    "  )\n",
    "  return padded_sequences\n",
    "\n",
    "create_sequences(['holy cash cow batman - content is back', 'close look at a flu outbreak upends some common wisdom'])"
   ]
  },
  {
   "cell_type": "code",
   "execution_count": 30,
   "metadata": {},
   "outputs": [],
   "source": [
    "CLASSES = {\n",
    "\t'github': 0,\n",
    "  'nytimes': 1,\n",
    "  'techcrunch': 2 \n",
    "}\n",
    "N_CLASSES = len(CLASSES)"
   ]
  },
  {
   "cell_type": "code",
   "execution_count": 31,
   "metadata": {},
   "outputs": [],
   "source": [
    "import keras.utils as utils\n",
    "def encode_labels(sources):\n",
    "  classes = [CLASSES[source] for source in sources]\n",
    "  one_hots = utils.to_categorical(classes)\n",
    "  return one_hots"
   ]
  },
  {
   "cell_type": "code",
   "execution_count": 32,
   "metadata": {},
   "outputs": [],
   "source": [
    "N_TRAIN = int(DATASET_SIZE * 0.8)\n",
    "titles_df = pd.read_csv(TITLE_SAMPLE_PATH, header=None, names=COLUMNS)\n",
    "titles_train, sources_train = (\n",
    "\ttitles_df['title'][:N_TRAIN], titles_df['source'][:N_TRAIN]\n",
    ")\n",
    "titles_valid, sources_valid = (\n",
    "\ttitles_df['title'][N_TRAIN:], titles_df['source'][N_TRAIN:]\n",
    ")\n",
    "\n",
    "X_train, Y_train = create_sequences(titles_train), encode_labels(sources_train)\n",
    "X_valid, Y_valid = create_sequences(titles_valid), encode_labels(sources_valid)"
   ]
  },
  {
   "attachments": {},
   "cell_type": "markdown",
   "metadata": {},
   "source": [
    "__BUILD DNN MODEL__\n",
    "\n",
    "A compiled Keras model that implements a single embedding layer transforming the word integers into dense vectors, followed by a Dense softmax layer returning the probabilities for each class"
   ]
  },
  {
   "cell_type": "code",
   "execution_count": 33,
   "metadata": {},
   "outputs": [],
   "source": [
    "from keras import models, layers\n",
    "def build_dnn_model(embed_dim):\n",
    "  model = models.Sequential([\n",
    "    layers.Embedding(VOCAB_SIZE + 1,\n",
    "                     embed_dim,\n",
    "                     input_shape=[MAX_LEN]),\n",
    "    layers.Lambda(lambda x: tf.reduce_mean(x, axis=1)),\n",
    "    layers.Dense(N_CLASSES, activation='softmax')\n",
    "  ])\n",
    "\n",
    "  model.compile(\n",
    "    optimizer='adam',\n",
    "    loss='categorical_crossentropy',\n",
    "    metrics=['accuracy']\n",
    "  )\n",
    "  return model"
   ]
  },
  {
   "cell_type": "code",
   "execution_count": 37,
   "metadata": {},
   "outputs": [
    {
     "name": "stdout",
     "output_type": "stream",
     "text": [
      "Epoch 1/100\n",
      "257/257 [==============================] - 4s 7ms/step - loss: 1.0484 - accuracy: 0.4305 - val_loss: 0.9783 - val_accuracy: 0.5709\n",
      "Epoch 2/100\n",
      "257/257 [==============================] - 1s 6ms/step - loss: 0.8874 - accuracy: 0.6806 - val_loss: 0.8048 - val_accuracy: 0.7197\n",
      "Epoch 3/100\n",
      "257/257 [==============================] - 1s 6ms/step - loss: 0.7335 - accuracy: 0.7794 - val_loss: 0.6823 - val_accuracy: 0.7831\n",
      "Epoch 4/100\n",
      "257/257 [==============================] - 1s 6ms/step - loss: 0.6276 - accuracy: 0.8083 - val_loss: 0.5985 - val_accuracy: 0.8042\n",
      "Epoch 5/100\n",
      "257/257 [==============================] - 1s 6ms/step - loss: 0.5510 - accuracy: 0.8257 - val_loss: 0.5378 - val_accuracy: 0.8176\n",
      "Epoch 6/100\n",
      "257/257 [==============================] - 1s 6ms/step - loss: 0.4937 - accuracy: 0.8393 - val_loss: 0.4937 - val_accuracy: 0.8237\n",
      "Epoch 7/100\n",
      "257/257 [==============================] - 2s 6ms/step - loss: 0.4500 - accuracy: 0.8490 - val_loss: 0.4610 - val_accuracy: 0.8331\n",
      "Epoch 8/100\n",
      "257/257 [==============================] - 1s 6ms/step - loss: 0.4160 - accuracy: 0.8572 - val_loss: 0.4369 - val_accuracy: 0.8389\n",
      "Epoch 9/100\n",
      "257/257 [==============================] - 1s 5ms/step - loss: 0.3889 - accuracy: 0.8646 - val_loss: 0.4177 - val_accuracy: 0.8415\n",
      "Epoch 10/100\n",
      "257/257 [==============================] - 2s 7ms/step - loss: 0.3664 - accuracy: 0.8706 - val_loss: 0.4031 - val_accuracy: 0.8455\n",
      "Epoch 11/100\n",
      "257/257 [==============================] - 1s 6ms/step - loss: 0.3476 - accuracy: 0.8760 - val_loss: 0.3915 - val_accuracy: 0.8480\n",
      "Epoch 12/100\n",
      "257/257 [==============================] - 2s 6ms/step - loss: 0.3313 - accuracy: 0.8809 - val_loss: 0.3827 - val_accuracy: 0.8508\n",
      "Epoch 13/100\n",
      "257/257 [==============================] - 2s 7ms/step - loss: 0.3169 - accuracy: 0.8859 - val_loss: 0.3745 - val_accuracy: 0.8527\n",
      "Epoch 14/100\n",
      "257/257 [==============================] - 2s 8ms/step - loss: 0.3041 - accuracy: 0.8903 - val_loss: 0.3686 - val_accuracy: 0.8537\n",
      "Epoch 15/100\n",
      "257/257 [==============================] - 2s 8ms/step - loss: 0.2925 - accuracy: 0.8948 - val_loss: 0.3635 - val_accuracy: 0.8555\n",
      "Epoch 16/100\n",
      "257/257 [==============================] - 2s 9ms/step - loss: 0.2821 - accuracy: 0.8979 - val_loss: 0.3599 - val_accuracy: 0.8559\n",
      "Epoch 17/100\n",
      "257/257 [==============================] - 2s 7ms/step - loss: 0.2722 - accuracy: 0.9018 - val_loss: 0.3567 - val_accuracy: 0.8569\n",
      "Epoch 18/100\n",
      "257/257 [==============================] - 2s 7ms/step - loss: 0.2631 - accuracy: 0.9050 - val_loss: 0.3541 - val_accuracy: 0.8580\n",
      "Epoch 19/100\n",
      "257/257 [==============================] - 2s 7ms/step - loss: 0.2547 - accuracy: 0.9077 - val_loss: 0.3525 - val_accuracy: 0.8591\n",
      "Epoch 20/100\n",
      "257/257 [==============================] - 2s 7ms/step - loss: 0.2467 - accuracy: 0.9110 - val_loss: 0.3511 - val_accuracy: 0.8606\n",
      "Epoch 21/100\n",
      "257/257 [==============================] - 2s 7ms/step - loss: 0.2392 - accuracy: 0.9140 - val_loss: 0.3507 - val_accuracy: 0.8609\n",
      "Epoch 22/100\n",
      "257/257 [==============================] - 2s 7ms/step - loss: 0.2320 - accuracy: 0.9163 - val_loss: 0.3503 - val_accuracy: 0.8604\n",
      "Epoch 23/100\n",
      "257/257 [==============================] - 2s 7ms/step - loss: 0.2253 - accuracy: 0.9190 - val_loss: 0.3502 - val_accuracy: 0.8614\n",
      "Epoch 24/100\n",
      "257/257 [==============================] - 2s 6ms/step - loss: 0.2189 - accuracy: 0.9214 - val_loss: 0.3510 - val_accuracy: 0.8611\n",
      "Epoch 25/100\n",
      "257/257 [==============================] - 2s 6ms/step - loss: 0.2128 - accuracy: 0.9233 - val_loss: 0.3513 - val_accuracy: 0.8618\n",
      "Epoch 26/100\n",
      "257/257 [==============================] - 2s 6ms/step - loss: 0.2068 - accuracy: 0.9256 - val_loss: 0.3527 - val_accuracy: 0.8616\n",
      "Epoch 27/100\n",
      "257/257 [==============================] - 2s 6ms/step - loss: 0.2013 - accuracy: 0.9276 - val_loss: 0.3541 - val_accuracy: 0.8612\n",
      "Epoch 28/100\n",
      "257/257 [==============================] - 2s 6ms/step - loss: 0.1960 - accuracy: 0.9297 - val_loss: 0.3565 - val_accuracy: 0.8600\n",
      "Epoch 29/100\n",
      "257/257 [==============================] - 2s 7ms/step - loss: 0.1908 - accuracy: 0.9317 - val_loss: 0.3580 - val_accuracy: 0.8596\n",
      "Epoch 30/100\n",
      "257/257 [==============================] - 2s 7ms/step - loss: 0.1860 - accuracy: 0.9334 - val_loss: 0.3604 - val_accuracy: 0.8596\n",
      "Epoch 31/100\n",
      "257/257 [==============================] - 2s 6ms/step - loss: 0.1813 - accuracy: 0.9356 - val_loss: 0.3632 - val_accuracy: 0.8592\n",
      "Epoch 32/100\n",
      "257/257 [==============================] - 2s 7ms/step - loss: 0.1768 - accuracy: 0.9372 - val_loss: 0.3663 - val_accuracy: 0.8573\n",
      "Epoch 33/100\n",
      "257/257 [==============================] - 2s 8ms/step - loss: 0.1724 - accuracy: 0.9386 - val_loss: 0.3700 - val_accuracy: 0.8562\n",
      "Model: \"sequential_1\"\n",
      "_________________________________________________________________\n",
      " Layer (type)                Output Shape              Param #   \n",
      "=================================================================\n",
      " embedding_1 (Embedding)     (None, 26, 10)            472720    \n",
      "                                                                 \n",
      " lambda_1 (Lambda)           (None, 10)                0         \n",
      "                                                                 \n",
      " dense_1 (Dense)             (None, 3)                 33        \n",
      "                                                                 \n",
      "=================================================================\n",
      "Total params: 472,753\n",
      "Trainable params: 472,753\n",
      "Non-trainable params: 0\n",
      "_________________________________________________________________\n",
      "CPU times: total: 1min 34s\n",
      "Wall time: 59.6 s\n"
     ]
    },
    {
     "data": {
      "image/png": "[encoded data removed]",
      "text/plain": [
       "<Figure size 640x480 with 1 Axes>"
      ]
     },
     "metadata": {},
     "output_type": "display_data"
    },
    {
     "data": {
      "image/png": "[encoded data removed]",
      "text/plain": [
       "<Figure size 640x480 with 1 Axes>"
      ]
     },
     "metadata": {},
     "output_type": "display_data"
    }
   ],
   "source": [
    "%%time\n",
    "\n",
    "import tensorflow as tf\n",
    "import shutil\n",
    "from tensorflow.keras import callbacks\n",
    "\n",
    "tf.random.set_seed(33)\n",
    "\n",
    "MODEL_DIR = os.path.join(LOGDIR, 'dnn')\n",
    "shutil.rmtree(MODEL_DIR, ignore_errors=True)\n",
    "\n",
    "BATCH_SIZE = 300\n",
    "EPOCHS = 100\n",
    "EMBED_DIM = 10\n",
    "PATIENCE = 10\n",
    "\n",
    "dnn_model = build_dnn_model(embed_dim=EMBED_DIM)\n",
    "\n",
    "dnn_history = dnn_model.fit(\n",
    "\tX_train, Y_train,\n",
    "\tepochs=EPOCHS,\n",
    "\tbatch_size=BATCH_SIZE,\n",
    "\tvalidation_data=(X_valid, Y_valid),\n",
    "\tcallbacks=[callbacks.EarlyStopping(patience=PATIENCE)]\n",
    ")\n",
    "\n",
    "pd.DataFrame(dnn_history.history)[['loss', 'val_loss']].plot()\n",
    "pd.DataFrame(dnn_history.history)[['accuracy', 'val_accuracy']].plot()\n",
    "\n",
    "dnn_model.summary()"
   ]
  },
  {
   "attachments": {},
   "cell_type": "markdown",
   "metadata": {},
   "source": [
    "---"
   ]
  },
  {
   "attachments": {},
   "cell_type": "markdown",
   "metadata": {},
   "source": [
    "# Design Pattern 3: Feature Cross"
   ]
  },
  {
   "attachments": {},
   "cell_type": "markdown",
   "metadata": {},
   "source": [
    "## Feature Cross in Tensorflow"
   ]
  },
  {
   "cell_type": "code",
   "execution_count": 14,
   "metadata": {},
   "outputs": [],
   "source": [
    "import os\n",
    "import tensorflow as tf\n",
    "import datetime\n",
    "from tensorflow import keras\n",
    "from tensorflow.keras import layers\n",
    "from tensorflow import feature_column as fc"
   ]
  },
  {
   "cell_type": "code",
   "execution_count": 15,
   "metadata": {},
   "outputs": [],
   "source": [
    "CSV_COLUMNS = [\n",
    "\t'weight_pounds',\n",
    "\t'is_male',\n",
    "\t'mother_age',\n",
    "\t'plurality',\n",
    "  'gestation_weeks',\n",
    "  'mother_race'\n",
    "]\n",
    "LABEL_COLUMN = \"weight_pounds\"\n",
    "DEFAULTS = [[0.0], [\"null\"], [0.0], [\"null\"], [0.0], [\"null\"]]  # set default values for each column"
   ]
  },
  {
   "cell_type": "code",
   "execution_count": 16,
   "metadata": {},
   "outputs": [],
   "source": [
    "def features_and_labels(row_data):\n",
    "  \"\"\"Splits fatures and labels from feature dictionary\n",
    "  Args:\n",
    "    row_data: Dictionary of CSV column names and tensor values\n",
    "  Returns:\n",
    "    Dictionary of feature tensors and label tensors\n",
    "  \"\"\"\n",
    "  label = row_data.pop(LABEL_COLUMN)\n",
    "  return row_data, label\n",
    "\n",
    "def load_dataset(pattern, batch_size=1, mode=tf.estimator.ModeKeys.EVAL):\n",
    "  \"\"\"Loads dataset using the tf.data API from CSV files.\n",
    "  Args:\n",
    "    pattern: str, file pattern to glob into list of files\n",
    "    batch_size: int, the number of exmaples per batch\n",
    "    mode: tf.estimator.ModeKeys to determine if training or evaluation\n",
    "  Returns:\n",
    "    `Dataset` object\n",
    "  \"\"\"\n",
    "  # Make a CSV dataset\n",
    "  dataset = tf.data.experimental.make_csv_dataset(\n",
    "    file_pattern=pattern,\n",
    "    batch_size=batch_size,\n",
    "    column_names=CSV_COLUMNS,\n",
    "    column_defaults=DEFAULTS\n",
    "  )\n",
    "  \n",
    "  # Map dataset to features and labels\n",
    "  dataset = dataset.map(map_func=features_and_labels)\n",
    "  \n",
    "  # Shuffle and repeat for training\n",
    "  if mode == tf.estimator.ModeKeys.TRAIN:\n",
    "    dataset = dataset.shuffle(buffer_size=1000).repeat()\n",
    "  \n",
    "  # Take advantage of multi-threading; 1=AUTOTUNE\n",
    "  dataset = dataset.prefetch(buffer_size=1)\n",
    "\n",
    "  return dataset\n",
    "  "
   ]
  },
  {
   "cell_type": "code",
   "execution_count": 17,
   "metadata": {},
   "outputs": [],
   "source": [
    "def create_input_layers():\n",
    "  \"\"\"Creates a dictionary of input layers for each feature.\n",
    "  \n",
    "  Returns:\n",
    "    Dictionary of `tf.keras.layers.Input` layers for each input\n",
    "  \"\"\"\n",
    "  inputs = {\n",
    "    colname: tf.keras.layers.Input(\n",
    "      name=colname,\n",
    "      shape=(),\n",
    "      dtype='float32'\n",
    "    ) for colname in [\"mother_age\", \"gestation_weeks\"]\n",
    "  }\n",
    "  \n",
    "  inputs.update({\n",
    "    colname: tf.keras.layers.Input(\n",
    "      name=colname,\n",
    "      shape=(),\n",
    "      dtype='string'\n",
    "    ) for colname in [\"is_male\", \"plurality\", \"mother_race\"]\n",
    "  })\n",
    "\n",
    "  return inputs"
   ]
  },
  {
   "cell_type": "code",
   "execution_count": 18,
   "metadata": {},
   "outputs": [],
   "source": [
    "# To implement a feature cross in tensorflow, we use the tf.feature_column.crossed_column function\n",
    "# It takes 2 arguments: (1) list of feature keys to be crossed (2) hash bucket size\n",
    "# The features once crossed will be hashed according to the hash bucket size, so it must be large\n",
    "# enought to accomodate the new set of variables\n",
    "def categorical_fc(name, values):\n",
    "  cat_column = fc.categorical_column_with_vocabulary_list(\n",
    "    key=name,\n",
    "    vocabulary_list=values\n",
    "  )\n",
    "  return fc.indicator_column(categorical_column=cat_column)\n",
    "\n",
    "def create_feature_columns():\n",
    "  feature_columns = {\n",
    "    colname: fc.numeric_column(key=colname) \\\n",
    "      for colname in [\"mother_age\", \"gestation_weeks\"]\n",
    "  }\n",
    "  \n",
    "  feature_columns[\"is_male\"] = categorical_fc(\n",
    "    \"is_male\",\n",
    "    [\"True\", \"False\", \"Unknown\"]\n",
    "  )\n",
    "  feature_columns[\"plurality\"] = categorical_fc(\n",
    "    \"plurality\",\n",
    "    [\"Single(1)\", \"Twins(2)\", \"Triplets(3)\", \"Quadruplets(4)\", \"Quintuplets(5)\", \"Multiple(2+)\"]\n",
    "  )\n",
    "  feature_columns[\"mother_race\"] = fc.indicator_column(\n",
    "    fc.categorical_column_with_hash_bucket(\n",
    "      \"mother_race\",\n",
    "      hash_bucket_size=17,\n",
    "      dtype=tf.dtypes.string\n",
    "    )\n",
    "  )\n",
    "  # crossed feature\n",
    "  feature_columns[\"gender_x_plurality\"] = fc.embedding_column(\n",
    "    fc.crossed_column(\n",
    "      [\"is_male\", \"plurality\"],\n",
    "      hash_bucket_size=18\n",
    "    ),\n",
    "    dimension=2\n",
    "  )\n",
    "  \n",
    "  return feature_columns"
   ]
  },
  {
   "cell_type": "code",
   "execution_count": 19,
   "metadata": {},
   "outputs": [
    {
     "name": "stdout",
     "output_type": "stream",
     "text": [
      "Feature columns keys: \n",
      "['mother_age', 'gestation_weeks', 'is_male', 'plurality', 'mother_race', 'gender_x_plurality']\n",
      "\n",
      "Feature columns values: \n",
      "[NumericColumn(key='mother_age', shape=(1,), default_value=None, dtype=tf.float32, normalizer_fn=None), NumericColumn(key='gestation_weeks', shape=(1,), default_value=None, dtype=tf.float32, normalizer_fn=None), IndicatorColumn(categorical_column=VocabularyListCategoricalColumn(key='is_male', vocabulary_list=('True', 'False', 'Unknown'), dtype=tf.string, default_value=-1, num_oov_buckets=0)), IndicatorColumn(categorical_column=VocabularyListCategoricalColumn(key='plurality', vocabulary_list=('Single(1)', 'Twins(2)', 'Triplets(3)', 'Quadruplets(4)', 'Quintuplets(5)', 'Multiple(2+)'), dtype=tf.string, default_value=-1, num_oov_buckets=0)), IndicatorColumn(categorical_column=HashedCategoricalColumn(key='mother_race', hash_bucket_size=17, dtype=tf.string)), EmbeddingColumn(categorical_column=CrossedColumn(keys=('is_male', 'plurality'), hash_bucket_size=18, hash_key=None), dimension=2, combiner='mean', initializer=<tensorflow.python.ops.init_ops.TruncatedNormal object at 0x000001826E83A940>, ckpt_to_load_from=None, tensor_name_in_ckpt=None, max_norm=None, trainable=True, use_safe_embedding_lookup=True)]\n",
      "\n"
     ]
    }
   ],
   "source": [
    "feature_columns = create_feature_columns()\n",
    "print(\"Feature columns keys: \\n{}\\n\".format(list(feature_columns.keys())))\n",
    "print(\"Feature columns values: \\n{}\\n\".format(list(feature_columns.values())))"
   ]
  },
  {
   "cell_type": "code",
   "execution_count": 20,
   "metadata": {},
   "outputs": [],
   "source": [
    "# Define the DNN Model\n",
    "def get_model_outputs(inputs):\n",
    "  h1 = layers.Dense(64, activation='relu', name='h1')(inputs)\n",
    "  h2 = layers.Dense(32, activation='relu', name='h2')(h1)\n",
    "  output = layers.Dense(units=1, activation='linear', name='weight')(h2)\n",
    "  return output\n",
    "\n",
    "def rmse(y_true, y_pred):\n",
    "  return tf.sqrt(tf.reduce_mean((y_pred - y_true) ** 2))"
   ]
  },
  {
   "cell_type": "code",
   "execution_count": 21,
   "metadata": {},
   "outputs": [
    {
     "name": "stdout",
     "output_type": "stream",
     "text": [
      "Here is our DNN architecture so far:\n",
      "\n",
      "Model: \"model_1\"\n",
      "__________________________________________________________________________________________________\n",
      " Layer (type)                   Output Shape         Param #     Connected to                     \n",
      "==================================================================================================\n",
      " gestation_weeks (InputLayer)   [(None,)]            0           []                               \n",
      "                                                                                                  \n",
      " is_male (InputLayer)           [(None,)]            0           []                               \n",
      "                                                                                                  \n",
      " mother_age (InputLayer)        [(None,)]            0           []                               \n",
      "                                                                                                  \n",
      " mother_race (InputLayer)       [(None,)]            0           []                               \n",
      "                                                                                                  \n",
      " plurality (InputLayer)         [(None,)]            0           []                               \n",
      "                                                                                                  \n",
      " dense_features_1 (DenseFeature  (None, 30)          36          ['gestation_weeks[0][0]',        \n",
      " s)                                                               'is_male[0][0]',                \n",
      "                                                                  'mother_age[0][0]',             \n",
      "                                                                  'mother_race[0][0]',            \n",
      "                                                                  'plurality[0][0]']              \n",
      "                                                                                                  \n",
      " h1 (Dense)                     (None, 64)           1984        ['dense_features_1[0][0]']       \n",
      "                                                                                                  \n",
      " h2 (Dense)                     (None, 32)           2080        ['h1[0][0]']                     \n",
      "                                                                                                  \n",
      " weight (Dense)                 (None, 1)            33          ['h2[0][0]']                     \n",
      "                                                                                                  \n",
      "==================================================================================================\n",
      "Total params: 4,133\n",
      "Trainable params: 4,133\n",
      "Non-trainable params: 0\n",
      "__________________________________________________________________________________________________\n",
      "None\n"
     ]
    }
   ],
   "source": [
    "def build_dnn_model():\n",
    "  inputs = create_input_layers()\n",
    "  \n",
    "  feature_columns = create_feature_columns()\n",
    "  \n",
    "  # Constructor for DenseFeatures takes a list of numeric columns\n",
    "  # Functional API in Keras requires: LayerConstructor()(inputs)\n",
    "  dnn_inputs = layers.DenseFeatures(\n",
    "\t\tfeature_columns=feature_columns.values()\n",
    "\t)(inputs)\n",
    "  \n",
    "  output = get_model_outputs(dnn_inputs)\n",
    "  \n",
    "  model = tf.keras.Model(inputs=inputs, outputs=output)\n",
    "  model.compile(optimizer='adam', loss='mse', metrics=[rmse, 'mse'])\n",
    "  \n",
    "  return model\n",
    "\n",
    "print(\"Here is our DNN architecture so far:\\n\")\n",
    "model = build_dnn_model()\n",
    "print(model.summary())"
   ]
  },
  {
   "cell_type": "code",
   "execution_count": 22,
   "metadata": {},
   "outputs": [
    {
     "name": "stdout",
     "output_type": "stream",
     "text": [
      "You must install pydot (`pip install pydot`) and install graphviz (see instructions at https://graphviz.gitlab.io/download/) for plot_model to work.\n"
     ]
    }
   ],
   "source": [
    "tf.keras.utils.plot_model(\n",
    "\tmodel=model,\n",
    "\tshow_shapes=False,\n",
    " \trankdir=\"LR\"\n",
    ")"
   ]
  },
  {
   "cell_type": "code",
   "execution_count": 23,
   "metadata": {},
   "outputs": [
    {
     "name": "stdout",
     "output_type": "stream",
     "text": [
      "Epoch 1/5\n",
      "31/31 [==============================] - 5s 59ms/step - loss: 18.8096 - rmse: 3.4453 - mse: 18.8096 - val_loss: 3.2278 - val_rmse: 1.7966 - val_mse: 3.2278\n",
      "Epoch 2/5\n",
      "31/31 [==============================] - 1s 17ms/step - loss: 1.4383 - rmse: 1.1849 - mse: 1.4383 - val_loss: 1.3445 - val_rmse: 1.1595 - val_mse: 1.3445\n",
      "Epoch 3/5\n",
      "31/31 [==============================] - 1s 17ms/step - loss: 1.3893 - rmse: 1.1640 - mse: 1.3893 - val_loss: 1.2765 - val_rmse: 1.1298 - val_mse: 1.2765\n",
      "Epoch 4/5\n",
      "31/31 [==============================] - 1s 17ms/step - loss: 1.2533 - rmse: 1.1092 - mse: 1.2533 - val_loss: 1.2692 - val_rmse: 1.1266 - val_mse: 1.2692\n",
      "Epoch 5/5\n",
      "31/31 [==============================] - 0s 16ms/step - loss: 1.2772 - rmse: 1.1154 - mse: 1.2772 - val_loss: 1.1102 - val_rmse: 1.0537 - val_mse: 1.1102\n",
      "CPU times: total: 7.66 s\n",
      "Wall time: 7.04 s\n"
     ]
    }
   ],
   "source": [
    "%%time\n",
    "\n",
    "tf.random.set_seed(33)\n",
    "\n",
    "TRAIN_BATCH_SIZE = 32\n",
    "NUM_TRAIN_EXAMPLES = 1000 * 5\n",
    "NUM_EVALS = 5\n",
    "NUM_EVAL_EXAMPLES = 1000\n",
    "\n",
    "trainds = load_dataset(\n",
    "\tpattern=\"data/babyweight_train.csv\",\n",
    "\tbatch_size=TRAIN_BATCH_SIZE,\n",
    "\tmode=tf.estimator.ModeKeys.TRAIN\n",
    ")\n",
    "\n",
    "evalds = load_dataset(\n",
    "\tpattern=\"data/babyweight_eval.csv\",\n",
    "\tbatch_size=1000,\n",
    "\tmode=tf.estimator.ModeKeys.EVAL\n",
    ").take(count=NUM_EVAL_EXAMPLES // 1000)\n",
    "\n",
    "steps_per_epoch = NUM_TRAIN_EXAMPLES // (TRAIN_BATCH_SIZE * NUM_EVALS)\n",
    "\n",
    "history = model.fit(\n",
    "\ttrainds,\n",
    "\tvalidation_data=evalds,\n",
    "\tepochs=NUM_EVALS,\n",
    "\tsteps_per_epoch=steps_per_epoch\n",
    ")"
   ]
  },
  {
   "attachments": {},
   "cell_type": "markdown",
   "metadata": {},
   "source": [
    "---"
   ]
  },
  {
   "attachments": {},
   "cell_type": "markdown",
   "metadata": {},
   "source": [
    "# Design Pattern 4: Multimodal Inputs\n",
    "\n",
    "Both: \n",
    "\n",
    "* Combining different types of data together\n",
    "* Representing the same input in multiple formats"
   ]
  },
  {
   "cell_type": "code",
   "execution_count": 1,
   "metadata": {},
   "outputs": [],
   "source": [
    "import numpy as np\n",
    "import pandas as pd\n",
    "import tensorflow as tf\n",
    "\n",
    "from tensorflow import keras\n",
    "from keras import Model\n",
    "from keras.layers import Dense, Embedding, Input, Flatten, Conv2D, MaxPooling2D"
   ]
  },
  {
   "attachments": {},
   "cell_type": "markdown",
   "metadata": {},
   "source": [
    "## Combining text and tabular inputs"
   ]
  },
  {
   "cell_type": "code",
   "execution_count": 3,
   "metadata": {},
   "outputs": [],
   "source": [
    "reviews_data = {\n",
    "\t\"review_text\": [\"The food was great, but it took forever to get seated.\", \"The tacos were life changing.\", \"This food made me question the presence of my taste buds.\"],\n",
    "\t\"meal_type\": [\"lunch\", \"dinner\", \"dinner\"],\n",
    "\t\"meal_total\": [50, 75, 60],\n",
    "\t\"rating\": [4, 5, 1]\n",
    "}"
   ]
  },
  {
   "cell_type": "code",
   "execution_count": 4,
   "metadata": {},
   "outputs": [
    {
     "name": "stdout",
     "output_type": "stream",
     "text": [
      "[[ 1  2  3  4  5  6  7  8  9 10 11  0  0  0  0  0  0  0  0  0]\n",
      " [ 1 12 13 14 15  0  0  0  0  0  0  0  0  0  0  0  0  0  0  0]\n",
      " [16  2 17 18 19  1 20 21 22 23 24  0  0  0  0  0  0  0  0  0]]\n"
     ]
    }
   ],
   "source": [
    "# Process review_text to be fed as an embedding\n",
    "vocab_size = 50\n",
    "tokenize = keras.preprocessing.text.Tokenizer(num_words=vocab_size)\n",
    "tokenize.fit_on_texts(reviews_data['review_text'])\n",
    "\n",
    "reviews_train = tokenize.texts_to_sequences(reviews_data['review_text'])\n",
    "max_sequence_len = 20\n",
    "reviews_train = keras.preprocessing.sequence.pad_sequences(\n",
    "\treviews_train,\n",
    "  maxlen=max_sequence_len,\n",
    "  padding='post'\n",
    ")\n",
    "\n",
    "print(reviews_train)"
   ]
  },
  {
   "cell_type": "code",
   "execution_count": 5,
   "metadata": {},
   "outputs": [],
   "source": [
    "# Convert meal_type into a one-hot\n",
    "possible_meal_vocab = ['breakfast', 'lunch', 'dinner']\n",
    "one_hot_meals = []\n",
    "\n",
    "for i in reviews_data['meal_type']:\n",
    "  one_hot_arr = [0] * len(possible_meal_vocab)\n",
    "  one_index = possible_meal_vocab.index(i)\n",
    "  one_hot_arr[one_index] = 1\n",
    "  one_hot_meals.append(one_hot_arr)"
   ]
  },
  {
   "cell_type": "code",
   "execution_count": 6,
   "metadata": {},
   "outputs": [
    {
     "data": {
      "text/plain": [
       "array([[ 0,  1,  0, 50],\n",
       "       [ 0,  0,  1, 75],\n",
       "       [ 0,  0,  1, 60]])"
      ]
     },
     "execution_count": 6,
     "metadata": {},
     "output_type": "execute_result"
    }
   ],
   "source": [
    "# Combine one-hot meal_type with meal_total into single array\n",
    "tabular_features = np.concatenate(\n",
    "  (\n",
    "\t\tnp.array(one_hot_meals),\n",
    "\t\tnp.expand_dims(reviews_data['meal_total'], axis=1)\n",
    "\t),\n",
    "  axis=1                                \n",
    ")\n",
    "tabular_features"
   ]
  },
  {
   "cell_type": "code",
   "execution_count": 7,
   "metadata": {},
   "outputs": [],
   "source": [
    "# Build tabular and embedding layers with Keras Functional API\n",
    "batch_size = len(reviews_data['review_text'])\n",
    "\n",
    "embedding_input = Input(shape=(max_sequence_len, ))\n",
    "embedding_layer = Embedding(batch_size, 64)(embedding_input)\n",
    "embedding_layer = Flatten()(embedding_layer)\n",
    "embedding_layer = Dense(3, activation='relu')(embedding_layer)\n",
    "\n",
    "tabular_input = Input(shape=(len(tabular_features[0]), ))\n",
    "tabular_layer = Dense(32, activation='relu')(tabular_input)"
   ]
  },
  {
   "cell_type": "code",
   "execution_count": 8,
   "metadata": {},
   "outputs": [
    {
     "name": "stdout",
     "output_type": "stream",
     "text": [
      "Model: \"model\"\n",
      "__________________________________________________________________________________________________\n",
      " Layer (type)                   Output Shape         Param #     Connected to                     \n",
      "==================================================================================================\n",
      " input_1 (InputLayer)           [(None, 20)]         0           []                               \n",
      "                                                                                                  \n",
      " embedding (Embedding)          (None, 20, 64)       192         ['input_1[0][0]']                \n",
      "                                                                                                  \n",
      " flatten (Flatten)              (None, 1280)         0           ['embedding[0][0]']              \n",
      "                                                                                                  \n",
      " input_2 (InputLayer)           [(None, 4)]          0           []                               \n",
      "                                                                                                  \n",
      " dense (Dense)                  (None, 3)            3843        ['flatten[0][0]']                \n",
      "                                                                                                  \n",
      " dense_1 (Dense)                (None, 32)           160         ['input_2[0][0]']                \n",
      "                                                                                                  \n",
      " concatenate (Concatenate)      (None, 35)           0           ['dense[0][0]',                  \n",
      "                                                                  'dense_1[0][0]']                \n",
      "                                                                                                  \n",
      " dense_2 (Dense)                (None, 16)           576         ['concatenate[0][0]']            \n",
      "                                                                                                  \n",
      " dense_3 (Dense)                (None, 1)            17          ['dense_2[0][0]']                \n",
      "                                                                                                  \n",
      "==================================================================================================\n",
      "Total params: 4,788\n",
      "Trainable params: 4,788\n",
      "Non-trainable params: 0\n",
      "__________________________________________________________________________________________________\n"
     ]
    }
   ],
   "source": [
    "# Concatenate layers into a model\n",
    "merged_inputs = keras.layers.concatenate([embedding_layer, tabular_layer])\n",
    "merged_dense = Dense(16)(merged_inputs)\n",
    "output = Dense(1)(merged_dense)\n",
    "\n",
    "model = Model(inputs=[embedding_input, tabular_input], outputs=output)\n",
    "\n",
    "model.summary()"
   ]
  },
  {
   "attachments": {},
   "cell_type": "markdown",
   "metadata": {},
   "source": [
    "## Tabular Data Multiple Ways\n",
    "\n",
    "Representing rating as a feature in 2 different ways"
   ]
  },
  {
   "cell_type": "code",
   "execution_count": 9,
   "metadata": {},
   "outputs": [
    {
     "name": "stdout",
     "output_type": "stream",
     "text": [
      "[[4, 1], [5, 1], [1, 0]]\n"
     ]
    }
   ],
   "source": [
    "def good_or_bad(rating):\n",
    "  if rating > 3:\n",
    "    return 1\n",
    "  else:\n",
    "    return 0\n",
    "\n",
    "rating_processed = []\n",
    "\n",
    "for i in reviews_data['rating']:\n",
    "  rating_processed.append([i, good_or_bad(i)])\n",
    "\n",
    "print(rating_processed)"
   ]
  },
  {
   "attachments": {},
   "cell_type": "markdown",
   "metadata": {},
   "source": [
    "## Mixed Text Representations\n",
    "\n",
    "Use a Stack Overflow dataset containing questions and answers related to tensorflow, keras and ML related questions to create a model that represents text both as an _Embedding_ and a _Bag of Words_"
   ]
  },
  {
   "cell_type": "code",
   "execution_count": null,
   "metadata": {},
   "outputs": [],
   "source": [
    "%%bigquery df --project your-project\n",
    "SELECT\n",
    "  title,\n",
    "  answer_count,\n",
    "  REPLACE(tags, \"|\", \",\") as tags\n",
    "FROM\n",
    "  `bigquery-public-data.stackoverflow.posts_questions`\n",
    "WHERE\n",
    "  REGEXP_CONTAINS( tags, r\"(?:keras|matplotlib|pandas)\")\n",
    "LIMIT 1000"
   ]
  },
  {
   "cell_type": "code",
   "execution_count": null,
   "metadata": {},
   "outputs": [],
   "source": [
    "df.head()"
   ]
  },
  {
   "cell_type": "code",
   "execution_count": null,
   "metadata": {},
   "outputs": [],
   "source": [
    "# Define the vocab size and max sequence length + Vectorizer\n",
    "stacko_vocab_size = 200\n",
    "stacko_sequence_len = 40\n",
    "\n",
    "stacko_tokenize = keras.preprocessing.text.Tokenizer(\n",
    "\tnum_words=stacko_vocab_size\n",
    ")\n",
    "stacko_tokenize.fit_on_texts(df['title'].values)\n",
    "list(stacko_tokenize.word_index.keys())[:20]"
   ]
  },
  {
   "cell_type": "code",
   "execution_count": null,
   "metadata": {},
   "outputs": [],
   "source": [
    "# Convert questions to sequences for Embedding representation\n",
    "questions_train_embedding = stacko_tokenize.texts_to_sequences(df['title'].values)\n",
    "questions_train_embedding = keras.preprocessing.sequence.pad_sequences(\n",
    "\tquestions_train_embedding,\n",
    "\tmaxlen=stacko_sequence_len,\n",
    "\tpadding='post'\n",
    ")\n",
    "questions_train_embedding[0]"
   ]
  },
  {
   "cell_type": "code",
   "execution_count": null,
   "metadata": {},
   "outputs": [],
   "source": [
    "# Create BoW representation\n",
    "questions_train_matrix = stacko_tokenize.texts_to_matrix(df['title'].values)\n",
    "questions_train_matrix[0]"
   ]
  },
  {
   "cell_type": "code",
   "execution_count": null,
   "metadata": {},
   "outputs": [],
   "source": [
    "# Create Embedding and BoW input layers\n",
    "batch_size = len(df)\n",
    "\n",
    "embedding_input = Input(shape=(stacko_sequence_len,))\n",
    "embedding_layer = Embedding(batch_size, 64)(embedding_input)\n",
    "embedding_layer = Flatten()(embedding_layer)\n",
    "embedding_layer = Dense(32, activation='relu')(embedding_layer)\n",
    "\n",
    "bow_input = Input(shape=(stacko_vocab_size,))\n",
    "bow_layer = Dense(32, activatation='relu')(bow_input)"
   ]
  },
  {
   "cell_type": "code",
   "execution_count": null,
   "metadata": {},
   "outputs": [],
   "source": [
    "# Create the model with the Embeddings and BoW layers\n",
    "merged_text_inputs = keras.layers.concatenate([embedding_layer, bow_layer])\n",
    "merged_dense_text = Dense(16)(merged_text_inputs)\n",
    "merged_output = Dense(1)(merged_dense_text)\n",
    "\n",
    "model = Model(inputs=[embedding_input, bow_input], output=merged_output)\n",
    "model.summary()"
   ]
  },
  {
   "attachments": {},
   "cell_type": "markdown",
   "metadata": {},
   "source": [
    "## Mixed Image Representations\n",
    "\n",
    "No dataset used here. Example here merges both pixel values and tiled representations"
   ]
  },
  {
   "cell_type": "code",
   "execution_count": 10,
   "metadata": {},
   "outputs": [],
   "source": [
    "import tensorflow as tf\n",
    "import tensorflow.keras as keras\n",
    "from tensorflow.keras import Input, Model\n",
    "from tensorflow.keras.layers import Flatten, Conv2D, MaxPooling2D, Dense\n",
    "\n",
    "# Define image input layer (same shape for both pixel and tiled representations)\n",
    "image_input = Input(shape=(28, 28, 3))\n",
    "\n",
    "# Define pixel representation\n",
    "pixel_layer = Flatten()(image_input)\n",
    "\n",
    "# Define tiled representation\n",
    "tiled_layer = Conv2D(\n",
    "\tfilters=16,\n",
    "\tkernel_size=3,\n",
    " \tactivation='relu'\n",
    ")(image_input)\n",
    "tiled_layer = MaxPooling2D()(tiled_layer)\n",
    "tiled_layer = tf.keras.layers.Flatten()(tiled_layer)"
   ]
  },
  {
   "cell_type": "code",
   "execution_count": 11,
   "metadata": {},
   "outputs": [],
   "source": [
    "merged_image_layers = keras.layers.concatenate([pixel_layer, tiled_layer])\n",
    "merged_dense = Dense(16, activation='relu')(merged_image_layers)\n",
    "merged_output = Dense(1)(merged_dense)\n",
    "\n",
    "mixed_image_model = Model(inputs=image_input, outputs=merged_output)"
   ]
  },
  {
   "cell_type": "code",
   "execution_count": 12,
   "metadata": {},
   "outputs": [
    {
     "name": "stdout",
     "output_type": "stream",
     "text": [
      "Model: \"model\"\n",
      "__________________________________________________________________________________________________\n",
      " Layer (type)                   Output Shape         Param #     Connected to                     \n",
      "==================================================================================================\n",
      " input_6 (InputLayer)           [(None, 28, 28, 3)]  0           []                               \n",
      "                                                                                                  \n",
      " conv2d_3 (Conv2D)              (None, 26, 26, 16)   448         ['input_6[0][0]']                \n",
      "                                                                                                  \n",
      " max_pooling2d_2 (MaxPooling2D)  (None, 13, 13, 16)  0           ['conv2d_3[0][0]']               \n",
      "                                                                                                  \n",
      " flatten_6 (Flatten)            (None, 2352)         0           ['input_6[0][0]']                \n",
      "                                                                                                  \n",
      " flatten_7 (Flatten)            (None, 2704)         0           ['max_pooling2d_2[0][0]']        \n",
      "                                                                                                  \n",
      " concatenate_2 (Concatenate)    (None, 5056)         0           ['flatten_6[0][0]',              \n",
      "                                                                  'flatten_7[0][0]']              \n",
      "                                                                                                  \n",
      " dense_2 (Dense)                (None, 16)           80912       ['concatenate_2[0][0]']          \n",
      "                                                                                                  \n",
      " dense_3 (Dense)                (None, 1)            17          ['dense_2[0][0]']                \n",
      "                                                                                                  \n",
      "==================================================================================================\n",
      "Total params: 81,377\n",
      "Trainable params: 81,377\n",
      "Non-trainable params: 0\n",
      "__________________________________________________________________________________________________\n"
     ]
    }
   ],
   "source": [
    "mixed_image_model.summary()"
   ]
  },
  {
   "attachments": {},
   "cell_type": "markdown",
   "metadata": {},
   "source": [
    "### Combining images and metadata\n",
    "\n",
    "Combination of image data through a convolutional layer and metadata (of various types) represented as tabular data"
   ]
  },
  {
   "cell_type": "code",
   "execution_count": 1,
   "metadata": {},
   "outputs": [],
   "source": [
    "import tensorflow as tf\n",
    "import tensorflow.keras as keras\n",
    "from tensorflow.keras import Input, Model\n",
    "from tensorflow.keras.layers import Flatten, Conv2D, MaxPooling2D, Dense\n",
    "import numpy as np\n",
    "\n",
    "tabular_image_metadata = {\n",
    "  'time': [9,10,2],\n",
    "\t'visibility': [0.2, 0.5, 0.1],\n",
    "\t'inclement_weather': [[0,0,1], [0,0,1], [1,0,0]],\n",
    "\t'location': [[0,1,0,0,0], [0,0,0,1,0], [1,0,0,0,0]] \n",
    "}"
   ]
  },
  {
   "cell_type": "code",
   "execution_count": 3,
   "metadata": {},
   "outputs": [
    {
     "data": {
      "text/plain": [
       "array([[ 9. ,  0.2,  0. ,  0. ,  1. ,  0. ,  1. ,  0. ,  0. ,  0. ],\n",
       "       [10. ,  0.5,  0. ,  0. ,  1. ,  0. ,  0. ,  0. ,  1. ,  0. ],\n",
       "       [ 2. ,  0.1,  1. ,  0. ,  0. ,  1. ,  0. ,  0. ,  0. ,  0. ]])"
      ]
     },
     "execution_count": 3,
     "metadata": {},
     "output_type": "execute_result"
    }
   ],
   "source": [
    "# Concatenate all tabular data\n",
    "tabular_image_features = np.concatenate((\n",
    "    np.expand_dims(tabular_image_metadata['time'], axis=1),\n",
    "    np.expand_dims(tabular_image_metadata['visibility'], axis=1),    \n",
    "    np.array(tabular_image_metadata['inclement_weather']),\n",
    "    np.array(tabular_image_metadata['location'])\n",
    "), axis=1)\n",
    "tabular_image_features"
   ]
  },
  {
   "cell_type": "code",
   "execution_count": null,
   "metadata": {},
   "outputs": [],
   "source": [
    "# Define tabular layer \n",
    "image_tabular_input = Input(shape=(len(tabular_image_features[0]), ))\n",
    "image_tabular_layer = Dense(32, activation='relu')(image_tabular_input)"
   ]
  },
  {
   "cell_type": "code",
   "execution_count": null,
   "metadata": {},
   "outputs": [],
   "source": [
    "# Merge tabular data with tiled layer\n",
    "mixed_image_layer = keras.layers.concatenate([image_tabular_layer, tiled_layer])\n",
    "\n",
    "merged_image_dense = Dense(16, activation='relu')(mixed_image_layer)\n",
    "merged_image_output = Dense(1)(merged_image_dense)\n",
    "\n",
    "mixed_image_tabular_model = Model(inputs=[image_tabular_input, tiled_input], outputs=merged_image_output)"
   ]
  }
 ],
 "metadata": {
  "kernelspec": {
   "display_name": "Python 3.8.5 64-bit",
   "language": "python",
   "name": "python3"
  },
  "language_info": {
   "codemirror_mode": {
    "name": "ipython",
    "version": 3
   },
   "file_extension": ".py",
   "mimetype": "text/x-python",
   "name": "python",
   "nbconvert_exporter": "python",
   "pygments_lexer": "ipython3",
   "version": "3.8.5"
  },
  "orig_nbformat": 4,
  "vscode": {
   "interpreter": {
    "hash": "fc1f4863a5dfb7e90f6f0646481ce38df4cdefdf4614ba08727c157218b20914"
   }
  }
 },
 "nbformat": 4,
 "nbformat_minor": 2
}
